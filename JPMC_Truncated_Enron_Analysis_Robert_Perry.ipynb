{
 "cells": [
  {
   "cell_type": "markdown",
   "id": "98ee2981-aab6-48db-abec-fb229bc9c335",
   "metadata": {},
   "source": [
    "## Setup\n",
    "For my tests, I used a RTX 2060 Super with 8 GB Memory on a PC running Windows 10 with an Intel i7-7000 8 core processor with 16 GB RAM. Let's check if your device has a GPU. "
   ]
  },
  {
   "cell_type": "code",
   "execution_count": 4,
   "id": "7f8a47bf-e65a-4ac2-bab6-0ab6f7f98265",
   "metadata": {},
   "outputs": [],
   "source": [
    "import tensorflow as tf"
   ]
  },
  {
   "cell_type": "markdown",
   "id": "ad6d9bfc-d8ec-460a-98e9-6409555b6771",
   "metadata": {},
   "source": [
    "Let's check if you have a GPU enabled (A GPU shouldn't be necessary, but speeds of training)."
   ]
  },
  {
   "cell_type": "code",
   "execution_count": 5,
   "id": "ced78b02-b216-4185-a074-6c188cef3823",
   "metadata": {},
   "outputs": [
    {
     "name": "stdout",
     "output_type": "stream",
     "text": [
      "Num GPUs Available:  1\n"
     ]
    }
   ],
   "source": [
    "print(\"Num GPUs Available: \", len(tf.config.list_physical_devices('GPU')))"
   ]
  },
  {
   "cell_type": "markdown",
   "id": "89620aaa-b43f-4332-8066-1ec8e496ee4c",
   "metadata": {},
   "source": [
    "## Load and Explore Data"
   ]
  },
  {
   "cell_type": "code",
   "execution_count": 6,
   "id": "df099179-4f39-482c-891d-ce9168d1f3c2",
   "metadata": {},
   "outputs": [],
   "source": [
    "import pandas as pd"
   ]
  },
  {
   "cell_type": "code",
   "execution_count": 7,
   "id": "cd1ab228-c8e6-4e9c-ab2f-ce0a4f8cf5a1",
   "metadata": {},
   "outputs": [
    {
     "data": {
      "text/html": [
       "<div>\n",
       "<style scoped>\n",
       "    .dataframe tbody tr th:only-of-type {\n",
       "        vertical-align: middle;\n",
       "    }\n",
       "\n",
       "    .dataframe tbody tr th {\n",
       "        vertical-align: top;\n",
       "    }\n",
       "\n",
       "    .dataframe thead th {\n",
       "        text-align: right;\n",
       "    }\n",
       "</style>\n",
       "<table border=\"1\" class=\"dataframe\">\n",
       "  <thead>\n",
       "    <tr style=\"text-align: right;\">\n",
       "      <th></th>\n",
       "      <th>Date</th>\n",
       "      <th>From</th>\n",
       "      <th>To</th>\n",
       "      <th>Subject</th>\n",
       "      <th>content</th>\n",
       "      <th>new_date</th>\n",
       "    </tr>\n",
       "  </thead>\n",
       "  <tbody>\n",
       "    <tr>\n",
       "      <th>0</th>\n",
       "      <td>Mon, 14 May 2001 16:39:00 -0700 (PDT)</td>\n",
       "      <td>frozenset({'phillip.allen@enron.com'})</td>\n",
       "      <td>frozenset({'tim.belden@enron.com'})</td>\n",
       "      <td>NaN</td>\n",
       "      <td>Here is our forecast\\n\\n</td>\n",
       "      <td>2001-05-14 23:39:00</td>\n",
       "    </tr>\n",
       "    <tr>\n",
       "      <th>1</th>\n",
       "      <td>Fri, 4 May 2001 13:51:00 -0700 (PDT)</td>\n",
       "      <td>frozenset({'phillip.allen@enron.com'})</td>\n",
       "      <td>frozenset({'john.lavorato@enron.com'})</td>\n",
       "      <td>Re:</td>\n",
       "      <td>Traveling to have a business meeting takes the...</td>\n",
       "      <td>2001-05-04 20:51:00</td>\n",
       "    </tr>\n",
       "    <tr>\n",
       "      <th>2</th>\n",
       "      <td>Wed, 18 Oct 2000 03:00:00 -0700 (PDT)</td>\n",
       "      <td>frozenset({'phillip.allen@enron.com'})</td>\n",
       "      <td>frozenset({'leah.arsdall@enron.com'})</td>\n",
       "      <td>Re: test</td>\n",
       "      <td>test successful.  way to go!!!</td>\n",
       "      <td>2000-10-18 10:00:00</td>\n",
       "    </tr>\n",
       "    <tr>\n",
       "      <th>3</th>\n",
       "      <td>Mon, 23 Oct 2000 06:13:00 -0700 (PDT)</td>\n",
       "      <td>frozenset({'phillip.allen@enron.com'})</td>\n",
       "      <td>frozenset({'randall.gay@enron.com'})</td>\n",
       "      <td>NaN</td>\n",
       "      <td>Randy,\\n\\n Can you send me a schedule of the s...</td>\n",
       "      <td>2000-10-23 13:13:00</td>\n",
       "    </tr>\n",
       "    <tr>\n",
       "      <th>4</th>\n",
       "      <td>Thu, 31 Aug 2000 05:07:00 -0700 (PDT)</td>\n",
       "      <td>frozenset({'phillip.allen@enron.com'})</td>\n",
       "      <td>frozenset({'greg.piper@enron.com'})</td>\n",
       "      <td>Re: Hello</td>\n",
       "      <td>Let's shoot for Tuesday at 11:45.</td>\n",
       "      <td>2000-08-31 12:07:00</td>\n",
       "    </tr>\n",
       "  </tbody>\n",
       "</table>\n",
       "</div>"
      ],
      "text/plain": [
       "                                    Date  \\\n",
       "0  Mon, 14 May 2001 16:39:00 -0700 (PDT)   \n",
       "1   Fri, 4 May 2001 13:51:00 -0700 (PDT)   \n",
       "2  Wed, 18 Oct 2000 03:00:00 -0700 (PDT)   \n",
       "3  Mon, 23 Oct 2000 06:13:00 -0700 (PDT)   \n",
       "4  Thu, 31 Aug 2000 05:07:00 -0700 (PDT)   \n",
       "\n",
       "                                     From  \\\n",
       "0  frozenset({'phillip.allen@enron.com'})   \n",
       "1  frozenset({'phillip.allen@enron.com'})   \n",
       "2  frozenset({'phillip.allen@enron.com'})   \n",
       "3  frozenset({'phillip.allen@enron.com'})   \n",
       "4  frozenset({'phillip.allen@enron.com'})   \n",
       "\n",
       "                                       To    Subject  \\\n",
       "0     frozenset({'tim.belden@enron.com'})        NaN   \n",
       "1  frozenset({'john.lavorato@enron.com'})        Re:   \n",
       "2   frozenset({'leah.arsdall@enron.com'})   Re: test   \n",
       "3    frozenset({'randall.gay@enron.com'})        NaN   \n",
       "4     frozenset({'greg.piper@enron.com'})  Re: Hello   \n",
       "\n",
       "                                             content            new_date  \n",
       "0                          Here is our forecast\\n\\n  2001-05-14 23:39:00  \n",
       "1  Traveling to have a business meeting takes the... 2001-05-04 20:51:00  \n",
       "2                     test successful.  way to go!!! 2000-10-18 10:00:00  \n",
       "3  Randy,\\n\\n Can you send me a schedule of the s... 2000-10-23 13:13:00  \n",
       "4                Let's shoot for Tuesday at 11:45.   2000-08-31 12:07:00  "
      ]
     },
     "execution_count": 7,
     "metadata": {},
     "output_type": "execute_result"
    }
   ],
   "source": [
    "df = pd.read_csv('enron_test.csv', parse_dates=['new_date'])\n",
    "df.head()"
   ]
  },
  {
   "cell_type": "markdown",
   "id": "f2298d6e-03c4-441b-a4e9-727c903967d7",
   "metadata": {},
   "source": [
    "Let's check our data for null values and properly clean them up."
   ]
  },
  {
   "cell_type": "code",
   "execution_count": 8,
   "id": "9daab4ad-6861-4941-9757-5d57efacbe01",
   "metadata": {},
   "outputs": [
    {
     "name": "stdout",
     "output_type": "stream",
     "text": [
      "<class 'pandas.core.frame.DataFrame'>\n",
      "RangeIndex: 1000 entries, 0 to 999\n",
      "Data columns (total 6 columns):\n",
      " #   Column    Non-Null Count  Dtype         \n",
      "---  ------    --------------  -----         \n",
      " 0   Date      1000 non-null   object        \n",
      " 1   From      1000 non-null   object        \n",
      " 2   To        995 non-null    object        \n",
      " 3   Subject   698 non-null    object        \n",
      " 4   content   1000 non-null   object        \n",
      " 5   new_date  1000 non-null   datetime64[ns]\n",
      "dtypes: datetime64[ns](1), object(5)\n",
      "memory usage: 47.0+ KB\n"
     ]
    }
   ],
   "source": [
    "df.info()"
   ]
  },
  {
   "cell_type": "markdown",
   "id": "eb9ecb85-0491-4232-bb57-d58e3359b9b1",
   "metadata": {},
   "source": [
    "Let's take a look at those emails which are sent to nobody and save that in a separate dataframe. It looks like we can safely drop those rows."
   ]
  },
  {
   "cell_type": "code",
   "execution_count": 9,
   "id": "538e33f3-f15f-4645-9040-33983aac591c",
   "metadata": {},
   "outputs": [
    {
     "data": {
      "text/html": [
       "<div>\n",
       "<style scoped>\n",
       "    .dataframe tbody tr th:only-of-type {\n",
       "        vertical-align: middle;\n",
       "    }\n",
       "\n",
       "    .dataframe tbody tr th {\n",
       "        vertical-align: top;\n",
       "    }\n",
       "\n",
       "    .dataframe thead th {\n",
       "        text-align: right;\n",
       "    }\n",
       "</style>\n",
       "<table border=\"1\" class=\"dataframe\">\n",
       "  <thead>\n",
       "    <tr style=\"text-align: right;\">\n",
       "      <th></th>\n",
       "      <th>Date</th>\n",
       "      <th>From</th>\n",
       "      <th>To</th>\n",
       "      <th>Subject</th>\n",
       "      <th>content</th>\n",
       "      <th>new_date</th>\n",
       "    </tr>\n",
       "  </thead>\n",
       "  <tbody>\n",
       "    <tr>\n",
       "      <th>188</th>\n",
       "      <td>Mon, 1 May 2000 03:56:00 -0700 (PDT)</td>\n",
       "      <td>frozenset({'phillip.allen@enron.com'})</td>\n",
       "      <td>NaN</td>\n",
       "      <td>Re: DSL- Installs</td>\n",
       "      <td>No one will be home on 5/11/00 to meet DSL ins...</td>\n",
       "      <td>2000-05-01 10:56:00</td>\n",
       "    </tr>\n",
       "    <tr>\n",
       "      <th>603</th>\n",
       "      <td>Wed, 13 Dec 2000 08:35:00 -0800 (PST)</td>\n",
       "      <td>frozenset({'messenger@ecm.bloomberg.com'})</td>\n",
       "      <td>NaN</td>\n",
       "      <td>Bloomberg Power Lines Report</td>\n",
       "      <td>Here is today's copy of Bloomberg Power Lines....</td>\n",
       "      <td>2000-12-13 16:35:00</td>\n",
       "    </tr>\n",
       "    <tr>\n",
       "      <th>781</th>\n",
       "      <td>Mon, 1 May 2000 03:56:00 -0700 (PDT)</td>\n",
       "      <td>frozenset({'phillip.allen@enron.com'})</td>\n",
       "      <td>NaN</td>\n",
       "      <td>Re: DSL- Installs</td>\n",
       "      <td>No one will be home on 5/11/00 to meet DSL ins...</td>\n",
       "      <td>2000-05-01 10:56:00</td>\n",
       "    </tr>\n",
       "    <tr>\n",
       "      <th>873</th>\n",
       "      <td>Fri, 7 Jan 2000 16:23:00 -0800 (PST)</td>\n",
       "      <td>frozenset({'owner-strawbale@crest.org'})</td>\n",
       "      <td>NaN</td>\n",
       "      <td>NaN</td>\n",
       "      <td>&lt;4DDE116DBCA1D3118B130080C840BAAD02CD53@ppims....</td>\n",
       "      <td>2000-01-08 00:23:00</td>\n",
       "    </tr>\n",
       "    <tr>\n",
       "      <th>885</th>\n",
       "      <td>Mon, 14 May 2001 09:04:00 -0700 (PDT)</td>\n",
       "      <td>frozenset({'messenger@ecm.bloomberg.com'})</td>\n",
       "      <td>NaN</td>\n",
       "      <td>Bloomberg Power Lines Report</td>\n",
       "      <td>Here is today's copy of Bloomberg Power Lines....</td>\n",
       "      <td>2001-05-14 16:04:00</td>\n",
       "    </tr>\n",
       "  </tbody>\n",
       "</table>\n",
       "</div>"
      ],
      "text/plain": [
       "                                      Date  \\\n",
       "188   Mon, 1 May 2000 03:56:00 -0700 (PDT)   \n",
       "603  Wed, 13 Dec 2000 08:35:00 -0800 (PST)   \n",
       "781   Mon, 1 May 2000 03:56:00 -0700 (PDT)   \n",
       "873   Fri, 7 Jan 2000 16:23:00 -0800 (PST)   \n",
       "885  Mon, 14 May 2001 09:04:00 -0700 (PDT)   \n",
       "\n",
       "                                           From   To  \\\n",
       "188      frozenset({'phillip.allen@enron.com'})  NaN   \n",
       "603  frozenset({'messenger@ecm.bloomberg.com'})  NaN   \n",
       "781      frozenset({'phillip.allen@enron.com'})  NaN   \n",
       "873    frozenset({'owner-strawbale@crest.org'})  NaN   \n",
       "885  frozenset({'messenger@ecm.bloomberg.com'})  NaN   \n",
       "\n",
       "                          Subject  \\\n",
       "188             Re: DSL- Installs   \n",
       "603  Bloomberg Power Lines Report   \n",
       "781             Re: DSL- Installs   \n",
       "873                           NaN   \n",
       "885  Bloomberg Power Lines Report   \n",
       "\n",
       "                                               content            new_date  \n",
       "188  No one will be home on 5/11/00 to meet DSL ins... 2000-05-01 10:56:00  \n",
       "603  Here is today's copy of Bloomberg Power Lines.... 2000-12-13 16:35:00  \n",
       "781  No one will be home on 5/11/00 to meet DSL ins... 2000-05-01 10:56:00  \n",
       "873  <4DDE116DBCA1D3118B130080C840BAAD02CD53@ppims.... 2000-01-08 00:23:00  \n",
       "885  Here is today's copy of Bloomberg Power Lines.... 2001-05-14 16:04:00  "
      ]
     },
     "execution_count": 9,
     "metadata": {},
     "output_type": "execute_result"
    }
   ],
   "source": [
    "to_na_df = df[df['To'].isna()].copy()\n",
    "to_na_df"
   ]
  },
  {
   "cell_type": "markdown",
   "id": "bd36b181-165d-4cdc-83fc-38e8232cdae1",
   "metadata": {},
   "source": [
    "Let's keep only those emails that are sent to someone."
   ]
  },
  {
   "cell_type": "code",
   "execution_count": 10,
   "id": "1bfe3b18-5113-47cc-b380-71ec19979577",
   "metadata": {},
   "outputs": [],
   "source": [
    "df = df[~df['To'].isna()]\n",
    "df.fillna({'Subject':''}, inplace=True)"
   ]
  },
  {
   "cell_type": "markdown",
   "id": "a841ff18-2545-4bc2-86d3-92024de07759",
   "metadata": {},
   "source": [
    "Let's also remove those emails which are duplicated."
   ]
  },
  {
   "cell_type": "code",
   "execution_count": 11,
   "id": "c0d6e3f0-d868-4fce-bc2a-ff5e7ec8371e",
   "metadata": {},
   "outputs": [
    {
     "data": {
      "text/plain": [
       "335"
      ]
     },
     "execution_count": 11,
     "metadata": {},
     "output_type": "execute_result"
    }
   ],
   "source": [
    "len(df[df.duplicated()])"
   ]
  },
  {
   "cell_type": "code",
   "execution_count": 12,
   "id": "19342ba0-8f2d-4fd5-afc7-c61485ad09cb",
   "metadata": {},
   "outputs": [],
   "source": [
    "df.drop_duplicates(inplace=True)"
   ]
  },
  {
   "cell_type": "markdown",
   "id": "897875a6-69f5-43fc-a231-4e667a4348a5",
   "metadata": {},
   "source": [
    "Let's create the social network of the emails where each node is a person and each edge is directed from 'From' to 'To' and has a datetime associated with it. Notice that each email has a single author, so we can replace the 'frozenset' with a string in the dataframe."
   ]
  },
  {
   "cell_type": "code",
   "execution_count": 13,
   "id": "0a8185c3-7da9-43de-89e7-4cc03cba5cdd",
   "metadata": {},
   "outputs": [
    {
     "data": {
      "text/plain": [
       "<AxesSubplot:>"
      ]
     },
     "execution_count": 13,
     "metadata": {},
     "output_type": "execute_result"
    },
    {
     "data": {
      "image/png": "[encoded data removed]",
      "text/plain": [
       "<Figure size 432x288 with 1 Axes>"
      ]
     },
     "metadata": {
      "needs_background": "light"
     },
     "output_type": "display_data"
    }
   ],
   "source": [
    "df['From'].map(lambda s: len(eval(s))).hist(bins=10)"
   ]
  },
  {
   "cell_type": "code",
   "execution_count": 14,
   "id": "1fe992b8-ef09-438d-95b7-50ee262c691b",
   "metadata": {},
   "outputs": [
    {
     "data": {
      "text/html": [
       "<div>\n",
       "<style scoped>\n",
       "    .dataframe tbody tr th:only-of-type {\n",
       "        vertical-align: middle;\n",
       "    }\n",
       "\n",
       "    .dataframe tbody tr th {\n",
       "        vertical-align: top;\n",
       "    }\n",
       "\n",
       "    .dataframe thead th {\n",
       "        text-align: right;\n",
       "    }\n",
       "</style>\n",
       "<table border=\"1\" class=\"dataframe\">\n",
       "  <thead>\n",
       "    <tr style=\"text-align: right;\">\n",
       "      <th></th>\n",
       "      <th>Date</th>\n",
       "      <th>From</th>\n",
       "      <th>To</th>\n",
       "      <th>Subject</th>\n",
       "      <th>content</th>\n",
       "      <th>new_date</th>\n",
       "    </tr>\n",
       "  </thead>\n",
       "  <tbody>\n",
       "    <tr>\n",
       "      <th>0</th>\n",
       "      <td>Mon, 14 May 2001 16:39:00 -0700 (PDT)</td>\n",
       "      <td>phillip.allen@enron.com</td>\n",
       "      <td>frozenset({'tim.belden@enron.com'})</td>\n",
       "      <td></td>\n",
       "      <td>Here is our forecast\\n\\n</td>\n",
       "      <td>2001-05-14 23:39:00</td>\n",
       "    </tr>\n",
       "  </tbody>\n",
       "</table>\n",
       "</div>"
      ],
      "text/plain": [
       "                                    Date                     From  \\\n",
       "0  Mon, 14 May 2001 16:39:00 -0700 (PDT)  phillip.allen@enron.com   \n",
       "\n",
       "                                    To Subject                    content  \\\n",
       "0  frozenset({'tim.belden@enron.com'})          Here is our forecast\\n\\n    \n",
       "\n",
       "             new_date  \n",
       "0 2001-05-14 23:39:00  "
      ]
     },
     "execution_count": 14,
     "metadata": {},
     "output_type": "execute_result"
    }
   ],
   "source": [
    "df['From'] = df['From'].map(lambda s: set(eval(s)).pop())\n",
    "df.head(1)"
   ]
  },
  {
   "cell_type": "code",
   "execution_count": 15,
   "id": "e2cd0677-c692-4c86-b609-e85eb34e9301",
   "metadata": {},
   "outputs": [
    {
     "data": {
      "text/plain": [
       "<AxesSubplot:>"
      ]
     },
     "execution_count": 15,
     "metadata": {},
     "output_type": "execute_result"
    },
    {
     "data": {
      "image/png": "[encoded data removed]",
      "text/plain": [
       "<Figure size 432x288 with 1 Axes>"
      ]
     },
     "metadata": {
      "needs_background": "light"
     },
     "output_type": "display_data"
    }
   ],
   "source": [
    "df['To'] = df['To'].map(lambda s: eval(s))\n",
    "df['To'].map(len).hist(bins=50)"
   ]
  },
  {
   "cell_type": "markdown",
   "id": "3f5baf68-cd0d-4d8d-841e-46a5916275cc",
   "metadata": {},
   "source": [
    "## Create Social Network Graph"
   ]
  },
  {
   "cell_type": "markdown",
   "id": "f5cf2c0f-fb60-4d92-97a5-94fb0ee985a1",
   "metadata": {},
   "source": [
    "Let's create the social network graph by creating a list of datetime and emails being sent by a specific email."
   ]
  },
  {
   "cell_type": "code",
   "execution_count": 16,
   "id": "b7b9b1a4-fd7f-41f4-8fcc-9122403d4a4e",
   "metadata": {},
   "outputs": [],
   "source": [
    "from collections import defaultdict"
   ]
  },
  {
   "cell_type": "code",
   "execution_count": 17,
   "id": "241a086c-c8c3-47d7-b831-21ae4e2c8a16",
   "metadata": {},
   "outputs": [],
   "source": [
    "email_datetime_emaildd = defaultdict(dict)\n",
    "for i, row in df.iterrows():\n",
    "    from_email = row['From']\n",
    "    datetime = row['new_date']\n",
    "    to_emails = row['To'] \n",
    "    for to_email in to_emails:\n",
    "        email_datetime_emaildd[from_email][datetime] = to_email"
   ]
  },
  {
   "cell_type": "markdown",
   "id": "95c4a91f-1f87-46f7-8b66-91386c40446c",
   "metadata": {},
   "source": [
    "Notice we can calculate the number of senders and also see who sends out the most emails. From a quick inspection we can actually see that most emails contained in this dataset are one-offs, i.e. have no thread as the count would have to be at least 2 recipients for an email thread. "
   ]
  },
  {
   "cell_type": "code",
   "execution_count": 18,
   "id": "0bd296f8-03c6-4ce8-9108-83303d730822",
   "metadata": {},
   "outputs": [
    {
     "name": "stdout",
     "output_type": "stream",
     "text": [
      "Number of Senders: 39\n"
     ]
    }
   ],
   "source": [
    "print('Number of Senders:', len(email_datetime_emaildd))"
   ]
  },
  {
   "cell_type": "code",
   "execution_count": 19,
   "id": "63b15a97-3a40-4f3d-926a-2cb13e755ab7",
   "metadata": {},
   "outputs": [
    {
     "data": {
      "text/plain": [
       "[('1.11913372.-2@multexinvestornetwork.com', 1),\n",
       " ('market-reply@listserv.dowjones.com', 1),\n",
       " ('rebecca.cantrell@enron.com', 1),\n",
       " ('paul.kaufman@enron.com', 1),\n",
       " ('yild@zdemail.zdlists.com', 1),\n",
       " ('bounce-news-932653@lists.autoweb.com', 1),\n",
       " ('public.relations@enron.com', 1),\n",
       " ('stephanie.miller@enron.com', 1),\n",
       " ('tracy.arthur@enron.com', 1),\n",
       " ('bobregon@bga.com', 1),\n",
       " ('subscriptions@intelligencepress.com', 1),\n",
       " ('tim.heizenrader@enron.com', 1),\n",
       " ('rob_tom@freenet.carleton.ca', 1),\n",
       " ('calxa@aol.com', 1),\n",
       " ('billc@greenbuilder.com', 1),\n",
       " ('frank.hayden@enron.com', 1),\n",
       " ('matt@fastpacket.net', 1),\n",
       " ('jfreeman@ssm.net', 1),\n",
       " ('kim.ward@enron.com', 1),\n",
       " ('grensheltr@aol.com', 1),\n",
       " ('yahoo-delivers@yahoo-inc.com', 1),\n",
       " ('perfmgmt@enron.com', 1),\n",
       " ('alyse.herasimchuk@enron.com', 1),\n",
       " ('lisa.jacobson@enron.com', 1),\n",
       " ('christi.nicolay@enron.com', 1),\n",
       " ('richard.shapiro@enron.com', 1),\n",
       " ('gthorse@keyad.com', 1),\n",
       " ('tiffany.miller@enron.com', 1),\n",
       " ('philip.polsky@enron.com', 1),\n",
       " ('mark.whitt@enron.com', 1),\n",
       " ('aod@newsdata.com', 2),\n",
       " ('webmaster@earnings.com', 2),\n",
       " ('sarah.novosel@enron.com', 2),\n",
       " ('ei_editor@ftenergy.com', 2),\n",
       " ('announce@inbox.nytimes.com', 2),\n",
       " ('jsmith@austintx.com', 2),\n",
       " ('ina.rangel@enron.com', 4),\n",
       " ('critical.notice@enron.com', 5),\n",
       " ('phillip.allen@enron.com', 595)]"
      ]
     },
     "execution_count": 19,
     "metadata": {},
     "output_type": "execute_result"
    }
   ],
   "source": [
    "email_num_recipients = {email: len(datetime_emaildd) for email, datetime_emaildd in email_datetime_emaildd.items()}\n",
    "sorted(email_num_recipients.items(), key = lambda en: en[1])"
   ]
  },
  {
   "cell_type": "markdown",
   "id": "25db4842-30ab-4644-aa54-2db6fb15752f",
   "metadata": {},
   "source": [
    "Now let's sort our email recipients by their increasing datetime and then the senders by the number of their recipients. By this simple step we see, actually, that our dataset is not really graph like. It is more like a bipartite graph. Further, most of the emails seem to be directed to or directed from Philip Allen as either 'pallen@encron.com', 'philip.allen@enron.com', philip.k.allen@enron.com'. Looking at the timestamps in the few instances with more than one recipient seem to indicate a lack of an email thread, except perhaps for sarah.novosel@enron.com, and jsmith@austintx.com and ina.rangel@enron.com with Philip Allen."
   ]
  },
  {
   "cell_type": "code",
   "execution_count": 20,
   "id": "d5f489c0-768a-40d2-9643-c78c85441caa",
   "metadata": {},
   "outputs": [
    {
     "name": "stdout",
     "output_type": "stream",
     "text": [
      "{Timestamp('2000-12-13 10:17:00'): 'susan.mara@enron.com', Timestamp('2000-12-13 10:28:00'): 'susan.mara@enron.com'}\n",
      "{Timestamp('2000-12-11 16:27:00'): 'phillip.k.allen@enron.com', Timestamp('2000-12-12 13:27:00'): 'phillip.k.allen@enron.com'}\n",
      "{Timestamp('2000-12-05 15:31:00'): 'amanda.huble@enron.com', Timestamp('2000-12-18 20:22:00'): 'arsystem@mailman.enron.com', Timestamp('2001-02-21 15:22:00'): 'john.lavorato@enron.com', Timestamp('2001-03-08 14:46:00'): 'information.management@enron.com'}\n"
     ]
    }
   ],
   "source": [
    "email_datetime_emaildd = {email: dict(sorted(datetime_emaild.items())) for email, datetime_emaild in email_datetime_emaildd.items()}\n",
    "email_datetime_emaildd = dict(sorted(email_datetime_emaildd.items(), key = lambda ede: len(ede[1])))\n",
    "print(email_datetime_emaildd['sarah.novosel@enron.com'])\n",
    "print(email_datetime_emaildd['jsmith@austintx.com'])\n",
    "print(email_datetime_emaildd['ina.rangel@enron.com'])"
   ]
  },
  {
   "cell_type": "markdown",
   "id": "a2f1d372-fc79-44de-8c29-860735adc631",
   "metadata": {},
   "source": [
    "We can more easily see the focus of this dataset is Paul Allen by drawing the graph of the network. Now that we know Philip Allen has 595 recipients it is easy to tell that the center node is himself."
   ]
  },
  {
   "cell_type": "code",
   "execution_count": 21,
   "id": "558800f1-de8b-4085-b3c5-0ab678b3f9f2",
   "metadata": {},
   "outputs": [],
   "source": [
    "import networkx as nx"
   ]
  },
  {
   "cell_type": "code",
   "execution_count": 22,
   "id": "cc66e39b-b2b0-4bda-a841-4de5247c322e",
   "metadata": {},
   "outputs": [
    {
     "data": {
      "image/png": "[encoded data removed]",
      "text/plain": [
       "<Figure size 432x288 with 1 Axes>"
      ]
     },
     "metadata": {},
     "output_type": "display_data"
    }
   ],
   "source": [
    "G = nx.from_pandas_edgelist(df, 'From', 'To', edge_attr ='new_date', create_using=nx.DiGraph())\n",
    "nx.draw_networkx(G, arrows=True,  with_labels=False)"
   ]
  },
  {
   "cell_type": "markdown",
   "id": "dfaf72d6-ac6d-4b35-abb3-18af312eac29",
   "metadata": {},
   "source": [
    "Now given the structure of our dataset we can see we can divide our dataset into what Philip Allen sent or someone else."
   ]
  },
  {
   "cell_type": "code",
   "execution_count": 23,
   "id": "1e152f23-5ec6-4e11-b6db-4593358db1f8",
   "metadata": {},
   "outputs": [
    {
     "data": {
      "text/plain": [
       "To\n",
       "(stephane.brodeur@enron.com)                              1\n",
       "(brian.hoskins@enron.com)                                 1\n",
       "(mark.miles@enron.com)                                    1\n",
       "(kathy.moore@enron.com)                                   1\n",
       "(paul.lucci@enron.com, kenneth.shulklapper@enron.com)     1\n",
       "                                                         ..\n",
       "(keith.holst@enron.com)                                  24\n",
       "(pallen70@hotmail.com)                                   28\n",
       "(ina.rangel@enron.com)                                   37\n",
       "(stagecoachmama@hotmail.com)                             40\n",
       "(jsmith@austintx.com)                                    41\n",
       "Name: Subject, Length: 202, dtype: int64"
      ]
     },
     "execution_count": 23,
     "metadata": {},
     "output_type": "execute_result"
    }
   ],
   "source": [
    "df[df['From'] == 'phillip.allen@enron.com'].groupby('To').count()['Subject'].sort_values()"
   ]
  },
  {
   "cell_type": "markdown",
   "id": "cf70c593-e4ce-450e-bb50-fe83c30ef0e2",
   "metadata": {},
   "source": [
    "Let's get the datetime recipient list of Philip Allen and generate the list of his recipients and when he contacted them in order to determine if there were a chain of emails sent to the same person."
   ]
  },
  {
   "cell_type": "code",
   "execution_count": 24,
   "id": "3e65b2a8-cef0-44d9-b36a-a507df7c6139",
   "metadata": {},
   "outputs": [],
   "source": [
    "email_datetimesd = defaultdict(list)\n",
    "\n",
    "for datetime, email in email_datetime_emaildd['phillip.allen@enron.com'].items():\n",
    "    email_datetimesd[email].append(datetime)\n",
    "email_datetimesd = dict(sorted(email_datetimesd.items(), key=lambda eds: len(eds[1])))"
   ]
  },
  {
   "cell_type": "code",
   "execution_count": 25,
   "id": "95c929b6-5a7e-49a4-be0c-99239648e9fe",
   "metadata": {},
   "outputs": [],
   "source": [
    "#email_datetimesd"
   ]
  },
  {
   "cell_type": "code",
   "execution_count": 26,
   "id": "4437f289-47d9-4496-9c0e-4659e7e79353",
   "metadata": {},
   "outputs": [],
   "source": [
    "#pd.TimeStamp.strptime(Timestamp('2001-05-14 23:39:00'), \"%Y-%m-%d %H:%M:%S%f\")"
   ]
  },
  {
   "cell_type": "markdown",
   "id": "6c1b7082-da33-4754-a812-765dad2a7921",
   "metadata": {},
   "source": [
    "## Further Investigation: Length of Emails and Subject Lines"
   ]
  },
  {
   "cell_type": "markdown",
   "id": "45dc9027-81ed-4d15-9262-b3478a6f69e5",
   "metadata": {},
   "source": [
    "Let's also consider the length in characters of Philip Allen's emails. Some of these emails are very long and probably should be looked at and may be a series of forwarded emails."
   ]
  },
  {
   "cell_type": "code",
   "execution_count": 27,
   "id": "cafbdb73-7888-46c6-a3e3-1ae48ce453c6",
   "metadata": {},
   "outputs": [
    {
     "data": {
      "text/plain": [
       "<AxesSubplot:>"
      ]
     },
     "execution_count": 27,
     "metadata": {},
     "output_type": "execute_result"
    },
    {
     "data": {
      "image/png": "[encoded data removed]",
      "text/plain": [
       "<Figure size 432x288 with 1 Axes>"
      ]
     },
     "metadata": {
      "needs_background": "light"
     },
     "output_type": "display_data"
    }
   ],
   "source": [
    "pa_df = df[df['From'] == 'phillip.allen@enron.com']\n",
    "pa_df['content'].str.len().hist(bins=50)"
   ]
  },
  {
   "cell_type": "markdown",
   "id": "82ae6bec-c31d-40f9-9023-60216b8469ea",
   "metadata": {},
   "source": [
    "Finally, let us consider the distribution of the Subject. Notice the frequency of 'Re:' in the subject lines. This could help us determine short threads of emails or we could classify documents as being a reply or not."
   ]
  },
  {
   "cell_type": "code",
   "execution_count": 28,
   "id": "d5cffa82-a4b1-42d2-a1a6-61d9834f31fd",
   "metadata": {},
   "outputs": [
    {
     "data": {
      "text/plain": [
       "{'': 194,\n",
       " 'Re:': 34,\n",
       " 'Re: Resume': 5,\n",
       " 'New Notice from Transwestern Pipeline Co.': 5,\n",
       " \"Re: This morning's Commission meeting delayed\": 4,\n",
       " 'Request from Steve Kean': 4,\n",
       " 'RE:': 4,\n",
       " 'Re: The Stage': 4,\n",
       " 'Re: West Gas 2001 Plan': 3,\n",
       " 'Investment Structure': 3,\n",
       " 'Westgate Proforma-Phillip Allen.xls': 3,\n",
       " 'Re: (No Subject)': 3,\n",
       " 'California Update 5/4/01': 2,\n",
       " 'Re: Western Wholesale Activities - Gas & Power Conf. Call': 2,\n",
       " 'California Summary': 2,\n",
       " 'Re: Analyst Ashish Mahajan': 2,\n",
       " 'Daily Report': 2,\n",
       " 'Enron Response to San Diego Request for Gas Price Caps': 2,\n",
       " 'Re: Resumes': 2,\n",
       " 'Re: SM134': 2,\n",
       " 'Re: #30': 2,\n",
       " 'Re: Inquiry....': 2,\n",
       " 'Alliance netback worksheet': 2,\n",
       " 'Re: General Issues': 2,\n",
       " 'Re: 2- SURVEY/INFORMATION EMAIL 5-14- 01': 2,\n",
       " 'Re: Analyst Resume - Rafael Avila': 2,\n",
       " 'Re: Please respond': 2,\n",
       " 'Re: New Notice from Transwestern Pipeline Co.': 2,\n",
       " 'Maps': 2,\n",
       " 'Re: Western Wholesale Activities - Gas & Power Conf. Call\\n Privileged & Confidential Communication Attorney-Client Communication and\\n Attorney Work Product Privileges Asserted': 2,\n",
       " 'Re: Unocal WAHA Storage': 2,\n",
       " 'Re: Instructions for FERC Meetings': 2,\n",
       " 're: apt. #2': 2,\n",
       " 'Priority List': 2,\n",
       " 'Instructions for FERC Meetings': 2,\n",
       " \"Re: FERC's Prospective Mitigation and Monitoring Plan for CA\\n Wholesale Electric Markets\": 2,\n",
       " 're: book admin for Pipe/Gas daily option book': 2,\n",
       " 'Re: Global Ids': 2,\n",
       " 'RE: access': 2,\n",
       " 'Re: SM134 Proforma.xls': 2,\n",
       " 'Re: Katy flatlands': 2,\n",
       " 'Re: Leander etc.': 2,\n",
       " 'Re: MS 150': 2,\n",
       " 'RE: W basis quotes': 2,\n",
       " 'Re: web site': 2,\n",
       " 'Re: APEA - $228,204 hit': 2,\n",
       " 'assoc. for west desk': 2,\n",
       " 'Re: Approval for Plasma Screens': 2,\n",
       " 'Re: Analyst Bryan Hull': 2,\n",
       " 'Re: Enron Response to San Diego Request for Gas Price Caps': 2,\n",
       " 'Bishops Corner, Ltd. Buyout': 2,\n",
       " 'Re: Hello': 2,\n",
       " 'Re: Talking points about California Gas market': 2,\n",
       " 'Consolidated positions: Issues & To Do list': 2,\n",
       " 'Re: Buyout': 2,\n",
       " 'San Juan Index': 2,\n",
       " 'Re: NGI access to eol': 2,\n",
       " 'Re: receipts': 2,\n",
       " 'Nondeliverable mail': 2,\n",
       " 'Re: 2- SURVEY - PHILLIP ALLEN': 2,\n",
       " 'SM134 Proforma2.xls': 2,\n",
       " '4-URGENT - OWA Please print this now.': 2,\n",
       " 'Western Strategy Session Materials': 2,\n",
       " 'Re: Presentation to Trading Track A&A': 2,\n",
       " 'Re: insurance - the stage': 2,\n",
       " 'approved trader list': 2,\n",
       " 'Re: FW: 2nd lien info. and private lien info - The Stage Coach\\n Apartments, Phillip Allen': 2,\n",
       " '2- SURVEY/INFORMATION EMAIL': 2,\n",
       " 'Re: Request from Steve Kean': 2,\n",
       " 'RE: Presentation to Trading Track A&A': 2,\n",
       " 'Re: Do you still access data from Inteligence Press online??': 2,\n",
       " 'Re: FW: Trading Track Program': 2,\n",
       " 'Re: Producer Services': 1,\n",
       " 'leander and the Stage': 1,\n",
       " 'Re: Insight Hardware': 1,\n",
       " 'FW: Cross Commodity': 1,\n",
       " 'final business points': 1,\n",
       " 'Re: the stage': 1,\n",
       " 'RE: the stage': 1,\n",
       " 'Re: DRAW2.xls': 1,\n",
       " 'Revised Long Range Hydro Forecast': 1,\n",
       " 'DJ Cal-ISO Pays $10M To Avoid Rolling Blackouts Wed -Sources, DJ\\n Calif ISO, PUC Inspect Off-line Duke South Bay Pwr Plant, DJ Calif Regula\\n tors Visit AES,Dynegy Off-Line Power Plants': 1,\n",
       " 'RE: Phillip Allen Response on Partnership Issues': 1,\n",
       " 'Re: Listing of Desk Directors': 1,\n",
       " 'Re: San Marcos': 1,\n",
       " 'Sagewood Phase II': 1,\n",
       " 'Highlights of Executive Summary by KPMG -- CPUC Audit Report on\\n Edison': 1,\n",
       " 'CPUC posts audit reports': 1,\n",
       " 'Re: Bishops Corner Partnership': 1,\n",
       " 'RE:Stock Options': 1,\n",
       " 'Re: 32 acres': 1,\n",
       " 'Re: Pipe Options Book Admin Role': 1,\n",
       " 'Governor Reports Results of 1st RFP -- ONLY 500 MW!!!!': 1,\n",
       " 'Smeltering': 1,\n",
       " 'Weekly Status Meeting': 1,\n",
       " 'DRAW2.xls': 1,\n",
       " 'Talking points about California Gas market': 1,\n",
       " 'Re: Weekly Status Meeting': 1,\n",
       " 'Re: MAI Appraisal': 1,\n",
       " 'Recession Scenario Impact on Power and Gas': 1,\n",
       " 'CERA Analysis - California': 1,\n",
       " 'Re: Comparison of Estimates': 1,\n",
       " 'Re: Great Web Site': 1,\n",
       " 'New Generation Report for January 2001': 1,\n",
       " 'Sagewood II': 1,\n",
       " 'Re: FW: Change in the agroup Cycling Schedule': 1,\n",
       " 'RE: Comparison of Estimates': 1,\n",
       " 'Re: EXTRINSIC VALUE WORKSHEET': 1,\n",
       " 'Re: Genesis Plant Tour': 1,\n",
       " 'AEC Volumes at OPAL': 1,\n",
       " 'Daily California Call Moved to Weekly Call': 1,\n",
       " 'California Gas Demand Growth': 1,\n",
       " 'San Marcos construction project': 1,\n",
       " \"Re: Enron's March Basdeload Fixed price physical deals as of 2/27\\n\\t\\t/01 Attachment is free from viruses. Scan Mail\": 1,\n",
       " 'the stage': 1,\n",
       " 'Re: stage coach': 1,\n",
       " 'Re: AEC Volumes at OPAL': 1,\n",
       " 'Preliminary 2001 Northwest Hydro Outlook': 1,\n",
       " 'RE: Loan for San Marcos': 1,\n",
       " 'November fixed-price deals': 1,\n",
       " 'NGI Publications - Thursday, 14 December 2000': 1,\n",
       " 'Central Texas Bale Resource': 1,\n",
       " 'New Associate Orientation - February 12 - February 28, 2001': 1,\n",
       " 'Ken Lay and Jeff Skilling on CNNfn': 1,\n",
       " 'systems wish list': 1,\n",
       " 'Re: MISSION SOUTH': 1,\n",
       " 'Western Price Survey 12/13/2000': 1,\n",
       " 'December Newsletter - Factory Incentives are at a year-long high!': 1,\n",
       " 'Y-Life Daily: Bush will almost definitely be prez / Coach K chats': 1,\n",
       " 'FS Van Kasper Initiates Coverage of NT': 1,\n",
       " 'MARKET ALERT: Nasdaq Composite Ends Down 3.7%': 1,\n",
       " 'Special report coming from NewsData': 1,\n",
       " \"December 14, 2000 - Bear Stearns' predictions for telecom in Latin\\n America\": 1,\n",
       " 'Re: EOL Screens in new Body Shop': 1,\n",
       " 'Enron': 1,\n",
       " 'Re: Enron': 1,\n",
       " 'Re: password': 1,\n",
       " 'Post Game Wrap Up: Stats on Extraordinary Measures': 1,\n",
       " 'Re: History of  Lime and Cement': 1,\n",
       " 'History of  Lime and Cement': 1,\n",
       " 'Freidman, Billings Initiates Coverage of PMCS': 1,\n",
       " 'System Development': 1,\n",
       " 'Bishops Corner': 1,\n",
       " 'Celebrate the Holidays with NYTimes.com': 1,\n",
       " 'RSVP REQUESTED - Emissions Strategy Meeting....': 1,\n",
       " '\"Save the Date\" - Associate / Analyst Program': 1,\n",
       " 'RE: stage coach': 1,\n",
       " 'Pre-selected NextCard Visa! As low as 2.99%': 1,\n",
       " 'Mid-Year 2001 Performance Feedback': 1,\n",
       " \"Demand-side management garnering more attention. Deregulation spa\\n rks IT revolution. Surf's Up!\": 1,\n",
       " 'Texas puts reliability rules through paces': 1,\n",
       " 'Yahoo! Newsletter, May 2001': 1,\n",
       " 'Re: concrete stain': 1,\n",
       " 'The 1999 Hemp Year in Review': 1,\n",
       " 'RE: concrete stain': 1,\n",
       " \"Pete's Energy Tech\": 1,\n",
       " 'Re: Newsgroups': 1,\n",
       " 'ERMS / RMS Databases': 1,\n",
       " 'Re: Astral downtime request': 1,\n",
       " 'NGI access to eol': 1,\n",
       " 'Generation': 1,\n",
       " 'Re: Needs Assessment Form': 1,\n",
       " 'Re: Analyst PRC': 1,\n",
       " 'Re: Wiring instructions': 1,\n",
       " 'updated lease information': 1,\n",
       " 'Headcount': 1,\n",
       " 'matt Smith': 1,\n",
       " 'Analyst Rotating': 1,\n",
       " 'Re: Analyst Rotating': 1,\n",
       " 'California - Jan 13 meeting': 1,\n",
       " 'California Action Update 1-14-00': 1,\n",
       " 'Re: Court Ordered Notice to Customers and Registered Users of\\n living. com Regarding Sale of Information': 1,\n",
       " 'Re: Response to PGE request for gas': 1,\n",
       " 'Re: Draft of Opposition to ORA/TURN petition': 1,\n",
       " 'Kidventure Camp': 1,\n",
       " 'Re: Associates & Analysts Eligible for Promotion': 1,\n",
       " 'Analyst Interviews Needed - 2/15/01': 1,\n",
       " 'Status of QF negotiations on QFs & Legislative Update': 1,\n",
       " 'Re: Transportation Reports': 1,\n",
       " 'Re: Untitled.exe Untitled.exe [22/23]': 1,\n",
       " 'Re: SM134 Balcones Bank Loan': 1,\n",
       " 'SM134 Proforma.xls': 1,\n",
       " 'Resumes': 1,\n",
       " 'Re: Pick your Poison?': 1,\n",
       " 'New Generation as of Oct 24th': 1,\n",
       " 'Re: You Game?': 1,\n",
       " 'ALLEN DURANGO HOTEL ------- 48 HR CANCEL': 1,\n",
       " 'New Employee on 32': 1,\n",
       " 'Re: San Marcos Study': 1,\n",
       " 'Re: West Gas Trading 2001 Plan': 1,\n",
       " 'New Generation, Nov 30th': 1,\n",
       " 'Re: Nortel box': 1,\n",
       " 'rent roll': 1,\n",
       " 'Final FIled Version': 1,\n",
       " 'Re: Call saturday': 1,\n",
       " \"Enron's December physical fixed price deals as of 11/28/00\": 1,\n",
       " 'Re: Your Approval is Overdue: Access Request for\\n barry.tycholiz@enron.com': 1,\n",
       " 'Meeting with Governor Davis, need for additional\\n comments/suggestions': 1,\n",
       " 'Mike Grigsby': 1,\n",
       " 'RE: The Stage': 1,\n",
       " 'FW: ALL 1099 TAX QUESTIONS - ANSWERED': 1,\n",
       " 'Daily Duties': 1,\n",
       " 'Price for Stanfield Term': 1,\n",
       " 'New Generation Update 7/24/00': 1,\n",
       " 'Re: Electric Overage (1824.62)': 1,\n",
       " 'Gas fundamentals development website': 1,\n",
       " 'Re: Report on Property': 1,\n",
       " 'New Socal Curves': 1,\n",
       " 'Re: trading opportunities': 1,\n",
       " 'Request Submitted: Access Request for frank.ermis@enron.com': 1,\n",
       " 'Your Approval is Overdue: Access Request for paul.t.lucci@enron.com': 1,\n",
       " 'Re: TRANSPORTATION MODEL': 1,\n",
       " 'TRANSPORTATION MODEL': 1,\n",
       " 'Re: Ad Hoc VaR model': 1,\n",
       " 'tv on 33': 1,\n",
       " 'Re: Your approval is requested': 1,\n",
       " 'ENA Management Committee': 1,\n",
       " 'For Wade': 1,\n",
       " 'Re: your address': 1,\n",
       " 'Interactive Information Resource': 1,\n",
       " 'Natural Gas Customers': 1,\n",
       " 'Executive Impact and Influence Course': 1,\n",
       " 'Re: Thoughts on Presentation': 1,\n",
       " 'Re: Memory': 1,\n",
       " 'Re: market intelligence': 1,\n",
       " 'Re: Brenda Stones telephone numbers': 1,\n",
       " 'Re: EXECUTIVE IMPACT COURSE': 1,\n",
       " 'System Meeting 7/11': 1,\n",
       " 'Re: lunch': 1,\n",
       " 'test': 1,\n",
       " 'Systems Meeting 7/18': 1,\n",
       " 'Project Elvis and Cactus Open Gas Position': 1,\n",
       " 'Re: 65th BD for Nea': 1,\n",
       " 'El Paso Blanco Avg product': 1,\n",
       " 'Comments on Order 637 Compliance Filings': 1,\n",
       " 'Re: enron close to 85': 1,\n",
       " 'Re: checkbook and budget': 1,\n",
       " 'Sagewood M/F': 1,\n",
       " 'Re: ENA Fileplan Project - Needs your approval': 1,\n",
       " 'Re: burnet': 1,\n",
       " 'closing': 1,\n",
       " 'Gas Physical/Financial Position': 1,\n",
       " 'Re: Gas Trading Vision meeting': 1,\n",
       " 'Re: Original Sept check/closing': 1,\n",
       " 'Re: Not business related..': 1,\n",
       " 'Meeting re: Storage Strategies in the West': 1,\n",
       " 'Westgate': 1,\n",
       " 'Var, Reporting and Resources Meeting': 1,\n",
       " 'Re: 2001 Margin Plan': 1,\n",
       " 'Re: FW: fixed forward or other Collar floor gas price terms': 1,\n",
       " 'FW: fixed forward or other Collar floor gas price terms': 1,\n",
       " 'Re: High Speed Internet Access': 1,\n",
       " 'Re: PRC review - phone calls': 1,\n",
       " 'Re: test': 1,\n",
       " 'Re: Sept 1 Payment': 1,\n",
       " 'Contact list for mid market': 1,\n",
       " 'Re: Chelsea Villas': 1,\n",
       " 'Re: Western Gas Market Report -- Draft': 1,\n",
       " 'Re: Evaluation for new trading application': 1,\n",
       " 'Re: regulatory filing summary': 1,\n",
       " 'Re: Meeting to discuss 2001 direct expense plan?': 1,\n",
       " 'New Generation': 1,\n",
       " 'Re: Security Request: CLOG-4NNJEZ has been Denied.': 1,\n",
       " 'Receipt of Team Selection Form - Executive Impact & Influence\\n Program': 1,\n",
       " 'FYI': 1,\n",
       " 'Re: VaR by Curve': 1,\n",
       " 'RE: Receipt of Team Selection Form - Executive Impact & Influence\\n Program': 1,\n",
       " 'Wow': 1,\n",
       " 'TIME SENSITIVE: Executive Impact & Influence Program Survey': 1,\n",
       " 'utilities roll': 1,\n",
       " 'Sagewood Town Homes': 1,\n",
       " 'Re: Sagewood etc.': 1,\n",
       " 'Re: Notices': 1,\n",
       " '(Reminder) Update GIS Information': 1,\n",
       " 'West Power Strategy Materials': 1,\n",
       " 'gas storage model': 1,\n",
       " 'Stick it in your Shockmachine!': 1,\n",
       " 'Re: Are you trying to be funny?': 1,\n",
       " 'eol': 1,\n",
       " 'Re: ENROLLMENT CONFIRMATION/Impact/ECT': 1,\n",
       " 'RE: Choosing a style': 1,\n",
       " 'dopewars': 1,\n",
       " 'Re: Vishal Apte': 1,\n",
       " 'Re: Website Access approval requested': 1,\n",
       " 'Re: Curve Update': 1,\n",
       " 'Re: Kim Olinger - Transport Rate Team': 1,\n",
       " 'Re: January El paso invoice': 1,\n",
       " 'Re: W basis quotes': 1,\n",
       " 'Western Strategy Briefing': 1,\n",
       " 'Storage of Cycles at the Body Shop': 1,\n",
       " 'Re: February expenses': 1,\n",
       " 'CAISO demand reduction': 1,\n",
       " 'Re: FW: SanJuan/SoCal spread prices': 1,\n",
       " 'Re: SanJuan/SoCal spread prices': 1,\n",
       " 'Current Gas Desk List': 1,\n",
       " 'RE: PERSONAL AND CONFIDENTIAL COMPENSATION INFORMATION': 1,\n",
       " 'Behind the Stage Two': 1,\n",
       " 'Re: Confidential Employee Information/Lenhart': 1,\n",
       " 'Matt Smith': 1,\n",
       " 'Your Approval is Overdue: Access Request for mike.grigsby@enron.com': 1,\n",
       " 'RE: Buyout': 1,\n",
       " 'Re: Purchase and Sale Agreement': 1,\n",
       " 'SanJuan/SoCal spread prices': 1,\n",
       " 'Re: Derek Kelly': 1,\n",
       " 'Re: Opening Day - Baseball Tickets': 1,\n",
       " 'Enron Center Garage': 1,\n",
       " 'Re: Location': 1,\n",
       " 'EES Gas Desk Happy Hour': 1,\n",
       " 'Re: Answers to List': 1,\n",
       " 'Re: Desk to Desk access Request': 1,\n",
       " \"PIRA's California/Southwest Gas Pipeline Study\": 1,\n",
       " 'Re: 91acres': 1,\n",
       " \"Re: What's happening?\": 1,\n",
       " 'Large Deal Alert': 1,\n",
       " 'Re: 91 acres': 1,\n",
       " 'Gas Transportation Market Intelligence': 1,\n",
       " 'Re: Todays update': 1,\n",
       " 'Re: balance on truck/loan': 1,\n",
       " 'Transport p&l': 1,\n",
       " 'RE: 91 acres': 1,\n",
       " 'Re: SW Gas': 1,\n",
       " 'Re: Compaq M700 laptop': 1,\n",
       " 'Thoughts on Presentation': 1,\n",
       " 'Re: Wade': 1,\n",
       " 'Re: The New Power Company': 1,\n",
       " 'FT-Denver book on EOL': 1,\n",
       " 'Download Frogger before it hops away!': 1,\n",
       " 'Re: 5/08/00': 1,\n",
       " 'SW Gas': 1,\n",
       " 'Re: Feb. Expense Report': 1,\n",
       " 'Meeting-THURSDAY, MARCH 23 - 11:15 AM': 1,\n",
       " 'Just Released! Exclusive new animation from Stan Lee': 1,\n",
       " 'Western Strategy Summaries': 1,\n",
       " 'Re: Mission South': 1,\n",
       " 'RE: a/c for #27': 1,\n",
       " 'Re: 220,000 MW of New Capacity Needed by 2012': 1,\n",
       " 'Re: Maps': 1,\n",
       " 'Western Strategy Briefing Materials': 1,\n",
       " 'Re: Foundation leveling on #2 & #3 apts.': 1,\n",
       " 're: storm results & refrigerators': 1,\n",
       " 'Re: Inspection for Mission South': 1,\n",
       " 'Re: your moms birthday': 1,\n",
       " 'RE: Inspection for Mission South': 1,\n",
       " 'Re: Payroll Reclasses': 1,\n",
       " 'Re: DSL Install': 1,\n",
       " 'Re: Denver trading': 1}"
      ]
     },
     "execution_count": 28,
     "metadata": {},
     "output_type": "execute_result"
    }
   ],
   "source": [
    "df['Subject'].value_counts().to_dict()"
   ]
  },
  {
   "cell_type": "markdown",
   "id": "0115be86-9f44-4ebd-b2e3-576304ff7ca7",
   "metadata": {},
   "source": [
    "## Adding Tokens, Entities, and Noun Chunk Features"
   ]
  },
  {
   "cell_type": "markdown",
   "id": "d9446d49-47d8-422b-8829-4848996dd4e2",
   "metadata": {},
   "source": [
    "Now let's add some more features to our data, specifically tokens, named entities, and noun chunks."
   ]
  },
  {
   "cell_type": "code",
   "execution_count": 29,
   "id": "908dd788-d2a1-4b42-833e-34dae8c24531",
   "metadata": {},
   "outputs": [],
   "source": [
    "from re import sub"
   ]
  },
  {
   "cell_type": "code",
   "execution_count": 30,
   "id": "1f84c6f9-b7d7-49f5-afd5-30f09d02051a",
   "metadata": {},
   "outputs": [],
   "source": [
    "def tokenize(text):\n",
    "    text = sub('[!\"#$%&()*+,./:;<=>?@^_`\\'{|}~\\t\\n\\\\\\\\\\\\[\\\\]-]', ' ', text)\n",
    "    text = sub(' +', ' ', text).lower()\n",
    "    return text.split()"
   ]
  },
  {
   "cell_type": "code",
   "execution_count": 31,
   "id": "229b0eeb-8eef-4542-9574-ce48cb5f0205",
   "metadata": {},
   "outputs": [],
   "source": [
    "df['tokens'] = df['content'].apply(tokenize)"
   ]
  },
  {
   "cell_type": "code",
   "execution_count": 32,
   "id": "74a1a941-e920-4c5b-9af1-83a4d8341a69",
   "metadata": {},
   "outputs": [
    {
     "data": {
      "text/html": [
       "<div>\n",
       "<style scoped>\n",
       "    .dataframe tbody tr th:only-of-type {\n",
       "        vertical-align: middle;\n",
       "    }\n",
       "\n",
       "    .dataframe tbody tr th {\n",
       "        vertical-align: top;\n",
       "    }\n",
       "\n",
       "    .dataframe thead th {\n",
       "        text-align: right;\n",
       "    }\n",
       "</style>\n",
       "<table border=\"1\" class=\"dataframe\">\n",
       "  <thead>\n",
       "    <tr style=\"text-align: right;\">\n",
       "      <th></th>\n",
       "      <th>Date</th>\n",
       "      <th>From</th>\n",
       "      <th>To</th>\n",
       "      <th>Subject</th>\n",
       "      <th>content</th>\n",
       "      <th>new_date</th>\n",
       "      <th>tokens</th>\n",
       "    </tr>\n",
       "  </thead>\n",
       "  <tbody>\n",
       "    <tr>\n",
       "      <th>0</th>\n",
       "      <td>Mon, 14 May 2001 16:39:00 -0700 (PDT)</td>\n",
       "      <td>phillip.allen@enron.com</td>\n",
       "      <td>(tim.belden@enron.com)</td>\n",
       "      <td></td>\n",
       "      <td>Here is our forecast\\n\\n</td>\n",
       "      <td>2001-05-14 23:39:00</td>\n",
       "      <td>[here, is, our, forecast]</td>\n",
       "    </tr>\n",
       "  </tbody>\n",
       "</table>\n",
       "</div>"
      ],
      "text/plain": [
       "                                    Date                     From  \\\n",
       "0  Mon, 14 May 2001 16:39:00 -0700 (PDT)  phillip.allen@enron.com   \n",
       "\n",
       "                       To Subject                    content  \\\n",
       "0  (tim.belden@enron.com)          Here is our forecast\\n\\n    \n",
       "\n",
       "             new_date                     tokens  \n",
       "0 2001-05-14 23:39:00  [here, is, our, forecast]  "
      ]
     },
     "execution_count": 32,
     "metadata": {},
     "output_type": "execute_result"
    }
   ],
   "source": [
    "df.head(1)"
   ]
  },
  {
   "cell_type": "code",
   "execution_count": 33,
   "id": "063cfe55-1bc6-43e0-8757-33831249d635",
   "metadata": {},
   "outputs": [],
   "source": [
    "import re\n",
    "from sklearn.feature_extraction.text import ENGLISH_STOP_WORDS\n",
    "import spacy\n",
    "\n",
    "nlp = spacy.load('en_core_web_trf')"
   ]
  },
  {
   "cell_type": "markdown",
   "id": "ac483821-37bc-4428-a82a-f3814cdc5616",
   "metadata": {},
   "source": [
    "Here we need to add in some of the enclitics ('s, 'd), time markers (am pm), and some constant punctuation to the stopwords list. Further, we will take on the noun chunks to form our topics."
   ]
  },
  {
   "cell_type": "code",
   "execution_count": 34,
   "id": "f86439a1-674b-45af-9da7-28fef2656f5d",
   "metadata": {},
   "outputs": [],
   "source": [
    "ENGLISH_STOP_WORDS = set(ENGLISH_STOP_WORDS) | {'e', '#', '-', \"'s\", 'd', 'am', 'pm', ''}"
   ]
  },
  {
   "cell_type": "markdown",
   "id": "a088aa61-2714-485e-a5d9-a2b5dfa06b4d",
   "metadata": {},
   "source": [
    "This may take over 3 minutes to run. Here we find named entities."
   ]
  },
  {
   "cell_type": "code",
   "execution_count": 35,
   "id": "7437b730-3093-420f-becb-38829b9e2c83",
   "metadata": {},
   "outputs": [
    {
     "name": "stderr",
     "output_type": "stream",
     "text": [
      "Token indices sequence length is longer than the specified maximum sequence length for this model (799 > 512). Running this sequence through the model will result in indexing errors\n"
     ]
    },
    {
     "name": "stdout",
     "output_type": "stream",
     "text": [
      "CPU times: user 24min 5s, sys: 1min 1s, total: 25min 6s\n",
      "Wall time: 3min 8s\n"
     ]
    }
   ],
   "source": [
    "%%time\n",
    "df['ents'] = df['content'].map(lambda s: [ent.text.replace(' ', '_') for ent in nlp(s).ents if ent.label_ not in {'TIME', 'DATE', 'CARDINAL'}])"
   ]
  },
  {
   "cell_type": "code",
   "execution_count": 37,
   "id": "d224fe2c-06ae-44bd-aaa9-8ba9e9014ecd",
   "metadata": {},
   "outputs": [],
   "source": [
    "def preprocess_noun_chunk(nc):\n",
    "    nc = nc.text.replace(' ', '_').lower()\n",
    "    nc = re.sub('[^a-z_]', '', nc)\n",
    "    nc = re.sub('^_+', '', nc)\n",
    "    return nc"
   ]
  },
  {
   "cell_type": "markdown",
   "id": "c834d2e5-8c46-459e-b47e-d05aff733458",
   "metadata": {},
   "source": [
    "This may take more than 3 minutes to run. Here we find noun chunks."
   ]
  },
  {
   "cell_type": "code",
   "execution_count": 38,
   "id": "5291f143-4bca-4891-a6d1-2da568b03652",
   "metadata": {},
   "outputs": [
    {
     "name": "stdout",
     "output_type": "stream",
     "text": [
      "CPU times: user 24min 12s, sys: 59.2 s, total: 25min 11s\n",
      "Wall time: 3min 9s\n"
     ]
    }
   ],
   "source": [
    "%%time\n",
    "df['noun_chunks'] = [[preprocess_noun_chunk(nc) for nc in nlp(content).noun_chunks if nc.text.lower() not in ENGLISH_STOP_WORDS] for content in df['content']]"
   ]
  },
  {
   "cell_type": "code",
   "execution_count": 39,
   "id": "95fefd5b-ceeb-478d-a8d1-322b495d19d6",
   "metadata": {},
   "outputs": [
    {
     "data": {
      "text/html": [
       "<div>\n",
       "<style scoped>\n",
       "    .dataframe tbody tr th:only-of-type {\n",
       "        vertical-align: middle;\n",
       "    }\n",
       "\n",
       "    .dataframe tbody tr th {\n",
       "        vertical-align: top;\n",
       "    }\n",
       "\n",
       "    .dataframe thead th {\n",
       "        text-align: right;\n",
       "    }\n",
       "</style>\n",
       "<table border=\"1\" class=\"dataframe\">\n",
       "  <thead>\n",
       "    <tr style=\"text-align: right;\">\n",
       "      <th></th>\n",
       "      <th>Date</th>\n",
       "      <th>From</th>\n",
       "      <th>To</th>\n",
       "      <th>Subject</th>\n",
       "      <th>content</th>\n",
       "      <th>new_date</th>\n",
       "      <th>tokens</th>\n",
       "      <th>ents</th>\n",
       "      <th>noun_chunks</th>\n",
       "    </tr>\n",
       "  </thead>\n",
       "  <tbody>\n",
       "    <tr>\n",
       "      <th>0</th>\n",
       "      <td>Mon, 14 May 2001 16:39:00 -0700 (PDT)</td>\n",
       "      <td>phillip.allen@enron.com</td>\n",
       "      <td>(tim.belden@enron.com)</td>\n",
       "      <td></td>\n",
       "      <td>Here is our forecast\\n\\n</td>\n",
       "      <td>2001-05-14 23:39:00</td>\n",
       "      <td>[here, is, our, forecast]</td>\n",
       "      <td>[]</td>\n",
       "      <td>[our_forecast]</td>\n",
       "    </tr>\n",
       "  </tbody>\n",
       "</table>\n",
       "</div>"
      ],
      "text/plain": [
       "                                    Date                     From  \\\n",
       "0  Mon, 14 May 2001 16:39:00 -0700 (PDT)  phillip.allen@enron.com   \n",
       "\n",
       "                       To Subject                    content  \\\n",
       "0  (tim.belden@enron.com)          Here is our forecast\\n\\n    \n",
       "\n",
       "             new_date                     tokens ents     noun_chunks  \n",
       "0 2001-05-14 23:39:00  [here, is, our, forecast]   []  [our_forecast]  "
      ]
     },
     "execution_count": 39,
     "metadata": {},
     "output_type": "execute_result"
    }
   ],
   "source": [
    "df.head(1)"
   ]
  },
  {
   "cell_type": "markdown",
   "id": "2a793507-7076-4f8a-ad7e-ed7e3e4a6586",
   "metadata": {},
   "source": [
    "## Truncated Enron Word2Vec Embeddings"
   ]
  },
  {
   "cell_type": "markdown",
   "id": "5adece7e-6e7f-4ba3-a95a-4e505db0d802",
   "metadata": {},
   "source": [
    "With a few lines we can create our own Enron Truncated Word2Vec Embedding."
   ]
  },
  {
   "cell_type": "code",
   "execution_count": 40,
   "id": "433e8868-a84f-4213-be5e-65719ac75a7e",
   "metadata": {},
   "outputs": [
    {
     "name": "stderr",
     "output_type": "stream",
     "text": [
      "/home/robert_ubuntu/anaconda3/lib/python3.8/site-packages/gensim/similarities/__init__.py:15: UserWarning: The gensim.similarities.levenshtein submodule is disabled, because the optional Levenshtein package <https://pypi.org/project/python-Levenshtein/> is unavailable. Install Levenhstein (e.g. `pip install python-Levenshtein`) to suppress this warning.\n",
      "  warnings.warn(msg)\n"
     ]
    }
   ],
   "source": [
    "from gensim.models import Word2Vec"
   ]
  },
  {
   "cell_type": "markdown",
   "id": "2d325708-6045-4617-a14e-6fed1d64bf06",
   "metadata": {},
   "source": [
    "This will take less than a minute."
   ]
  },
  {
   "cell_type": "code",
   "execution_count": 41,
   "id": "bbce713e-ce5d-453a-aef5-947b32e1aed4",
   "metadata": {},
   "outputs": [
    {
     "name": "stdout",
     "output_type": "stream",
     "text": [
      "CPU times: user 2 µs, sys: 0 ns, total: 2 µs\n",
      "Wall time: 3.58 µs\n"
     ]
    }
   ],
   "source": [
    "%time\n",
    "w2v_model = Word2Vec(df['tokens'], min_count=1, vector_size=300, workers=12)"
   ]
  },
  {
   "cell_type": "code",
   "execution_count": 42,
   "id": "91d56566-fff2-4030-acdb-a8d2bb33e313",
   "metadata": {},
   "outputs": [],
   "source": [
    "# w2v_model.save('enron_truncated_w2v.bin')"
   ]
  },
  {
   "cell_type": "markdown",
   "id": "0119118b-35f4-4159-afcb-f6d06ba256c2",
   "metadata": {},
   "source": [
    "Now we'll be able to use our Enron specific embedding to maximize the classificational power of a classification model."
   ]
  },
  {
   "cell_type": "code",
   "execution_count": 43,
   "id": "c17bc9b9-84a5-40fd-9eb8-039ef6f8b855",
   "metadata": {},
   "outputs": [],
   "source": [
    "# w2v_model = Word2Vec.load('enron_truncated_w2v.bin')"
   ]
  },
  {
   "cell_type": "code",
   "execution_count": 44,
   "id": "78cddd62-f959-4190-892c-8bcad9a457a9",
   "metadata": {},
   "outputs": [
    {
     "data": {
      "text/plain": [
       "[('k', 0.9992313385009766),\n",
       " ('phillip', 0.9923456907272339),\n",
       " ('forwarded', 0.9859502911567688),\n",
       " ('7041', 0.977257490158081),\n",
       " ('rr', 0.9732871651649475),\n",
       " ('hunter', 0.9691621661186218),\n",
       " ('comnes', 0.9677537679672241),\n",
       " ('by', 0.9674532413482666),\n",
       " ('giovannini', 0.9662247896194458),\n",
       " ('59', 0.9658829569816589)]"
      ]
     },
     "execution_count": 44,
     "metadata": {},
     "output_type": "execute_result"
    }
   ],
   "source": [
    "w2v_model.wv.similar_by_word('allen')"
   ]
  },
  {
   "cell_type": "markdown",
   "id": "da5b34d3-9d2c-494d-a8b7-07ad987ecebe",
   "metadata": {},
   "source": [
    "### Create Sentence Embeddings for each Email"
   ]
  },
  {
   "cell_type": "code",
   "execution_count": 45,
   "id": "a6bc1bc5-1139-4bb4-90f1-d93e909f116a",
   "metadata": {},
   "outputs": [],
   "source": [
    "import numpy as np"
   ]
  },
  {
   "cell_type": "code",
   "execution_count": 46,
   "id": "3b6d3471-1b09-4b52-a279-20c360187639",
   "metadata": {},
   "outputs": [],
   "source": [
    "def get_sentence_embedding(tokens):\n",
    "    avg_wv = np.zeros(300)\n",
    "    for token in tokens[:100]:\n",
    "        avg_wv = avg_wv + w2v_model.wv.get_vector(token)\n",
    "    return avg_wv"
   ]
  },
  {
   "cell_type": "code",
   "execution_count": 47,
   "id": "192e3bdd-7caf-462a-9b61-5015a31e15f4",
   "metadata": {},
   "outputs": [],
   "source": [
    "df['sentence_embedding'] = df['tokens'].map(get_sentence_embedding)"
   ]
  },
  {
   "cell_type": "markdown",
   "id": "ebe186e8-b007-430f-a894-a3ca5b8c464a",
   "metadata": {},
   "source": [
    "## Classify Emails From or Not From Philip Allen"
   ]
  },
  {
   "cell_type": "markdown",
   "id": "22283835-adfa-4979-b9c3-b7c2c6e30edf",
   "metadata": {},
   "source": [
    "Let's gather our negative and positive (sentence) embeddings for our emails and create our y labels."
   ]
  },
  {
   "cell_type": "code",
   "execution_count": 48,
   "id": "3a171e21-703b-4a2d-8abc-16e07f44f363",
   "metadata": {},
   "outputs": [],
   "source": [
    "neg_embs = df[df['From'] != 'phillip.allen@enron.com']['sentence_embedding']\n",
    "neg_labels = [0]*len(neg_embs)\n",
    "pos_embs = df[df['From'] == 'phillip.allen@enron.com']['sentence_embedding'].sample(n=3*len(neg_embs), random_state=0)\n",
    "pos_labels = [1]*3*len(neg_embs)"
   ]
  },
  {
   "cell_type": "code",
   "execution_count": 49,
   "id": "a3792736-8b7d-4837-8e13-45415b069604",
   "metadata": {},
   "outputs": [],
   "source": [
    "X_embs = np.append(neg_embs, pos_embs)\n",
    "y_labels = np.append(neg_labels, pos_labels)"
   ]
  },
  {
   "cell_type": "code",
   "execution_count": 50,
   "id": "79be2146-3370-4614-aef5-0f7e794ed31c",
   "metadata": {},
   "outputs": [],
   "source": [
    "from sklearn.model_selection import train_test_split\n",
    "from sklearn.metrics import classification_report"
   ]
  },
  {
   "cell_type": "code",
   "execution_count": 51,
   "id": "f25dcddf-2589-45b2-b86e-6485c896248b",
   "metadata": {},
   "outputs": [],
   "source": [
    "X_train_embs, X_test_embs, y_train, y_test = train_test_split(X_embs, y_labels, random_state=0, stratify=y_labels)"
   ]
  },
  {
   "cell_type": "markdown",
   "id": "eea3b0ae-a838-4832-9bd7-26950c826505",
   "metadata": {},
   "source": [
    "## Train a Cross-validated Logistic Regression Model Base-line"
   ]
  },
  {
   "cell_type": "code",
   "execution_count": 52,
   "id": "e0939b24-b1f2-4dc2-a9f9-3a14b49499e2",
   "metadata": {},
   "outputs": [],
   "source": [
    "from sklearn.linear_model import LogisticRegressionCV"
   ]
  },
  {
   "cell_type": "code",
   "execution_count": 53,
   "id": "49bea02c-d229-4f62-bcd7-6f760f619703",
   "metadata": {},
   "outputs": [
    {
     "name": "stderr",
     "output_type": "stream",
     "text": [
      "/home/robert_ubuntu/anaconda3/lib/python3.8/site-packages/sklearn/linear_model/_logistic.py:763: ConvergenceWarning: lbfgs failed to converge (status=1):\n",
      "STOP: TOTAL NO. of ITERATIONS REACHED LIMIT.\n",
      "\n",
      "Increase the number of iterations (max_iter) or scale the data as shown in:\n",
      "    https://scikit-learn.org/stable/modules/preprocessing.html\n",
      "Please also refer to the documentation for alternative solver options:\n",
      "    https://scikit-learn.org/stable/modules/linear_model.html#logistic-regression\n",
      "  n_iter_i = _check_optimize_result(\n",
      "/home/robert_ubuntu/anaconda3/lib/python3.8/site-packages/sklearn/linear_model/_logistic.py:763: ConvergenceWarning: lbfgs failed to converge (status=1):\n",
      "STOP: TOTAL NO. of ITERATIONS REACHED LIMIT.\n",
      "\n",
      "Increase the number of iterations (max_iter) or scale the data as shown in:\n",
      "    https://scikit-learn.org/stable/modules/preprocessing.html\n",
      "Please also refer to the documentation for alternative solver options:\n",
      "    https://scikit-learn.org/stable/modules/linear_model.html#logistic-regression\n",
      "  n_iter_i = _check_optimize_result(\n",
      "/home/robert_ubuntu/anaconda3/lib/python3.8/site-packages/sklearn/linear_model/_logistic.py:763: ConvergenceWarning: lbfgs failed to converge (status=1):\n",
      "STOP: TOTAL NO. of ITERATIONS REACHED LIMIT.\n",
      "\n",
      "Increase the number of iterations (max_iter) or scale the data as shown in:\n",
      "    https://scikit-learn.org/stable/modules/preprocessing.html\n",
      "Please also refer to the documentation for alternative solver options:\n",
      "    https://scikit-learn.org/stable/modules/linear_model.html#logistic-regression\n",
      "  n_iter_i = _check_optimize_result(\n",
      "/home/robert_ubuntu/anaconda3/lib/python3.8/site-packages/sklearn/linear_model/_logistic.py:763: ConvergenceWarning: lbfgs failed to converge (status=1):\n",
      "STOP: TOTAL NO. of ITERATIONS REACHED LIMIT.\n",
      "\n",
      "Increase the number of iterations (max_iter) or scale the data as shown in:\n",
      "    https://scikit-learn.org/stable/modules/preprocessing.html\n",
      "Please also refer to the documentation for alternative solver options:\n",
      "    https://scikit-learn.org/stable/modules/linear_model.html#logistic-regression\n",
      "  n_iter_i = _check_optimize_result(\n",
      "/home/robert_ubuntu/anaconda3/lib/python3.8/site-packages/sklearn/linear_model/_logistic.py:763: ConvergenceWarning: lbfgs failed to converge (status=1):\n",
      "STOP: TOTAL NO. of ITERATIONS REACHED LIMIT.\n",
      "\n",
      "Increase the number of iterations (max_iter) or scale the data as shown in:\n",
      "    https://scikit-learn.org/stable/modules/preprocessing.html\n",
      "Please also refer to the documentation for alternative solver options:\n",
      "    https://scikit-learn.org/stable/modules/linear_model.html#logistic-regression\n",
      "  n_iter_i = _check_optimize_result(\n",
      "/home/robert_ubuntu/anaconda3/lib/python3.8/site-packages/sklearn/linear_model/_logistic.py:763: ConvergenceWarning: lbfgs failed to converge (status=1):\n",
      "STOP: TOTAL NO. of ITERATIONS REACHED LIMIT.\n",
      "\n",
      "Increase the number of iterations (max_iter) or scale the data as shown in:\n",
      "    https://scikit-learn.org/stable/modules/preprocessing.html\n",
      "Please also refer to the documentation for alternative solver options:\n",
      "    https://scikit-learn.org/stable/modules/linear_model.html#logistic-regression\n",
      "  n_iter_i = _check_optimize_result(\n",
      "/home/robert_ubuntu/anaconda3/lib/python3.8/site-packages/sklearn/linear_model/_logistic.py:763: ConvergenceWarning: lbfgs failed to converge (status=1):\n",
      "STOP: TOTAL NO. of ITERATIONS REACHED LIMIT.\n",
      "\n",
      "Increase the number of iterations (max_iter) or scale the data as shown in:\n",
      "    https://scikit-learn.org/stable/modules/preprocessing.html\n",
      "Please also refer to the documentation for alternative solver options:\n",
      "    https://scikit-learn.org/stable/modules/linear_model.html#logistic-regression\n",
      "  n_iter_i = _check_optimize_result(\n",
      "/home/robert_ubuntu/anaconda3/lib/python3.8/site-packages/sklearn/linear_model/_logistic.py:763: ConvergenceWarning: lbfgs failed to converge (status=1):\n",
      "STOP: TOTAL NO. of ITERATIONS REACHED LIMIT.\n",
      "\n",
      "Increase the number of iterations (max_iter) or scale the data as shown in:\n",
      "    https://scikit-learn.org/stable/modules/preprocessing.html\n",
      "Please also refer to the documentation for alternative solver options:\n",
      "    https://scikit-learn.org/stable/modules/linear_model.html#logistic-regression\n",
      "  n_iter_i = _check_optimize_result(\n",
      "/home/robert_ubuntu/anaconda3/lib/python3.8/site-packages/sklearn/linear_model/_logistic.py:763: ConvergenceWarning: lbfgs failed to converge (status=1):\n",
      "STOP: TOTAL NO. of ITERATIONS REACHED LIMIT.\n",
      "\n",
      "Increase the number of iterations (max_iter) or scale the data as shown in:\n",
      "    https://scikit-learn.org/stable/modules/preprocessing.html\n",
      "Please also refer to the documentation for alternative solver options:\n",
      "    https://scikit-learn.org/stable/modules/linear_model.html#logistic-regression\n",
      "  n_iter_i = _check_optimize_result(\n",
      "/home/robert_ubuntu/anaconda3/lib/python3.8/site-packages/sklearn/linear_model/_logistic.py:763: ConvergenceWarning: lbfgs failed to converge (status=1):\n",
      "STOP: TOTAL NO. of ITERATIONS REACHED LIMIT.\n",
      "\n",
      "Increase the number of iterations (max_iter) or scale the data as shown in:\n",
      "    https://scikit-learn.org/stable/modules/preprocessing.html\n",
      "Please also refer to the documentation for alternative solver options:\n",
      "    https://scikit-learn.org/stable/modules/linear_model.html#logistic-regression\n",
      "  n_iter_i = _check_optimize_result(\n",
      "/home/robert_ubuntu/anaconda3/lib/python3.8/site-packages/sklearn/linear_model/_logistic.py:763: ConvergenceWarning: lbfgs failed to converge (status=1):\n",
      "STOP: TOTAL NO. of ITERATIONS REACHED LIMIT.\n",
      "\n",
      "Increase the number of iterations (max_iter) or scale the data as shown in:\n",
      "    https://scikit-learn.org/stable/modules/preprocessing.html\n",
      "Please also refer to the documentation for alternative solver options:\n",
      "    https://scikit-learn.org/stable/modules/linear_model.html#logistic-regression\n",
      "  n_iter_i = _check_optimize_result(\n",
      "/home/robert_ubuntu/anaconda3/lib/python3.8/site-packages/sklearn/linear_model/_logistic.py:763: ConvergenceWarning: lbfgs failed to converge (status=1):\n",
      "STOP: TOTAL NO. of ITERATIONS REACHED LIMIT.\n",
      "\n",
      "Increase the number of iterations (max_iter) or scale the data as shown in:\n",
      "    https://scikit-learn.org/stable/modules/preprocessing.html\n",
      "Please also refer to the documentation for alternative solver options:\n",
      "    https://scikit-learn.org/stable/modules/linear_model.html#logistic-regression\n",
      "  n_iter_i = _check_optimize_result(\n",
      "/home/robert_ubuntu/anaconda3/lib/python3.8/site-packages/sklearn/linear_model/_logistic.py:763: ConvergenceWarning: lbfgs failed to converge (status=1):\n",
      "STOP: TOTAL NO. of ITERATIONS REACHED LIMIT.\n",
      "\n",
      "Increase the number of iterations (max_iter) or scale the data as shown in:\n",
      "    https://scikit-learn.org/stable/modules/preprocessing.html\n",
      "Please also refer to the documentation for alternative solver options:\n",
      "    https://scikit-learn.org/stable/modules/linear_model.html#logistic-regression\n",
      "  n_iter_i = _check_optimize_result(\n",
      "/home/robert_ubuntu/anaconda3/lib/python3.8/site-packages/sklearn/linear_model/_logistic.py:763: ConvergenceWarning: lbfgs failed to converge (status=1):\n",
      "STOP: TOTAL NO. of ITERATIONS REACHED LIMIT.\n",
      "\n",
      "Increase the number of iterations (max_iter) or scale the data as shown in:\n",
      "    https://scikit-learn.org/stable/modules/preprocessing.html\n",
      "Please also refer to the documentation for alternative solver options:\n",
      "    https://scikit-learn.org/stable/modules/linear_model.html#logistic-regression\n",
      "  n_iter_i = _check_optimize_result(\n",
      "/home/robert_ubuntu/anaconda3/lib/python3.8/site-packages/sklearn/linear_model/_logistic.py:763: ConvergenceWarning: lbfgs failed to converge (status=1):\n",
      "STOP: TOTAL NO. of ITERATIONS REACHED LIMIT.\n",
      "\n",
      "Increase the number of iterations (max_iter) or scale the data as shown in:\n",
      "    https://scikit-learn.org/stable/modules/preprocessing.html\n",
      "Please also refer to the documentation for alternative solver options:\n",
      "    https://scikit-learn.org/stable/modules/linear_model.html#logistic-regression\n",
      "  n_iter_i = _check_optimize_result(\n",
      "/home/robert_ubuntu/anaconda3/lib/python3.8/site-packages/sklearn/linear_model/_logistic.py:763: ConvergenceWarning: lbfgs failed to converge (status=1):\n",
      "STOP: TOTAL NO. of ITERATIONS REACHED LIMIT.\n",
      "\n",
      "Increase the number of iterations (max_iter) or scale the data as shown in:\n",
      "    https://scikit-learn.org/stable/modules/preprocessing.html\n",
      "Please also refer to the documentation for alternative solver options:\n",
      "    https://scikit-learn.org/stable/modules/linear_model.html#logistic-regression\n",
      "  n_iter_i = _check_optimize_result(\n",
      "/home/robert_ubuntu/anaconda3/lib/python3.8/site-packages/sklearn/linear_model/_logistic.py:763: ConvergenceWarning: lbfgs failed to converge (status=1):\n",
      "STOP: TOTAL NO. of ITERATIONS REACHED LIMIT.\n",
      "\n",
      "Increase the number of iterations (max_iter) or scale the data as shown in:\n",
      "    https://scikit-learn.org/stable/modules/preprocessing.html\n",
      "Please also refer to the documentation for alternative solver options:\n",
      "    https://scikit-learn.org/stable/modules/linear_model.html#logistic-regression\n",
      "  n_iter_i = _check_optimize_result(\n",
      "/home/robert_ubuntu/anaconda3/lib/python3.8/site-packages/sklearn/linear_model/_logistic.py:763: ConvergenceWarning: lbfgs failed to converge (status=1):\n",
      "STOP: TOTAL NO. of ITERATIONS REACHED LIMIT.\n",
      "\n",
      "Increase the number of iterations (max_iter) or scale the data as shown in:\n",
      "    https://scikit-learn.org/stable/modules/preprocessing.html\n",
      "Please also refer to the documentation for alternative solver options:\n",
      "    https://scikit-learn.org/stable/modules/linear_model.html#logistic-regression\n",
      "  n_iter_i = _check_optimize_result(\n",
      "/home/robert_ubuntu/anaconda3/lib/python3.8/site-packages/sklearn/linear_model/_logistic.py:763: ConvergenceWarning: lbfgs failed to converge (status=1):\n",
      "STOP: TOTAL NO. of ITERATIONS REACHED LIMIT.\n",
      "\n",
      "Increase the number of iterations (max_iter) or scale the data as shown in:\n",
      "    https://scikit-learn.org/stable/modules/preprocessing.html\n",
      "Please also refer to the documentation for alternative solver options:\n",
      "    https://scikit-learn.org/stable/modules/linear_model.html#logistic-regression\n",
      "  n_iter_i = _check_optimize_result(\n",
      "/home/robert_ubuntu/anaconda3/lib/python3.8/site-packages/sklearn/linear_model/_logistic.py:763: ConvergenceWarning: lbfgs failed to converge (status=1):\n",
      "STOP: TOTAL NO. of ITERATIONS REACHED LIMIT.\n",
      "\n",
      "Increase the number of iterations (max_iter) or scale the data as shown in:\n",
      "    https://scikit-learn.org/stable/modules/preprocessing.html\n",
      "Please also refer to the documentation for alternative solver options:\n",
      "    https://scikit-learn.org/stable/modules/linear_model.html#logistic-regression\n",
      "  n_iter_i = _check_optimize_result(\n",
      "/home/robert_ubuntu/anaconda3/lib/python3.8/site-packages/sklearn/linear_model/_logistic.py:763: ConvergenceWarning: lbfgs failed to converge (status=1):\n",
      "STOP: TOTAL NO. of ITERATIONS REACHED LIMIT.\n",
      "\n",
      "Increase the number of iterations (max_iter) or scale the data as shown in:\n",
      "    https://scikit-learn.org/stable/modules/preprocessing.html\n",
      "Please also refer to the documentation for alternative solver options:\n",
      "    https://scikit-learn.org/stable/modules/linear_model.html#logistic-regression\n",
      "  n_iter_i = _check_optimize_result(\n",
      "/home/robert_ubuntu/anaconda3/lib/python3.8/site-packages/sklearn/linear_model/_logistic.py:763: ConvergenceWarning: lbfgs failed to converge (status=1):\n",
      "STOP: TOTAL NO. of ITERATIONS REACHED LIMIT.\n",
      "\n",
      "Increase the number of iterations (max_iter) or scale the data as shown in:\n",
      "    https://scikit-learn.org/stable/modules/preprocessing.html\n",
      "Please also refer to the documentation for alternative solver options:\n",
      "    https://scikit-learn.org/stable/modules/linear_model.html#logistic-regression\n",
      "  n_iter_i = _check_optimize_result(\n",
      "/home/robert_ubuntu/anaconda3/lib/python3.8/site-packages/sklearn/linear_model/_logistic.py:763: ConvergenceWarning: lbfgs failed to converge (status=1):\n",
      "STOP: TOTAL NO. of ITERATIONS REACHED LIMIT.\n",
      "\n",
      "Increase the number of iterations (max_iter) or scale the data as shown in:\n",
      "    https://scikit-learn.org/stable/modules/preprocessing.html\n",
      "Please also refer to the documentation for alternative solver options:\n",
      "    https://scikit-learn.org/stable/modules/linear_model.html#logistic-regression\n",
      "  n_iter_i = _check_optimize_result(\n",
      "/home/robert_ubuntu/anaconda3/lib/python3.8/site-packages/sklearn/linear_model/_logistic.py:763: ConvergenceWarning: lbfgs failed to converge (status=1):\n",
      "STOP: TOTAL NO. of ITERATIONS REACHED LIMIT.\n",
      "\n",
      "Increase the number of iterations (max_iter) or scale the data as shown in:\n",
      "    https://scikit-learn.org/stable/modules/preprocessing.html\n",
      "Please also refer to the documentation for alternative solver options:\n",
      "    https://scikit-learn.org/stable/modules/linear_model.html#logistic-regression\n",
      "  n_iter_i = _check_optimize_result(\n",
      "/home/robert_ubuntu/anaconda3/lib/python3.8/site-packages/sklearn/linear_model/_logistic.py:763: ConvergenceWarning: lbfgs failed to converge (status=1):\n",
      "STOP: TOTAL NO. of ITERATIONS REACHED LIMIT.\n",
      "\n",
      "Increase the number of iterations (max_iter) or scale the data as shown in:\n",
      "    https://scikit-learn.org/stable/modules/preprocessing.html\n",
      "Please also refer to the documentation for alternative solver options:\n",
      "    https://scikit-learn.org/stable/modules/linear_model.html#logistic-regression\n",
      "  n_iter_i = _check_optimize_result(\n",
      "/home/robert_ubuntu/anaconda3/lib/python3.8/site-packages/sklearn/linear_model/_logistic.py:763: ConvergenceWarning: lbfgs failed to converge (status=1):\n",
      "STOP: TOTAL NO. of ITERATIONS REACHED LIMIT.\n",
      "\n",
      "Increase the number of iterations (max_iter) or scale the data as shown in:\n",
      "    https://scikit-learn.org/stable/modules/preprocessing.html\n",
      "Please also refer to the documentation for alternative solver options:\n",
      "    https://scikit-learn.org/stable/modules/linear_model.html#logistic-regression\n",
      "  n_iter_i = _check_optimize_result(\n",
      "/home/robert_ubuntu/anaconda3/lib/python3.8/site-packages/sklearn/linear_model/_logistic.py:763: ConvergenceWarning: lbfgs failed to converge (status=1):\n",
      "STOP: TOTAL NO. of ITERATIONS REACHED LIMIT.\n",
      "\n",
      "Increase the number of iterations (max_iter) or scale the data as shown in:\n",
      "    https://scikit-learn.org/stable/modules/preprocessing.html\n",
      "Please also refer to the documentation for alternative solver options:\n",
      "    https://scikit-learn.org/stable/modules/linear_model.html#logistic-regression\n",
      "  n_iter_i = _check_optimize_result(\n",
      "/home/robert_ubuntu/anaconda3/lib/python3.8/site-packages/sklearn/linear_model/_logistic.py:763: ConvergenceWarning: lbfgs failed to converge (status=1):\n",
      "STOP: TOTAL NO. of ITERATIONS REACHED LIMIT.\n",
      "\n",
      "Increase the number of iterations (max_iter) or scale the data as shown in:\n",
      "    https://scikit-learn.org/stable/modules/preprocessing.html\n",
      "Please also refer to the documentation for alternative solver options:\n",
      "    https://scikit-learn.org/stable/modules/linear_model.html#logistic-regression\n",
      "  n_iter_i = _check_optimize_result(\n",
      "/home/robert_ubuntu/anaconda3/lib/python3.8/site-packages/sklearn/linear_model/_logistic.py:763: ConvergenceWarning: lbfgs failed to converge (status=1):\n",
      "STOP: TOTAL NO. of ITERATIONS REACHED LIMIT.\n",
      "\n",
      "Increase the number of iterations (max_iter) or scale the data as shown in:\n",
      "    https://scikit-learn.org/stable/modules/preprocessing.html\n",
      "Please also refer to the documentation for alternative solver options:\n",
      "    https://scikit-learn.org/stable/modules/linear_model.html#logistic-regression\n",
      "  n_iter_i = _check_optimize_result(\n",
      "/home/robert_ubuntu/anaconda3/lib/python3.8/site-packages/sklearn/linear_model/_logistic.py:763: ConvergenceWarning: lbfgs failed to converge (status=1):\n",
      "STOP: TOTAL NO. of ITERATIONS REACHED LIMIT.\n",
      "\n",
      "Increase the number of iterations (max_iter) or scale the data as shown in:\n",
      "    https://scikit-learn.org/stable/modules/preprocessing.html\n",
      "Please also refer to the documentation for alternative solver options:\n",
      "    https://scikit-learn.org/stable/modules/linear_model.html#logistic-regression\n",
      "  n_iter_i = _check_optimize_result(\n",
      "/home/robert_ubuntu/anaconda3/lib/python3.8/site-packages/sklearn/linear_model/_logistic.py:763: ConvergenceWarning: lbfgs failed to converge (status=1):\n",
      "STOP: TOTAL NO. of ITERATIONS REACHED LIMIT.\n",
      "\n",
      "Increase the number of iterations (max_iter) or scale the data as shown in:\n",
      "    https://scikit-learn.org/stable/modules/preprocessing.html\n",
      "Please also refer to the documentation for alternative solver options:\n",
      "    https://scikit-learn.org/stable/modules/linear_model.html#logistic-regression\n",
      "  n_iter_i = _check_optimize_result(\n",
      "/home/robert_ubuntu/anaconda3/lib/python3.8/site-packages/sklearn/linear_model/_logistic.py:763: ConvergenceWarning: lbfgs failed to converge (status=1):\n",
      "STOP: TOTAL NO. of ITERATIONS REACHED LIMIT.\n",
      "\n",
      "Increase the number of iterations (max_iter) or scale the data as shown in:\n",
      "    https://scikit-learn.org/stable/modules/preprocessing.html\n",
      "Please also refer to the documentation for alternative solver options:\n",
      "    https://scikit-learn.org/stable/modules/linear_model.html#logistic-regression\n",
      "  n_iter_i = _check_optimize_result(\n",
      "/home/robert_ubuntu/anaconda3/lib/python3.8/site-packages/sklearn/linear_model/_logistic.py:763: ConvergenceWarning: lbfgs failed to converge (status=1):\n",
      "STOP: TOTAL NO. of ITERATIONS REACHED LIMIT.\n",
      "\n",
      "Increase the number of iterations (max_iter) or scale the data as shown in:\n",
      "    https://scikit-learn.org/stable/modules/preprocessing.html\n",
      "Please also refer to the documentation for alternative solver options:\n",
      "    https://scikit-learn.org/stable/modules/linear_model.html#logistic-regression\n",
      "  n_iter_i = _check_optimize_result(\n",
      "/home/robert_ubuntu/anaconda3/lib/python3.8/site-packages/sklearn/linear_model/_logistic.py:763: ConvergenceWarning: lbfgs failed to converge (status=1):\n",
      "STOP: TOTAL NO. of ITERATIONS REACHED LIMIT.\n",
      "\n",
      "Increase the number of iterations (max_iter) or scale the data as shown in:\n",
      "    https://scikit-learn.org/stable/modules/preprocessing.html\n",
      "Please also refer to the documentation for alternative solver options:\n",
      "    https://scikit-learn.org/stable/modules/linear_model.html#logistic-regression\n",
      "  n_iter_i = _check_optimize_result(\n",
      "/home/robert_ubuntu/anaconda3/lib/python3.8/site-packages/sklearn/linear_model/_logistic.py:763: ConvergenceWarning: lbfgs failed to converge (status=1):\n",
      "STOP: TOTAL NO. of ITERATIONS REACHED LIMIT.\n",
      "\n",
      "Increase the number of iterations (max_iter) or scale the data as shown in:\n",
      "    https://scikit-learn.org/stable/modules/preprocessing.html\n",
      "Please also refer to the documentation for alternative solver options:\n",
      "    https://scikit-learn.org/stable/modules/linear_model.html#logistic-regression\n",
      "  n_iter_i = _check_optimize_result(\n",
      "/home/robert_ubuntu/anaconda3/lib/python3.8/site-packages/sklearn/linear_model/_logistic.py:763: ConvergenceWarning: lbfgs failed to converge (status=1):\n",
      "STOP: TOTAL NO. of ITERATIONS REACHED LIMIT.\n",
      "\n",
      "Increase the number of iterations (max_iter) or scale the data as shown in:\n",
      "    https://scikit-learn.org/stable/modules/preprocessing.html\n",
      "Please also refer to the documentation for alternative solver options:\n",
      "    https://scikit-learn.org/stable/modules/linear_model.html#logistic-regression\n",
      "  n_iter_i = _check_optimize_result(\n"
     ]
    },
    {
     "name": "stdout",
     "output_type": "stream",
     "text": [
      "              precision    recall  f1-score   support\n",
      "\n",
      "           0       0.83      0.77      0.80        13\n",
      "           1       0.92      0.95      0.94        38\n",
      "\n",
      "    accuracy                           0.90        51\n",
      "   macro avg       0.88      0.86      0.87        51\n",
      "weighted avg       0.90      0.90      0.90        51\n",
      "\n"
     ]
    },
    {
     "name": "stderr",
     "output_type": "stream",
     "text": [
      "/home/robert_ubuntu/anaconda3/lib/python3.8/site-packages/sklearn/linear_model/_logistic.py:763: ConvergenceWarning: lbfgs failed to converge (status=1):\n",
      "STOP: TOTAL NO. of ITERATIONS REACHED LIMIT.\n",
      "\n",
      "Increase the number of iterations (max_iter) or scale the data as shown in:\n",
      "    https://scikit-learn.org/stable/modules/preprocessing.html\n",
      "Please also refer to the documentation for alternative solver options:\n",
      "    https://scikit-learn.org/stable/modules/linear_model.html#logistic-regression\n",
      "  n_iter_i = _check_optimize_result(\n",
      "/home/robert_ubuntu/anaconda3/lib/python3.8/site-packages/sklearn/linear_model/_logistic.py:763: ConvergenceWarning: lbfgs failed to converge (status=1):\n",
      "STOP: TOTAL NO. of ITERATIONS REACHED LIMIT.\n",
      "\n",
      "Increase the number of iterations (max_iter) or scale the data as shown in:\n",
      "    https://scikit-learn.org/stable/modules/preprocessing.html\n",
      "Please also refer to the documentation for alternative solver options:\n",
      "    https://scikit-learn.org/stable/modules/linear_model.html#logistic-regression\n",
      "  n_iter_i = _check_optimize_result(\n"
     ]
    }
   ],
   "source": [
    "lr_clf = LogisticRegressionCV(cv=5, class_weight={0:3, 1:1}, random_state=0).fit(np.vstack(X_train_embs), y_train)\n",
    "y_pred_test = lr_clf.predict(np.vstack(X_test_embs))\n",
    "\n",
    "print(classification_report(y_test, y_pred_test))"
   ]
  },
  {
   "cell_type": "markdown",
   "id": "3541b71a-e94b-461e-9316-63dc208cbd3b",
   "metadata": {},
   "source": [
    "Due to the small size of the negative samples it is difficult to be confident even in our cross-validated scores. However, it does at least appear that we can do better than random chance in respect to recall!"
   ]
  },
  {
   "cell_type": "markdown",
   "id": "b5378d9f-9090-441e-a38d-e6348c90bfcb",
   "metadata": {},
   "source": [
    "## Train an XGBoost Classifier to see possible performance increase"
   ]
  },
  {
   "cell_type": "code",
   "execution_count": 54,
   "id": "353421d0-6210-4a4b-b12d-7da595179d61",
   "metadata": {},
   "outputs": [],
   "source": [
    "from xgboost import XGBClassifier"
   ]
  },
  {
   "cell_type": "code",
   "execution_count": 55,
   "id": "29728b05-7546-4e30-a075-a7f648b22a5f",
   "metadata": {},
   "outputs": [
    {
     "name": "stdout",
     "output_type": "stream",
     "text": [
      "[02:57:43] WARNING: ../src/learner.cc:1095: Starting in XGBoost 1.3.0, the default evaluation metric used with the objective 'binary:logistic' was changed from 'error' to 'logloss'. Explicitly set eval_metric if you'd like to restore the old behavior.\n",
      "CPU times: user 516 ms, sys: 48.6 ms, total: 564 ms\n",
      "Wall time: 41.1 ms\n"
     ]
    },
    {
     "name": "stderr",
     "output_type": "stream",
     "text": [
      "/home/robert_ubuntu/anaconda3/lib/python3.8/site-packages/xgboost/sklearn.py:1146: UserWarning: The use of label encoder in XGBClassifier is deprecated and will be removed in a future release. To remove this warning, do the following: 1) Pass option use_label_encoder=False when constructing XGBClassifier object; and 2) Encode your labels (y) as integers starting with 0, i.e. 0, 1, 2, ..., [num_class - 1].\n",
      "  warnings.warn(label_encoder_deprecation_msg, UserWarning)\n"
     ]
    },
    {
     "data": {
      "text/plain": [
       "XGBClassifier(base_score=0.5, booster='gbtree', colsample_bylevel=1,\n",
       "              colsample_bynode=1, colsample_bytree=1, gamma=0, gpu_id=-1,\n",
       "              importance_type='gain', interaction_constraints='',\n",
       "              learning_rate=0.300000012, max_delta_step=0, max_depth=6,\n",
       "              min_child_weight=1, missing=nan, monotone_constraints='()',\n",
       "              n_estimators=10, n_jobs=16, num_parallel_tree=1, random_state=0,\n",
       "              reg_alpha=0, reg_lambda=1, scale_pos_weight=1, subsample=1,\n",
       "              tree_method='exact', validate_parameters=1, verbosity=None)"
      ]
     },
     "execution_count": 55,
     "metadata": {},
     "output_type": "execute_result"
    }
   ],
   "source": [
    "%%time\n",
    "xgb_clf = XGBClassifier(n_estimators=10, random_state=0)\n",
    "xgb_clf.fit(np.vstack(X_train_embs), y_train)"
   ]
  },
  {
   "cell_type": "code",
   "execution_count": 56,
   "id": "a81a56db-e8d9-4620-9372-7e0cd16a7804",
   "metadata": {},
   "outputs": [
    {
     "name": "stdout",
     "output_type": "stream",
     "text": [
      "              precision    recall  f1-score   support\n",
      "\n",
      "           0       0.89      0.62      0.73        13\n",
      "           1       0.88      0.97      0.93        38\n",
      "\n",
      "    accuracy                           0.88        51\n",
      "   macro avg       0.88      0.79      0.83        51\n",
      "weighted avg       0.88      0.88      0.87        51\n",
      "\n"
     ]
    }
   ],
   "source": [
    "y_pred_test = xgb_clf.predict(np.vstack(X_test_embs))\n",
    "\n",
    "print(classification_report(y_test, y_pred_test))"
   ]
  },
  {
   "cell_type": "markdown",
   "id": "0b9e3f0b-2ade-4b5a-aaff-96161c3b9ca9",
   "metadata": {},
   "source": [
    "It appears that logistic regression outperforms XGBoost in this low data regime. This is inline with my previous experience and makes sense with XGBoost possibly overfitting in the negative class. However, neither model has had a proper hyperparameter search which may make a difference. "
   ]
  },
  {
   "cell_type": "markdown",
   "id": "136d5885-c5ef-4b6d-b83b-cdfff578ddf6",
   "metadata": {},
   "source": [
    "## TFIDF Features for Possible Interpretability"
   ]
  },
  {
   "cell_type": "code",
   "execution_count": 57,
   "id": "1e5f48b6-ab43-4f46-9f64-0d2f7e2ac16c",
   "metadata": {},
   "outputs": [],
   "source": [
    "from sklearn.feature_extraction.text import TfidfVectorizer"
   ]
  },
  {
   "cell_type": "code",
   "execution_count": 58,
   "id": "e5becffa-6772-447b-95b5-b40aec8ed030",
   "metadata": {},
   "outputs": [],
   "source": [
    "neg_texts = df[df['From'] != 'phillip.allen@enron.com']['tokens'].apply(lambda tokens: ' '.join(tokens))\n",
    "neg_labels = [0]*len(neg_embs)\n",
    "pos_texts = df[df['From'] == 'phillip.allen@enron.com']['tokens'].apply(lambda tokens: ' '.join(tokens)).sample(n=3*len(neg_embs))\n",
    "pos_labels = [1]*3*len(neg_embs)"
   ]
  },
  {
   "cell_type": "code",
   "execution_count": 59,
   "id": "d6ddf70f-ad7d-4e7e-9f02-f6b3c09541b7",
   "metadata": {},
   "outputs": [],
   "source": [
    "X_texts = np.append(neg_texts, pos_texts)\n",
    "y_labels = np.append(neg_labels, pos_labels)"
   ]
  },
  {
   "cell_type": "code",
   "execution_count": 68,
   "id": "24dc8869-ffb1-4955-9ed9-bd7b50be2f07",
   "metadata": {},
   "outputs": [],
   "source": [
    "vectorizer = TfidfVectorizer(stop_words=ENGLISH_STOP_WORDS)\n",
    "X_tfidf = vectorizer.fit_transform(X_texts) \n",
    "y_tfidf = y_labels"
   ]
  },
  {
   "cell_type": "code",
   "execution_count": 69,
   "id": "c75f6e9f-f1cf-4f69-91e3-c1d1b8e4eb21",
   "metadata": {},
   "outputs": [],
   "source": [
    "feature_names = vectorizer.get_feature_names()\n",
    "#feature_names"
   ]
  },
  {
   "cell_type": "code",
   "execution_count": 70,
   "id": "cbbf0f4b-3078-4a52-8cb4-4c35c2420c02",
   "metadata": {},
   "outputs": [],
   "source": [
    "X_train_tfidf, X_test_tfidf, y_train_tfidf, y_test_tfidf = train_test_split(X_tfidf, y_tfidf,  random_state=0, stratify=y_tfidf)"
   ]
  },
  {
   "cell_type": "code",
   "execution_count": 73,
   "id": "1e226f9a-19c0-4731-a661-2f7ed36045d4",
   "metadata": {},
   "outputs": [
    {
     "name": "stdout",
     "output_type": "stream",
     "text": [
      "              precision    recall  f1-score   support\n",
      "\n",
      "           0       0.70      0.54      0.61        13\n",
      "           1       0.85      0.92      0.89        38\n",
      "\n",
      "    accuracy                           0.82        51\n",
      "   macro avg       0.78      0.73      0.75        51\n",
      "weighted avg       0.81      0.82      0.82        51\n",
      "\n"
     ]
    }
   ],
   "source": [
    "lr_clf_tfidf = LogisticRegressionCV(cv=5, class_weight={0:3, 1:1}, random_state=0).fit(X_train_tfidf, y_train_tfidf)\n",
    "y_pred_test_tfidf = lr_clf_tfidf.predict(X_test_tfidf)\n",
    "\n",
    "print(classification_report(y_test_tfidf, y_pred_test_tfidf))"
   ]
  },
  {
   "cell_type": "markdown",
   "id": "ce17b347-826a-4e92-a366-cce8515ea5e3",
   "metadata": {},
   "source": [
    "The performance with TFIDF features of logistic regression appears to be worse than the embeddings. But a proper search for hyperparameters might show a difference, but all else being equal it appears that even a small embedding is helpful."
   ]
  },
  {
   "cell_type": "markdown",
   "id": "3d783b98-47cd-4a65-a46b-83313e0bea57",
   "metadata": {},
   "source": [
    "## Topic Modelling of Philip Allen's emails by Latent Direchlet Allocation"
   ]
  },
  {
   "cell_type": "code",
   "execution_count": 74,
   "id": "163121ad-64b8-4260-9f84-183781c989ac",
   "metadata": {},
   "outputs": [],
   "source": [
    "from gensim.corpora import Dictionary\n",
    "from gensim.models.ldamodel import LdaModel\n",
    "\n",
    "from pprint import pprint\n",
    "\n",
    "from pyLDAvis import enable_notebook\n",
    "from pyLDAvis.gensim_models import prepare"
   ]
  },
  {
   "cell_type": "markdown",
   "id": "beaddf8d-b6e3-4625-94f3-94c90b55e3f6",
   "metadata": {},
   "source": [
    "We'll restrict our emails to Philip Allen, so that we can get a sense of what topics he was discussing. Only around 50 of the 660 or so emails are not from Philip Allen, so less than 10%."
   ]
  },
  {
   "cell_type": "code",
   "execution_count": 75,
   "id": "7be3f335-8196-4ae3-8bac-9cb7a8d2a422",
   "metadata": {},
   "outputs": [
    {
     "name": "stdout",
     "output_type": "stream",
     "text": [
      "Number of Philip Allen emails: 609\n"
     ]
    },
    {
     "name": "stderr",
     "output_type": "stream",
     "text": [
      "/home/robert_ubuntu/anaconda3/lib/python3.8/site-packages/ipykernel/ipkernel.py:287: DeprecationWarning: `should_run_async` will not call `transform_cell` automatically in the future. Please pass the result to `transformed_cell` argument and any exception that happen during thetransform in `preprocessing_exc_tuple` in IPython 7.17 and above.\n",
      "  and should_run_async(code)\n"
     ]
    }
   ],
   "source": [
    "pa_df = df[df['From'] == 'phillip.allen@enron.com']\n",
    "print('Number of Philip Allen emails:', len(pa_df))"
   ]
  },
  {
   "cell_type": "markdown",
   "id": "5ecc92fe-232d-4c59-99cf-712660dbaac3",
   "metadata": {},
   "source": [
    "We'll do topic modelling by both named entities and noun chunks for comparison. Named entities would allow a subject matter expert to determine groups of related people, places, and companies, while noun chunks would be related concepts."
   ]
  },
  {
   "cell_type": "code",
   "execution_count": 76,
   "id": "05fd9c76-d5c3-4bb0-8755-489e5e09d5ca",
   "metadata": {},
   "outputs": [
    {
     "name": "stderr",
     "output_type": "stream",
     "text": [
      "/home/robert_ubuntu/anaconda3/lib/python3.8/site-packages/ipykernel/ipkernel.py:287: DeprecationWarning: `should_run_async` will not call `transform_cell` automatically in the future. Please pass the result to `transformed_cell` argument and any exception that happen during thetransform in `preprocessing_exc_tuple` in IPython 7.17 and above.\n",
      "  and should_run_async(code)\n"
     ]
    }
   ],
   "source": [
    "id2word0 = Dictionary(pa_df['ents'])\n",
    "corpus0 = [id2word0.doc2bow(ents) for ents in pa_df['ents']]\n",
    "\n",
    "id2word1 = Dictionary(pa_df['noun_chunks'])\n",
    "corpus1 = [id2word1.doc2bow(noun_chunks) for noun_chunks in pa_df['noun_chunks']]"
   ]
  },
  {
   "cell_type": "code",
   "execution_count": 77,
   "id": "e1d680f8-2fce-4017-a5e9-7ee3044a9b25",
   "metadata": {},
   "outputs": [
    {
     "name": "stderr",
     "output_type": "stream",
     "text": [
      "/home/robert_ubuntu/anaconda3/lib/python3.8/site-packages/ipykernel/ipkernel.py:287: DeprecationWarning: `should_run_async` will not call `transform_cell` automatically in the future. Please pass the result to `transformed_cell` argument and any exception that happen during thetransform in `preprocessing_exc_tuple` in IPython 7.17 and above.\n",
      "  and should_run_async(code)\n",
      "/home/robert_ubuntu/anaconda3/lib/python3.8/site-packages/pyLDAvis/_prepare.py:246: FutureWarning: In a future version of pandas all arguments of DataFrame.drop except for the argument 'labels' will be keyword-only\n",
      "  default_term_info = default_term_info.sort_values(\n"
     ]
    },
    {
     "data": {
      "text/html": [
       "\n",
       "<link rel=\"stylesheet\" type=\"text/css\" href=\"https://cdn.jsdelivr.net/gh/bmabey/pyLDAvis@3.3.1/pyLDAvis/js/ldavis.v1.0.0.css\">\n",
       "\n",
       "\n",
       "<div id=\"ldavis_el3527140041975586704241250451\"></div>\n",
       "<script type=\"text/javascript\">\n",
       "\n",
       "var ldavis_el3527140041975586704241250451_data = {\"mdsDat\": {\"x\": [0.12126059354320852, -0.2377859286265834, 0.09506375323508488, 0.09064761976629333, -0.05304410001052169, 0.005895097063894971, -0.022037034971376657], \"y\": [-0.026309308946285966, -0.012600545220979018, 0.10290494128206067, -0.02905910672434473, 0.17791183212513137, -0.07903810151491968, -0.13380971100066305], \"topics\": [1, 2, 3, 4, 5, 6, 7], \"cluster\": [1, 1, 1, 1, 1, 1, 1], \"Freq\": [20.084002158442136, 17.984341826564474, 14.136388518985765, 13.667284985514808, 12.28468808254515, 11.273275109944535, 10.570019318003135]}, \"tinfo\": {\"Term\": [\"Lucy\", \"HOU\", \"Phillip_K_Allen\", \"Phillip\", \"Phillip_Allen\", \"ISO\", \"FERC\", \"James_D_Steffes\", \"ECT\", \"George\", \"Republicans\", \"SoCal\", \"Mike_Grigsby\", \"Patti\", \"Alan_Comnes\", \"Jeff\", \"Enron\", \"Houston\", \"Tim_Belden\", \"Larry_Lewter\", \"Larry\", \"Austin\", \"Michael_Etringer\", \"Davis\", \"Susan_J_Mara\", \"AES\", \"Jeff_Dasovich\", \"CB\", \"Robert_Badeer\", \"Wade\", \"Sagewood\", \"2_MM\", \"San_Juan\", \"Richard_Burchfield\", \"Scott_Mills\", \"Richard\", \"Russ_Severson\", \"TDS\", \"San_Diego\", \"Cindy_Cicchetti\", \"Edward_D_\\nBaughman\", \"Allan_Severude\", \"Scott_Neal\", \"Sitara\", \"Dallas\", \"West_Gas_Trading\", \"Jere_C_\\nOverdyke\", \"Brad_Blesie\", \"Andrea_V_Reed\", \"EES\", \"Mark_E_\\nHaedicke\", \"Northwest\", \"Russell_Long\", \"Allan\", \"Stanfield\", \"Scott_\\nMills\", \"Colleen_Sullivan\", \"4_MM\", \"Ben_Jacoby\", \"Chris_Abel\", \"HOU\", \"ENA\", \"Fletcher_J_Sturm\", \"Enron\", \"Hunter_S_Shively\", \"Greg_Wolfe\", \"ECT\", \"Phillip_K_Allen\", \"first\", \"Reagan\", \"George\", \"Mike_Grigsby\", \"Stephanie_Miller\", \"Houston\", \"ISO\", \"AES\", \"PUC\", \"thousand_cubic_feet\", \"CPUC\", \"SCE\", \"Dow_Jones_Newswires\", \"+5%\", \"Lee_O'Donnell\", \"Wanda_Curry\", \"10\", \"Kansas_Gas_Service\", \"TCBA\", \"Larry\", \"Edison_International\", \"Roger_Yang\", \"DYN\", \"Dow_Jones_&_Company_Inc\", \"Duke\", \"Jessica_Berthold\", \"LOS_ANGELES\", \"Lednicky\", \"Powerex\", \"Jim_Murnan\", \"Angela_Schwarz\", \"Bill_Votaw\", \"Brenda_Barreda\", \"Cathy_Corbin\", \"Debora_Whitehead\", \"George\", \"Jeff\", \"AMF\", \"California\", \"Keith\", \"San_Marcos\", \"Phillip\", \"Karen_Denne\", \"William_S_Bradford\", \"Marty_Sunde\", \"Dan_Leff\", \"10%\", \"Harry_Kingerski\", \"PG&E\", \"Don_Black\", \"TX\", \"Phillip_Allen\", \"Travis_McCullough\", \"Jacques\", \"Scott_Stoness\", \"James_D_Steffes\", \"Mark_Whitt\", \"1st\", \"PaineWebber\", \"Calif\", \"Robert_Badeer\", \"LADWP\", \"Paul_Lucci\", \"Denver\", \"Mark_Whitt@ENRON\", \"Tyrell_Harrison@ECT\", \"Steve_Walton\", \"Leslie_Lawner\", \"Christopher_F_Calger\", \"Frank_W_\\nVickers\", \"ENRON\", \"Kim_Ward\", \"New_York\", \"2nd\", \"RP00-\", \"Susan_J_Mara\", \"Andy\", \"Matt_\\nMotley\", \"AEC\", \"Elliot_Mainzer\", \"Jeff_G_\\nSlaughter\", \"Jake_Thomas\", \"Jim_\\nGilbert\", \"Terry_W_Donovan\", \"IEP\", \"Rebecca_W_\\nCantrell\", \"Phillip_K_Allen\", \"Tim_Belden\", \"Jeff_\\nDasovich\", \"PG&E\", \"ECT\", \"Jim\", \"Barry_Tycholiz\", \"SoCal_Edison\", \"Michael_McDonald\", \"HOU\", \"Phillip\", \"Enron\", \"Ina_Rangel\", \"Phillip_K_\\nAllen\", \"FERC\", \"Michael_Etringer\", \"K\", \"Texas\", \"Christi_L_Nicolay\", \"phillip\", \"Frank_Hayden\", \"Vladimir_Gorny\", \"David_Parquet\", \"Erika_Dupre\", \"Rebecca_W_Cantrell\", \"Ed_Clark\", \"Jess_Hewitt\", \"Commission\", \"Shockmachine\", \"75\", \"Western\", \"740\", \"John_Arnold\", \"Hunter\", \"Darron_C_Giron\", \"Frogger\", \"Jane_M_Tholt\", \"3000\", \"Martin\", \"Scott\", \"SF\", \"Exodus\", \"FERC\", \"SW_Gas\", \"Bee_Cave_Road\", \"John\", \"The_Smith_Company\", \"Jeff_Smith\", \"Phillip_K_Allen\", \"Austin\", \"HOU\", \"California\", \"Phillip\", \"Mike_Grigsby\", \"SoCal\", \"Republicans\", \"CB\", \"Jeff_Dasovich\", \"Steven_J_Kean\", \"Senate\", \"Richard_Shapiro\", \"Davis\", \"Steve_Kean\", \"DWR\", \"Bowen\", \"SB_6X\", \"19,000\", \"70%\", \"COA\", \"$5_billion\", \"100%\", \"AB_8X\", \"Democratic\", \"Susan_J_\\nMara\", \"Alan_Comnes\", \"Robert_Frank\", \"Don_\\nBlack\", \"James_D_Steffes@ENRON\", \"Mike_Day\", \"Paul_Kaufman\", \"1,395,000\", \"Richard_B_Sanders\", \"Kristin_Walsh\", \"Lehman_Brothers\", \"Second\", \"Creekside_Builders,_LLC\", \"third\", \"second\", \"Vicki_Sharp\", \"Mike_D_Smith\", \"Michael_Tribolet\", \"Travis_McCullough\", \"75%\", \"George_Richards\", \"Tim_Belden\", \"Larry_Lewter\", \"Phillip_K_Allen\", \"Mary_Hain\", \"Creekside\", \"first\", \"Susan\", \"Lucy\", \"VAR\", \"Liane_Kucher\", \"0.60\", \"Frank\", \"Seguin\", \"Bank_One\", \"McNary\", \"5360.65\", \"#9.\\n\\n\\n\\n\", \"3,11,15,20a\", \"495\", \"120\", \"Gilbert\", \"Neil_Moreno\", \"0\", \"@130.00\\na\", \"40\", \"325,000\", \"5_acres\", \"Wimberley\", \"10%-12%\", \"Jaques_Craig\", \"about_$225\", \"around_$745\", \"125.00\", \"250.00\", \"Cary_Kipp\", \"less_than_the_$6,000\", \"Wade\", \"Reagan\", \"Phillip\", \"San_Marcos\", \"Jeff\", \"Larry\", \"Phillip_Allen\", \"James_W_Lewis\", \"260\", \"Patti\", \"Gary\", \"George_W._Richards\", \"95\", \"140\", \"Matt_Lenhart\", \"Janie_Tholt\", \"Steve_South\", \"Dexter\", \"Mary\", \"110\", \"47\", \"Tomas\", \"Socal\", \"150,000\", \"Phillip\\n\\n\\n\", \"Kipp_Flores\", \"Steve\", \"at_least_$84,000\", \"Greg\", \"150\", \"Barry_T.__\", \"Faith\", \"Faith_Killen\", \"Johnnie\", \"Randy_Gay\", \"Shelley_Corman\", \"Jeanette_Peterson\", \"Vista_Insurance_Partners\", \"Lamar\", \"Bob\", \"Phillip_Allen\", \"Mike_Grigsby\", \"Monique_Sanchez\", \"Larry_Lewter\", \"Phillip\", \"Keith_Holst\", \"Austin\", \"Frank_Ermis\", \"Jay_Reitmeyer\", \"George_Richards\", \"first\", \"Wade\", \"Tori_Kuykendall\", \"Lucy\", \"California\"], \"Freq\": [50.0, 97.0, 111.0, 108.0, 40.0, 28.0, 21.0, 14.0, 28.0, 23.0, 12.0, 12.0, 18.0, 10.0, 14.0, 22.0, 28.0, 13.0, 21.0, 14.0, 18.0, 16.0, 10.0, 10.0, 12.0, 13.0, 9.0, 9.0, 10.0, 10.0, 7.888740492085291, 6.635720142721626, 7.355830891496892, 7.224911130709206, 6.480613280222684, 4.063941060151438, 8.80006107568443, 3.6594413836307056, 5.133558486407332, 5.423638422996383, 3.508550639120999, 7.195645404283837, 9.527064715954413, 3.0765882085525216, 2.9403782595998393, 2.938905855114217, 2.925723083054445, 2.922707201986419, 2.92137473790841, 2.910654972117292, 2.8759588416460704, 4.321694211635188, 2.9604037870240396, 2.4936782859862108, 2.4936278743826805, 2.4766135449813693, 3.7855858157451894, 2.319632087061537, 2.293717492641332, 2.293717492641332, 74.06323373971347, 4.557419971635426, 4.598761343155605, 18.537797811104298, 10.081769759555437, 3.781432230182192, 12.721571450102207, 21.90153987945517, 5.074611619905646, 3.4112595499866125, 3.7395481763726437, 3.2168046403562607, 2.9588407518413598, 13.306239288890383, 26.65098343220369, 12.125831259016596, 10.275962303485626, 5.768262815740549, 5.731474320334351, 9.999628008444526, 4.7218190985314665, 3.8716249270602514, 3.8494528641313486, 3.7631087572470014, 6.659299326262811, 2.9195118869977335, 2.898184436496722, 14.904569638998131, 2.892122911616299, 2.8761174567729246, 2.866374072926759, 2.866374072926759, 2.866374072926759, 2.866374072926759, 2.866374072926759, 2.866374072926759, 2.866374072926759, 2.8494546902079945, 2.8520852237743, 2.8520852237743, 2.8520852237743, 2.8520852237743, 2.8520852237743, 18.516008056868515, 17.128076977407712, 4.266262190418275, 10.317585119675062, 8.952267156595578, 7.022784106116639, 23.1609106893981, 3.3205816732185243, 3.303750106511538, 4.188152808031676, 3.7867201640768227, 3.920232076276356, 3.652409767523001, 4.492424435179443, 3.6151158367006966, 3.7129941820534316, 6.38184710379087, 3.834694100646199, 3.466926316824652, 3.509287922214303, 13.838104767554347, 7.649738885357901, 7.648817494142105, 6.2012506231627835, 6.466060242420605, 9.487410232679341, 5.214159094841042, 4.023618491649748, 4.858393891878511, 4.7079116270260615, 4.7079116270260615, 5.331185861810872, 5.3310772803544655, 8.464572137744796, 5.290232814363358, 3.624926385478593, 3.559402905609867, 3.096700479723199, 2.8243070274217312, 2.8241183671412244, 10.295832525647242, 2.821274502460654, 2.8102443715488366, 3.4509517469506856, 4.011918451930992, 2.9952012488104676, 2.995190196769369, 2.9951533566323736, 2.995145213023143, 3.2804939842376135, 4.182462692018274, 57.876342284830535, 12.894247272846494, 5.302711538240918, 7.239538308180364, 13.277933033951305, 4.843426713694656, 5.882846360395279, 3.987343753809707, 3.8408929633172786, 11.338548007340728, 10.155315711747448, 6.3666888202625325, 4.349812310541699, 4.066538026830973, 4.179918008029196, 10.119505479719983, 8.227239794577358, 7.366811592220975, 6.950290782502145, 7.3499160883925745, 6.948359932051313, 6.930334412056155, 6.908545420832754, 6.529213165719353, 5.349017757506837, 5.344931103154591, 5.27126072270098, 4.696171725356363, 4.7770938552119135, 3.7463069050398903, 3.746052707640732, 3.236498649209419, 2.9903798908454666, 3.6172874779153403, 2.5603371292121353, 2.2426663020542197, 2.228943579185074, 2.1461408384826557, 2.145881017247233, 2.145710615008417, 2.140152765089364, 2.199266407755796, 16.16385622758877, 2.4725927235840506, 2.7709004950218863, 6.29173430700864, 2.7709004950218863, 3.9783291428843124, 22.353505908878333, 6.527607747927031, 11.303435490134584, 4.221593429421585, 4.632193839243507, 2.843510969800838, 11.821452554710028, 11.983857123478748, 8.629282108414065, 8.82765885781162, 6.017887950727986, 6.751490065861647, 6.980358785277735, 9.2489644550094, 4.741725439471806, 4.386706733618664, 4.384194099852189, 4.090459259472293, 3.520440521170003, 3.5166853873100474, 3.503052259758714, 3.249927997427417, 3.238978023047848, 2.95099063021184, 2.9489794448150692, 3.351200348415342, 11.510291709493165, 3.1571260125500538, 2.288644227314686, 2.288644227314686, 3.116372885670551, 7.174646438897071, 2.2281019190575244, 3.4158026023942853, 1.8168603367205298, 1.816508851068916, 2.5750827917184624, 3.5171126968078865, 3.5091865774157878, 6.638026588380161, 4.752289554722806, 2.845383514183925, 5.001821451717378, 4.391236281694735, 3.7863490209697805, 4.385541742345769, 5.323389035579962, 4.671181291907765, 7.993675406131901, 3.680444675464662, 3.507282893383221, 3.578874758004661, 6.974572440586856, 46.20500513871021, 4.187507599875027, 4.157280608040416, 3.33864257657232, 2.919930256320502, 2.1531263374628105, 2.1500069359032543, 1.8258869811548, 1.7071535029673448, 1.7063137354512374, 1.7063135808263956, 1.7063135808263956, 1.706124165395125, 1.706124165395125, 1.706124165395125, 1.7052881088752219, 1.7052881088752219, 1.7025552694202997, 1.7762746728969916, 1.7762653954064804, 1.7762482320490347, 1.6446032703171125, 1.6446032703171125, 1.6446032703171125, 1.6446032703171125, 1.6540019867043474, 1.6540019867043474, 1.399019128244251, 1.37636117704322, 5.960673231076866, 5.10637716482889, 22.661581792317524, 2.4699750590230947, 2.663486502354572, 2.242148961537762, 2.4323175704132045, 1.7958849684650862, 1.70609540517454, 10.142985841310793, 6.251371613295358, 7.070934706500831, 5.280133864403492, 4.875318426683976, 6.0674397216049725, 4.673692724269482, 4.368648319037214, 4.76518139941801, 4.160864200871527, 3.6733942352181157, 3.6733942352181157, 3.6733942352181157, 6.745047547794892, 3.6269168840829957, 2.843987941320249, 2.9047097640497537, 3.078277690666694, 2.4933676640512403, 4.103413973081554, 2.4685843827721774, 2.4511454450385726, 2.4511454450385726, 2.4511454450385726, 1.9936366837904047, 2.66473394036455, 1.87663156882301, 1.6297138631518686, 1.6297116884676492, 1.6297082089728985, 4.554137284628626, 25.414600806665685, 11.319196566567516, 5.467802733456343, 8.71724662948817, 44.50651891494794, 8.080339033315296, 7.8119412467152785, 5.154310694884686, 5.004773028891136, 5.194643838205512, 7.505039371201823, 4.3648263840112485, 3.541833088897183, 3.904458492930478, 3.6476874380405855], \"Total\": [50.0, 97.0, 111.0, 108.0, 40.0, 28.0, 21.0, 14.0, 28.0, 23.0, 12.0, 12.0, 18.0, 10.0, 14.0, 22.0, 28.0, 13.0, 21.0, 14.0, 18.0, 16.0, 10.0, 10.0, 12.0, 13.0, 9.0, 9.0, 10.0, 10.0, 8.471165802296033, 7.2074586330351025, 8.174414323085015, 8.079557592203688, 7.424037478984664, 4.657401698047361, 10.173072710231523, 4.23107424061392, 5.9606660404466805, 6.307230384204534, 4.089175357997999, 8.386922994434567, 11.245673502444799, 3.648219308045673, 3.512029917358583, 3.511228229861571, 3.5062158497418214, 3.5049557393842043, 3.504309146645009, 3.4959285583715616, 3.479229888026436, 5.243006999419074, 3.595878055421378, 3.0653071469627524, 3.0652786013076145, 3.0576041387191824, 4.682099635240324, 2.891291951920363, 2.8826666574870883, 2.8826666574870883, 97.35089426266576, 5.873142820006535, 6.038628670002641, 28.06307964692288, 14.507280836727137, 5.404043078164757, 28.552494204774554, 111.94858606012036, 23.13980306744137, 10.112344048903676, 23.696637213208646, 18.078984302492906, 5.952772902745343, 13.970074487718867, 28.578254045002602, 13.180505389710609, 11.264332529021274, 6.441247643697742, 6.456869205265697, 11.34598014137781, 5.517100740524278, 4.534702458778245, 4.53692014417422, 4.569119593649553, 8.129692798102392, 3.587505517361949, 3.597865937768982, 18.519702010177603, 3.598068075613738, 3.6029794505174335, 3.602442022860975, 3.602442022860975, 3.602442022860975, 3.602442022860975, 3.602442022860975, 3.602442022860975, 3.602442022860975, 3.598844128810569, 3.605628869249372, 3.605628869249372, 3.605628869249372, 3.605628869249372, 3.605628869249372, 23.696637213208646, 22.0802801599359, 5.841755122741379, 18.670898508861246, 18.279291284699383, 14.01948350790564, 108.74060380184878, 4.677599979382331, 4.686605060960861, 7.9309971514149025, 6.838941183304021, 8.207224727042195, 6.85919907014989, 12.306095471886785, 6.863007113564888, 7.532197321655346, 40.123601923158965, 9.10693433167739, 6.171243779590815, 6.894321951862797, 14.65454428171117, 8.298543648332172, 8.298451644152602, 6.845997559350935, 7.171136326013704, 10.568451647634054, 5.881242232960057, 4.675744257503835, 5.659208566358675, 5.499799032626295, 5.499799032626295, 6.278439924095643, 6.278482124477574, 10.053832561858124, 6.288308423779681, 4.316500570885141, 4.324686159713434, 3.7762423878918527, 3.4692234079713113, 3.469311668224818, 12.657695780130206, 3.468658240519936, 3.4696500024537733, 4.301616435392925, 5.10873459298025, 3.8389101758947235, 3.8389140595657874, 3.8389275584865494, 3.8389320588512597, 4.250061113077803, 5.445977051607146, 111.94858606012036, 21.673639129083668, 7.736732623564678, 12.306095471886785, 28.552494204774554, 7.411238572897706, 10.700608246232322, 6.498212544580865, 6.158319876855269, 97.35089426266576, 108.74060380184878, 28.06307964692288, 9.609574422034989, 7.301793403888771, 21.08237756655485, 10.7570788335745, 8.844445834418412, 7.990871367153145, 7.567838988508783, 8.003746670778398, 7.567189881277494, 7.558992986084976, 7.54952264630032, 7.214661289843271, 5.965855663214968, 5.9643385947037775, 5.933858825792425, 5.313023864526963, 5.408469717765697, 4.363284890542041, 4.363181162397662, 3.8785083873406054, 3.6108688560764834, 4.370874281591134, 3.1874700624569487, 2.860306630651271, 2.86071207879789, 2.7616497603929253, 2.761597598843774, 2.7615271196196916, 2.7594419719492334, 2.848828481201288, 21.08237756655485, 3.2432777830883577, 3.6896556531244493, 8.618719631422609, 3.6896556531244493, 7.14505402578702, 111.94858606012036, 16.053405730474644, 97.35089426266576, 18.670898508861246, 108.74060380184878, 18.078984302492906, 12.566206423759818, 12.864211115253946, 9.434104677830003, 9.836199067758185, 6.72534398253668, 7.641565840796595, 7.902972342865462, 10.54324855566983, 5.418764478848637, 5.052238617662772, 5.052386212826916, 4.749992636643681, 4.214464461586816, 4.214205406396063, 4.213144026783506, 3.9149247823611293, 3.9137417905707315, 3.612869699549082, 3.6129837922659105, 4.171474616304623, 14.602821287852182, 4.118952864190299, 2.9885823523110275, 2.9885823523110275, 4.07616819955492, 9.57733013810652, 2.988511251396234, 4.582981884974409, 2.4754493650977363, 2.4754700519464534, 3.5556297142141435, 4.998068317620579, 5.173601202544677, 11.297662651738852, 8.166876701088333, 4.081597962130753, 9.34000167974054, 9.10693433167739, 7.140132718144984, 11.27583553821879, 21.673639129083668, 14.532592663624698, 111.94858606012036, 7.2789237451099575, 6.6677126123586845, 23.13980306744137, 7.590425753119601, 50.70472328193541, 4.802661511023264, 4.794768886343038, 4.098361054813744, 3.621343123495454, 2.7682330949429406, 2.7670295830759084, 2.441022247175563, 2.3222664627756013, 2.32143449625315, 2.3214343506894926, 2.3214343506894926, 2.321246559755338, 2.321246559755338, 2.321246559755338, 2.3204183496814195, 2.3204183587426037, 2.317710550169102, 2.434231270811987, 2.4342409542654417, 2.4342274407100692, 2.3046093669545997, 2.3046093669545997, 2.3046093669545997, 2.3046093669545997, 2.3204149725866743, 2.3204149725866743, 2.014188333294853, 2.0075478441785144, 10.912407525716162, 10.112344048903676, 108.74060380184878, 14.01948350790564, 22.0802801599359, 18.519702010177603, 40.123601923158965, 4.536589063739069, 4.450801595676018, 10.79320152814042, 6.973572734486572, 7.910663821240309, 5.924158849506545, 5.544768152070011, 6.937095988427136, 5.345900220141922, 5.026653569805791, 5.511046719717496, 4.876439892892964, 4.342829883968521, 4.342829883968521, 4.342829883968521, 7.979705505721821, 4.34211407166487, 3.4898548245278374, 3.565798194272035, 3.8427902086927097, 3.1373854415693243, 5.218585372342373, 3.139765841565522, 3.1393185775712715, 3.1393185775712715, 3.1393185775712715, 2.6718389040464494, 3.706657247921445, 2.617860598106672, 2.273714345619202, 2.2737138020770296, 2.2737117043793083, 6.416262317428952, 40.123601923158965, 18.078984302492906, 8.301869095903035, 14.532592663624698, 108.74060380184878, 14.905907038399235, 16.053405730474644, 10.523743517066094, 10.22404282801838, 11.27583553821879, 23.13980306744137, 10.912407525716162, 7.3043883130870935, 50.70472328193541, 18.670898508861246], \"Category\": [\"Default\", \"Default\", \"Default\", \"Default\", \"Default\", \"Default\", \"Default\", \"Default\", \"Default\", \"Default\", \"Default\", \"Default\", \"Default\", \"Default\", \"Default\", \"Default\", \"Default\", \"Default\", \"Default\", \"Default\", \"Default\", \"Default\", \"Default\", \"Default\", \"Default\", \"Default\", \"Default\", \"Default\", \"Default\", \"Default\", \"Topic1\", \"Topic1\", \"Topic1\", \"Topic1\", \"Topic1\", \"Topic1\", \"Topic1\", \"Topic1\", \"Topic1\", \"Topic1\", \"Topic1\", \"Topic1\", \"Topic1\", \"Topic1\", \"Topic1\", \"Topic1\", \"Topic1\", \"Topic1\", \"Topic1\", \"Topic1\", \"Topic1\", \"Topic1\", \"Topic1\", \"Topic1\", \"Topic1\", \"Topic1\", \"Topic1\", \"Topic1\", \"Topic1\", \"Topic1\", \"Topic1\", \"Topic1\", \"Topic1\", \"Topic1\", \"Topic1\", \"Topic1\", \"Topic1\", \"Topic1\", \"Topic1\", \"Topic1\", \"Topic1\", \"Topic1\", \"Topic1\", \"Topic2\", \"Topic2\", \"Topic2\", \"Topic2\", \"Topic2\", \"Topic2\", \"Topic2\", \"Topic2\", \"Topic2\", \"Topic2\", \"Topic2\", \"Topic2\", \"Topic2\", \"Topic2\", \"Topic2\", \"Topic2\", \"Topic2\", \"Topic2\", \"Topic2\", \"Topic2\", \"Topic2\", \"Topic2\", \"Topic2\", \"Topic2\", \"Topic2\", \"Topic2\", \"Topic2\", \"Topic2\", \"Topic2\", \"Topic2\", \"Topic2\", \"Topic2\", \"Topic2\", \"Topic2\", \"Topic2\", \"Topic2\", \"Topic2\", \"Topic2\", \"Topic2\", \"Topic2\", \"Topic2\", \"Topic2\", \"Topic2\", \"Topic2\", \"Topic2\", \"Topic2\", \"Topic2\", \"Topic2\", \"Topic2\", \"Topic2\", \"Topic3\", \"Topic3\", \"Topic3\", \"Topic3\", \"Topic3\", \"Topic3\", \"Topic3\", \"Topic3\", \"Topic3\", \"Topic3\", \"Topic3\", \"Topic3\", \"Topic3\", \"Topic3\", \"Topic3\", \"Topic3\", \"Topic3\", \"Topic3\", \"Topic3\", \"Topic3\", \"Topic3\", \"Topic3\", \"Topic3\", \"Topic3\", \"Topic3\", \"Topic3\", \"Topic3\", \"Topic3\", \"Topic3\", \"Topic3\", \"Topic3\", \"Topic3\", \"Topic3\", \"Topic3\", \"Topic3\", \"Topic3\", \"Topic3\", \"Topic3\", \"Topic3\", \"Topic3\", \"Topic3\", \"Topic3\", \"Topic3\", \"Topic3\", \"Topic3\", \"Topic3\", \"Topic4\", \"Topic4\", \"Topic4\", \"Topic4\", \"Topic4\", \"Topic4\", \"Topic4\", \"Topic4\", \"Topic4\", \"Topic4\", \"Topic4\", \"Topic4\", \"Topic4\", \"Topic4\", \"Topic4\", \"Topic4\", \"Topic4\", \"Topic4\", \"Topic4\", \"Topic4\", \"Topic4\", \"Topic4\", \"Topic4\", \"Topic4\", \"Topic4\", \"Topic4\", \"Topic4\", \"Topic4\", \"Topic4\", \"Topic4\", \"Topic4\", \"Topic4\", \"Topic4\", \"Topic4\", \"Topic4\", \"Topic4\", \"Topic4\", \"Topic4\", \"Topic4\", \"Topic5\", \"Topic5\", \"Topic5\", \"Topic5\", \"Topic5\", \"Topic5\", \"Topic5\", \"Topic5\", \"Topic5\", \"Topic5\", \"Topic5\", \"Topic5\", \"Topic5\", \"Topic5\", \"Topic5\", \"Topic5\", \"Topic5\", \"Topic5\", \"Topic5\", \"Topic5\", \"Topic5\", \"Topic5\", \"Topic5\", \"Topic5\", \"Topic5\", \"Topic5\", \"Topic5\", \"Topic5\", \"Topic5\", \"Topic5\", \"Topic5\", \"Topic5\", \"Topic5\", \"Topic5\", \"Topic5\", \"Topic5\", \"Topic5\", \"Topic5\", \"Topic5\", \"Topic5\", \"Topic5\", \"Topic5\", \"Topic5\", \"Topic5\", \"Topic5\", \"Topic5\", \"Topic6\", \"Topic6\", \"Topic6\", \"Topic6\", \"Topic6\", \"Topic6\", \"Topic6\", \"Topic6\", \"Topic6\", \"Topic6\", \"Topic6\", \"Topic6\", \"Topic6\", \"Topic6\", \"Topic6\", \"Topic6\", \"Topic6\", \"Topic6\", \"Topic6\", \"Topic6\", \"Topic6\", \"Topic6\", \"Topic6\", \"Topic6\", \"Topic6\", \"Topic6\", \"Topic6\", \"Topic6\", \"Topic6\", \"Topic6\", \"Topic6\", \"Topic6\", \"Topic6\", \"Topic6\", \"Topic6\", \"Topic6\", \"Topic6\", \"Topic6\", \"Topic6\", \"Topic7\", \"Topic7\", \"Topic7\", \"Topic7\", \"Topic7\", \"Topic7\", \"Topic7\", \"Topic7\", \"Topic7\", \"Topic7\", \"Topic7\", \"Topic7\", \"Topic7\", \"Topic7\", \"Topic7\", \"Topic7\", \"Topic7\", \"Topic7\", \"Topic7\", \"Topic7\", \"Topic7\", \"Topic7\", \"Topic7\", \"Topic7\", \"Topic7\", \"Topic7\", \"Topic7\", \"Topic7\", \"Topic7\", \"Topic7\", \"Topic7\", \"Topic7\", \"Topic7\", \"Topic7\", \"Topic7\", \"Topic7\", \"Topic7\", \"Topic7\", \"Topic7\", \"Topic7\", \"Topic7\", \"Topic7\", \"Topic7\", \"Topic7\", \"Topic7\", \"Topic7\"], \"logprob\": [30.0, 29.0, 28.0, 27.0, 26.0, 25.0, 24.0, 23.0, 22.0, 21.0, 20.0, 19.0, 18.0, 17.0, 16.0, 15.0, 14.0, 13.0, 12.0, 11.0, 10.0, 9.0, 8.0, 7.0, 6.0, 5.0, 4.0, 3.0, 2.0, 1.0, -5.0105, -5.1835, -5.0804, -5.0984, -5.2071, -5.6738, -4.9012, -5.7786, -5.4401, -5.3852, -5.8207, -5.1025, -4.8218, -5.9521, -5.9974, -5.9979, -6.0024, -6.0034, -6.0039, -6.0076, -6.0195, -5.6123, -5.9906, -6.1622, -6.1622, -6.169, -5.7447, -6.2345, -6.2458, -6.2458, -2.771, -5.5592, -5.5501, -4.1561, -4.7652, -5.7458, -4.5326, -3.9894, -5.4517, -5.8489, -5.757, -5.9075, -5.9911, -4.3773, -3.6827, -4.4702, -4.6357, -5.2131, -5.2195, -4.663, -5.4133, -5.6118, -5.6176, -5.6403, -5.0695, -5.8941, -5.9014, -4.2638, -5.9035, -5.9091, -5.9125, -5.9125, -5.9125, -5.9125, -5.9125, -5.9125, -5.9125, -5.9184, -5.9175, -5.9175, -5.9175, -5.9175, -5.9175, -4.0469, -4.1248, -5.5148, -4.6317, -4.7736, -5.0164, -3.823, -5.7654, -5.7705, -5.5333, -5.634, -5.5994, -5.6701, -5.4631, -5.6804, -5.6537, -5.1121, -5.6214, -5.7222, -5.7101, -4.0973, -4.6901, -4.6902, -4.9, -4.8582, -4.4748, -5.0734, -5.3326, -5.1441, -5.1755, -5.1755, -5.0512, -5.0512, -4.5889, -5.0589, -5.4369, -5.4552, -5.5944, -5.6865, -5.6866, -4.393, -5.6876, -5.6915, -5.4861, -5.3355, -5.6278, -5.6278, -5.6278, -5.6278, -5.5368, -5.2939, -2.6665, -4.168, -5.0565, -4.7452, -4.1387, -5.1471, -4.9527, -5.3416, -5.3791, -4.2966, -4.4068, -4.8737, -5.2546, -5.322, -5.2945, -4.3766, -4.5836, -4.694, -4.7522, -4.6963, -4.7525, -4.7551, -4.7583, -4.8147, -5.0141, -5.0149, -5.0287, -5.1443, -5.1272, -5.3702, -5.3703, -5.5165, -5.5956, -5.4053, -5.7509, -5.8834, -5.8895, -5.9273, -5.9275, -5.9275, -5.9301, -5.9029, -3.9082, -5.7857, -5.6718, -4.8518, -5.6718, -5.3102, -3.584, -4.815, -4.2659, -5.2508, -5.158, -5.646, -4.1144, -4.1008, -4.4292, -4.4065, -4.7896, -4.6746, -4.6413, -4.3599, -5.028, -5.1058, -5.1064, -5.1757, -5.3258, -5.3268, -5.3307, -5.4057, -5.4091, -5.5022, -5.5029, -5.375, -4.1411, -5.4347, -5.7564, -5.7564, -5.4477, -4.6138, -5.7832, -5.356, -5.9873, -5.9874, -5.6385, -5.3267, -5.329, -4.6915, -5.0257, -5.5387, -4.9746, -5.1048, -5.253, -5.1061, -4.9123, -5.043, -4.5057, -5.2813, -5.3295, -5.3093, -4.5562, -2.6654, -5.0663, -5.0736, -5.2929, -5.4269, -5.7315, -5.733, -5.8964, -5.9636, -5.9641, -5.9641, -5.9641, -5.9642, -5.9642, -5.9642, -5.9647, -5.9647, -5.9663, -5.9239, -5.9239, -5.9239, -6.0009, -6.0009, -6.0009, -6.0009, -5.9952, -5.9952, -6.1627, -6.179, -4.7133, -4.868, -3.3778, -5.5942, -5.5188, -5.691, -5.6096, -5.9129, -5.9642, -4.1173, -4.6012, -4.478, -4.7701, -4.8498, -4.6311, -4.8921, -4.9596, -4.8727, -5.0083, -5.1329, -5.1329, -5.1329, -4.5252, -5.1456, -5.3888, -5.3677, -5.3097, -5.5204, -5.0222, -5.5304, -5.5375, -5.5375, -5.5375, -5.7441, -5.4539, -5.8046, -5.9456, -5.9456, -5.9456, -4.918, -3.1987, -4.0075, -4.7352, -4.2687, -2.6384, -4.3446, -4.3784, -4.7942, -4.8236, -4.7864, -4.4185, -4.9605, -5.1694, -5.0719, -5.1399], \"loglift\": [30.0, 29.0, 28.0, 27.0, 26.0, 25.0, 24.0, 23.0, 22.0, 21.0, 20.0, 19.0, 18.0, 17.0, 16.0, 15.0, 14.0, 13.0, 12.0, 11.0, 10.0, 9.0, 8.0, 7.0, 6.0, 5.0, 4.0, 3.0, 2.0, 1.0, 1.534, 1.5226, 1.4997, 1.4934, 1.4693, 1.4689, 1.4603, 1.4601, 1.4559, 1.4543, 1.4521, 1.452, 1.4394, 1.4348, 1.4276, 1.4273, 1.4243, 1.4236, 1.4233, 1.422, 1.4148, 1.412, 1.4108, 1.3989, 1.3988, 1.3945, 1.3927, 1.385, 1.3767, 1.3767, 1.3318, 1.3516, 1.3329, 1.1906, 1.2413, 1.2482, 0.7968, -0.0262, 0.0879, 0.5186, -0.2411, -0.1211, 0.9062, 1.667, 1.6458, 1.6323, 1.6238, 1.6053, 1.5965, 1.5894, 1.56, 1.5576, 1.5514, 1.5216, 1.5162, 1.5096, 1.4994, 1.4985, 1.4973, 1.4903, 1.4871, 1.4871, 1.4871, 1.4871, 1.4871, 1.4871, 1.4871, 1.4822, 1.4812, 1.4812, 1.4812, 1.4812, 1.4812, 1.469, 1.4617, 1.4014, 1.1226, 1.0018, 1.0244, 0.1692, 1.373, 1.366, 1.0771, 1.1245, 0.9768, 1.0855, 0.708, 1.0746, 1.0083, -0.1228, 0.8507, 1.139, 1.0404, 1.8991, 1.875, 1.8749, 1.8575, 1.8529, 1.8485, 1.836, 1.8062, 1.8038, 1.801, 1.801, 1.7929, 1.7928, 1.7844, 1.7836, 1.7818, 1.7617, 1.758, 1.7508, 1.7507, 1.7499, 1.7498, 1.7456, 1.7361, 1.7147, 1.7082, 1.7082, 1.7082, 1.7082, 1.6975, 1.6924, 1.2967, 1.4371, 1.5787, 1.4259, 1.1908, 1.531, 1.3582, 1.468, 1.4843, -0.1937, -0.4146, 0.473, 1.1638, 1.3711, 0.3383, 1.9291, 1.9178, 1.9089, 1.905, 1.9049, 1.9048, 1.9033, 1.9014, 1.8903, 1.881, 1.8805, 1.8718, 1.8668, 1.866, 1.8377, 1.8377, 1.8092, 1.8016, 1.8009, 1.7711, 1.7469, 1.7406, 1.738, 1.7379, 1.7379, 1.736, 1.7314, 1.7245, 1.7188, 1.7038, 1.6755, 1.7038, 1.4046, 0.3791, 1.0903, -0.1631, 0.5034, -1.1658, 0.1405, 2.0357, 2.0259, 2.0076, 1.9886, 1.9857, 1.973, 1.9727, 1.9658, 1.9633, 1.9556, 1.955, 1.9473, 1.9169, 1.9159, 1.9122, 1.9107, 1.9076, 1.8945, 1.8937, 1.8779, 1.8588, 1.8309, 1.83, 1.83, 1.8283, 1.808, 1.8032, 1.8029, 1.7875, 1.7873, 1.7742, 1.7454, 1.7086, 1.565, 1.5554, 1.736, 1.4723, 1.3674, 1.4625, 1.1525, 0.6928, 0.9618, -0.5426, 1.4149, 1.4544, 0.2303, 2.0981, 2.0898, 2.0457, 2.0401, 1.9777, 1.9675, 1.9314, 1.9304, 1.8924, 1.875, 1.8749, 1.8749, 1.8749, 1.8749, 1.8749, 1.8749, 1.8747, 1.8747, 1.8743, 1.8676, 1.8676, 1.8676, 1.8453, 1.8453, 1.8453, 1.8453, 1.8442, 1.8442, 1.8183, 1.8053, 1.578, 1.4995, 0.6144, 0.4465, 0.0677, 0.0713, -0.6204, 1.2561, 1.2239, 2.185, 2.1378, 2.1349, 2.1321, 2.1185, 2.1132, 2.1128, 2.1068, 2.1017, 2.0885, 2.0797, 2.0797, 2.0797, 2.0791, 2.0672, 2.0425, 2.0421, 2.0253, 2.0174, 2.0067, 2.0066, 1.9997, 1.9997, 1.9997, 1.9543, 1.9171, 1.9143, 1.9141, 1.9141, 1.9141, 1.9043, 1.7905, 1.7789, 1.8295, 1.7361, 1.3538, 1.6348, 1.5269, 1.5333, 1.5328, 1.4721, 1.1212, 1.3308, 1.5233, -0.3168, 0.6143]}, \"token.table\": {\"Topic\": [6, 5, 2, 6, 6, 5, 2, 7, 2, 5, 6, 6, 5, 7, 6, 6, 7, 7, 7, 5, 3, 6, 2, 6, 7, 1, 3, 6, 4, 6, 6, 7, 6, 1, 6, 6, 5, 4, 4, 5, 7, 7, 6, 5, 3, 2, 2, 4, 2, 5, 1, 1, 3, 1, 3, 2, 2, 4, 7, 6, 7, 1, 3, 7, 4, 1, 2, 2, 7, 5, 1, 2, 5, 5, 2, 3, 2, 4, 7, 6, 2, 1, 4, 3, 4, 1, 1, 4, 2, 5, 5, 7, 5, 2, 1, 2, 3, 5, 4, 4, 3, 5, 2, 5, 3, 7, 5, 2, 5, 2, 2, 2, 1, 3, 4, 1, 1, 3, 4, 2, 1, 3, 4, 1, 3, 4, 4, 4, 3, 4, 7, 7, 1, 3, 6, 6, 1, 2, 4, 7, 4, 3, 4, 7, 1, 2, 4, 1, 5, 7, 7, 6, 4, 7, 1, 3, 1, 3, 4, 2, 3, 5, 2, 4, 1, 3, 3, 2, 3, 1, 3, 4, 6, 7, 2, 7, 3, 3, 5, 2, 6, 4, 7, 6, 1, 3, 7, 7, 2, 4, 6, 3, 5, 5, 3, 2, 4, 7, 1, 4, 2, 2, 3, 3, 2, 2, 4, 4, 7, 4, 2, 2, 3, 1, 2, 4, 5, 7, 1, 3, 4, 5, 7, 3, 7, 5, 3, 2, 7, 1, 2, 6, 4, 5, 7, 2, 2, 5, 3, 6, 6, 7, 1, 3, 3, 4, 2, 3, 5, 7, 2, 3, 5, 3, 7, 6, 4, 1, 3, 4, 2, 3, 5, 5, 5, 1, 4, 7, 1, 4, 7, 6, 3, 1, 2, 3, 2, 3, 7, 2, 5, 3, 1, 2, 3, 4, 5, 6, 7, 7, 1, 2, 5, 6, 7, 1, 3, 4, 6, 1, 3, 4, 5, 6, 2, 3, 7, 1, 6, 7, 3, 6, 4, 5, 1, 5, 6, 1, 5, 3, 4, 5, 2, 1, 6, 1, 5, 2, 3, 4, 4, 1, 1, 1, 1, 2, 6, 7, 4, 1, 1, 1, 4, 6, 2, 3, 5, 5, 6, 5, 7, 4, 1, 5, 3, 5, 4, 7, 1, 1, 4, 6, 7, 5, 7, 3, 5, 6, 5, 3, 4, 2, 1, 2, 3, 7, 3, 4, 4, 1, 3, 4, 5, 7, 1, 4, 7, 2, 5, 3, 6, 2, 5, 7, 4, 6, 7, 2, 1, 4, 2, 3, 6, 6, 6, 7, 1, 2, 3, 5, 6, 7, 6, 4, 3, 4, 5, 2, 5, 2], \"Freq\": [0.861536262697934, 0.7662982475465776, 0.8820865396045617, 0.861913542562094, 0.7319999287218337, 0.669229536634871, 0.8610411455687377, 0.1230058779383911, 0.4873754689353512, 0.36553160170151344, 0.1218438672338378, 0.8678260310305332, 0.7665298735925339, 0.9210584128026587, 0.8616060157826587, 0.8619147969772437, 0.9017509592593814, 0.6369901772683717, 0.9212102524211909, 0.9491122861417921, 0.9640352614016976, 0.8619147969772437, 0.22467862889496273, 0.44935725778992547, 0.22467862889496273, 0.971216118801678, 0.8647468459675539, 0.8615363167198664, 0.7242047955115937, 0.8216146197698214, 0.8629205229505807, 0.9210584128026587, 0.8615363167198664, 0.6917322889760832, 0.8612276119294147, 0.8216113513723712, 0.9491706298722518, 0.7734932351292461, 0.9167405063718149, 0.5602136763977694, 0.42016025729832707, 0.8440016763589107, 0.86191353919634, 0.8303648483017326, 0.697412250733594, 0.9104354988821466, 0.684725722998623, 0.17118143074965575, 0.20543975310412413, 0.8217590124164965, 0.6524631640851039, 0.8346326781162879, 0.11923323973089828, 0.8560888535967697, 0.8648877438990109, 0.8320323884650244, 0.06229207787987761, 0.43604454515914326, 0.4983366230390209, 0.722796753685858, 0.6370809303295675, 0.09345263156906052, 0.5607157894143631, 0.28035789470718153, 0.8130840062160165, 0.6938020373619832, 0.8320323884650244, 0.15585397705508836, 0.7792698852754418, 0.7917051134857555, 0.8559309226903614, 0.8320323884650244, 0.9539855987765175, 0.9494097459216866, 0.929242920873616, 0.836687482600862, 0.5355928636885889, 0.21423714547543557, 0.21423714547543557, 0.49647790301921685, 0.8320323884650244, 0.6938020373619832, 0.9249668248266109, 0.7957164544742985, 0.09946455680928731, 0.7927409806563771, 0.854317573657248, 0.941083670521997, 0.4499294097408254, 0.5999058796544339, 0.8003091886315538, 0.20007729715788844, 0.7917282422124491, 0.8327684334576662, 0.8542068463517863, 0.5848858606600159, 0.14622146516500398, 0.29244293033000796, 0.941185310361019, 0.9272109414004319, 0.09484742721561194, 0.8536268449405076, 0.8320323884650244, 0.8303386266005159, 0.8835157675090191, 0.907268664972651, 0.6692136150952738, 0.582834890567709, 0.2914174452838545, 0.8327684334576662, 0.90627310160823, 0.8327684334576662, 0.45530172974612276, 0.45530172974612276, 0.07004641996094196, 0.858141106120724, 0.8513329495356008, 0.9266765831053186, 0.8383159206353421, 0.8337807781717074, 0.9781923370384248, 0.7829727552291076, 0.1957431888072769, 0.6770461488564158, 0.2138040470072892, 0.1069020235036446, 0.9702465186902858, 0.7020429672047663, 0.18973192123954807, 0.7589276849581923, 0.6370809303295675, 0.6370809303295675, 0.8280025603888992, 0.16560051207777984, 0.16560051207777984, 0.8284219135535241, 0.19004644086551992, 0.09502322043275996, 0.19004644086551992, 0.4751161021637998, 0.9250461677087267, 0.7951263937837635, 0.6992257328524999, 0.8603911120519415, 0.1688003223415336, 0.8018015311222846, 0.0422000805853834, 0.08868522395618117, 0.3547408958247247, 0.44342611978090585, 0.8848814913869609, 0.8616060157826587, 0.19162281128901948, 0.7664912451560779, 0.7401865496154449, 0.18504663740386124, 0.7601368283309045, 0.11299331231945878, 0.11299331231945878, 0.5831584648719913, 0.14578961621799782, 0.29157923243599565, 0.9305605357672457, 0.9151487190667665, 0.6893090519543574, 0.20679271558630724, 0.705872202818153, 0.944774301379038, 0.03499164079181622, 0.1040628810477783, 0.4162515241911132, 0.1040628810477783, 0.1040628810477783, 0.31218864314333494, 0.48612566723120365, 0.3240837781541358, 0.7814709976444028, 0.955335064050539, 0.6692136150952738, 0.4408598556977507, 0.4408598556977507, 0.6991266317302464, 0.9352961697940672, 0.8678260310305332, 0.29342600089454624, 0.1956173339296975, 0.4890433348242437, 0.8796179712959231, 0.7699177672050586, 0.09057856084765395, 0.1358678412714809, 0.64626764853821, 0.12925352970764198, 0.914987581890332, 0.7814717882271884, 0.2799139086677098, 0.5598278173354196, 0.1399569543338549, 0.8556233068825194, 0.8426220014313005, 0.8327684334576662, 0.2698604262064693, 0.6746510655161732, 0.7814682497376204, 0.8336009820440629, 0.23205302939757877, 0.6961590881927363, 0.8308249675009675, 0.748548124279139, 0.9045224709125101, 0.8362356477171448, 0.6413545436170762, 0.21378484787235874, 0.16412014849345608, 0.49236044548036817, 0.05470671616448535, 0.1094134323289707, 0.16412014849345608, 0.20126249226374981, 0.06708749742124993, 0.06708749742124993, 0.06708749742124993, 0.5366999793699995, 0.9249226076245614, 0.8413263557144338, 0.8079341182246462, 0.850160527648166, 0.8327684334576662, 0.8796189930974438, 0.05399654915886036, 0.8099482373829054, 0.10799309831772072, 0.06881084629193629, 0.34405423145968145, 0.6192976166274266, 0.8327684334576662, 0.8816553681546125, 0.8079273665328357, 0.7963708267173006, 0.8342425036153918, 0.9072133131310952, 0.07888811418531262, 0.8622597806268343, 0.9640245733488221, 0.9091241280524339, 0.7242184744212409, 0.5043502000610849, 0.12608755001527122, 0.25217510003054244, 0.8202705432357922, 0.2747658953486931, 0.13738294767434656, 0.5495317906973862, 0.8646405250899567, 0.8649152339840109, 0.8193288702362884, 0.9296204066840581, 0.16238195157063642, 0.6495278062825457, 0.16238195157063642, 0.3211990857033056, 0.10706636190110186, 0.5353318095055093, 0.7350062470223998, 0.7359853306170173, 0.1659385256275891, 0.1659385256275891, 0.6084412606344933, 0.12045480221959885, 0.12045480221959885, 0.6022740110979943, 0.8616060157826587, 0.794440528928758, 0.7629209727248506, 0.3250421719169968, 0.5688238008547444, 0.8877578830557545, 0.876424501759369, 0.9265091524444942, 0.20882646532590018, 0.7308926286406506, 0.8554787814967914, 0.018392393734032186, 0.21151252794137015, 0.09196196867016093, 0.045980984335080466, 0.009196196867016093, 0.21151252794137015, 0.4138288590157242, 0.859634612567555, 0.04984597354520205, 0.14953792063560617, 0.07476896031780308, 0.04984597354520205, 0.6230746693150256, 0.13695265596906953, 0.5478106238762781, 0.13695265596906953, 0.13695265596906953, 0.1965187839727178, 0.5180949759280742, 0.1965187839727178, 0.07146137599007919, 0.008932671998759899, 0.8327684334576662, 0.8647248465673434, 0.8093545745785607, 0.2966671214400823, 0.4944452024001371, 0.09888904048002742, 0.7344871199594152, 0.1836217799898538, 0.8381027437236935, 0.9328205120771693, 0.8588479713220828, 0.6545956487054175, 0.21819854956847248, 0.8663840711717434, 0.8857426922820203, 0.8515911601880507, 0.09462124002089452, 0.7283404542163262, 0.8326442160443523, 0.8846884571018833, 0.09829871745576481, 0.8342885809147521, 0.8421065685748891, 0.881369425593375, 0.0881369425593375, 0.7247842209877045, 0.6166600993688345, 0.9443800518969505, 0.8388324335018961, 0.8563304627502912, 0.07132930392450593, 0.49930512747154154, 0.14265860784901185, 0.2139879117735178, 0.724236957801607, 0.6541069115761309, 0.8081855751650354, 0.8892308671264562, 0.08892308671264562, 0.08892308671264562, 0.580187584497592, 0.145046896124398, 0.290093792248796, 0.8437324021697384, 0.7224825119147795, 0.9160426208236773, 0.7639826205591198, 0.9244759166490368, 0.8223189854249964, 0.9549421357037992, 0.6155538884821133, 0.30777694424105667, 0.12531790794571973, 0.877225355620038, 0.6524692402011425, 0.5039668149639034, 0.3359778766426022, 0.1679889383213011, 0.7806827427668968, 0.9227195644905359, 0.7957580414984802, 0.7963761795045301, 0.892147675357552, 0.9222144090037452, 0.7191701438801046, 0.7900332077579078, 0.15800664155158156, 0.8338276222321626, 0.9453863894904402, 0.5310535331436222, 0.13276338328590556, 0.2655267665718111, 0.7814673336255143, 0.8759995848229808, 0.8130840062160165, 0.09227799669858937, 0.5998069785408309, 0.046138998349294684, 0.23069499174647343, 0.9210584128026587, 0.13690400306461317, 0.27380800612922634, 0.5476160122584527, 0.4392257431885146, 0.4392257431885146, 0.9091241280524339, 0.8328715215134436, 0.36733749140601263, 0.6122291523433544, 0.8796181815728115, 0.9260492783742488, 0.5498328380662479, 0.36655522537749863, 0.8754421761162586, 0.8544018797998425, 0.9167623005142224, 0.6401222123429644, 0.21337407078098813, 0.8216159125281226, 0.8678260310305332, 0.8678260310305332, 0.6374734750472985, 0.21607789769979505, 0.04321557953995901, 0.17286231815983605, 0.17286231815983605, 0.08643115907991802, 0.3457246363196721, 0.49812013342536227, 0.8745903997132909, 0.17702776774735568, 0.2655416516210335, 0.6195971871157449, 0.1932889607935266, 0.7731558431741063, 0.931496556551514], \"Term\": [\"#9.\\n\\n\\n\\n\", \"$5_billion\", \"+5%\", \"0\", \"0.60\", \"1,395,000\", \"10\", \"10\", \"10%\", \"10%\", \"10%\", \"10%-12%\", \"100%\", \"110\", \"120\", \"125.00\", \"140\", \"150\", \"150,000\", \"19,000\", \"1st\", \"250.00\", \"260\", \"260\", \"260\", \"2_MM\", \"2nd\", \"3,11,15,20a\", \"3000\", \"325,000\", \"40\", \"47\", \"495\", \"4_MM\", \"5360.65\", \"5_acres\", \"70%\", \"740\", \"75\", \"75%\", \"75%\", \"95\", \"@130.00\\na\", \"AB_8X\", \"AEC\", \"AES\", \"AMF\", \"AMF\", \"Alan_Comnes\", \"Alan_Comnes\", \"Allan\", \"Allan_Severude\", \"Allan_Severude\", \"Andrea_V_Reed\", \"Andy\", \"Angela_Schwarz\", \"Austin\", \"Austin\", \"Austin\", \"Bank_One\", \"Barry_T.__\", \"Barry_Tycholiz\", \"Barry_Tycholiz\", \"Barry_Tycholiz\", \"Bee_Cave_Road\", \"Ben_Jacoby\", \"Bill_Votaw\", \"Bob\", \"Bob\", \"Bowen\", \"Brad_Blesie\", \"Brenda_Barreda\", \"CB\", \"COA\", \"CPUC\", \"Calif\", \"California\", \"California\", \"California\", \"Cary_Kipp\", \"Cathy_Corbin\", \"Chris_Abel\", \"Christi_L_Nicolay\", \"Christopher_F_Calger\", \"Christopher_F_Calger\", \"Cindy_Cicchetti\", \"Colleen_Sullivan\", \"Commission\", \"Creekside\", \"Creekside\", \"Creekside_Builders,_LLC\", \"Creekside_Builders,_LLC\", \"DWR\", \"DYN\", \"Dallas\", \"Dan_Leff\", \"Dan_Leff\", \"Dan_Leff\", \"Darron_C_Giron\", \"David_Parquet\", \"Davis\", \"Davis\", \"Debora_Whitehead\", \"Democratic\", \"Denver\", \"Dexter\", \"Don_\\nBlack\", \"Don_Black\", \"Don_Black\", \"Dow_Jones_&_Company_Inc\", \"Dow_Jones_Newswires\", \"Duke\", \"ECT\", \"ECT\", \"ECT\", \"EES\", \"ENA\", \"ENRON\", \"Ed_Clark\", \"Edison_International\", \"Edward_D_\\nBaughman\", \"Elliot_Mainzer\", \"Elliot_Mainzer\", \"Enron\", \"Enron\", \"Enron\", \"Erika_Dupre\", \"Exodus\", \"FERC\", \"FERC\", \"Faith\", \"Faith_Killen\", \"Fletcher_J_Sturm\", \"Fletcher_J_Sturm\", \"Fletcher_J_Sturm\", \"Frank\", \"Frank_Ermis\", \"Frank_Ermis\", \"Frank_Ermis\", \"Frank_Ermis\", \"Frank_Hayden\", \"Frank_W_\\nVickers\", \"Frogger\", \"Gary\", \"George\", \"George\", \"George\", \"George_Richards\", \"George_Richards\", \"George_Richards\", \"George_W._Richards\", \"Gilbert\", \"Greg\", \"Greg\", \"Greg_Wolfe\", \"Greg_Wolfe\", \"HOU\", \"HOU\", \"HOU\", \"Harry_Kingerski\", \"Harry_Kingerski\", \"Harry_Kingerski\", \"Houston\", \"Hunter\", \"Hunter_S_Shively\", \"Hunter_S_Shively\", \"IEP\", \"ISO\", \"ISO\", \"Ina_Rangel\", \"Ina_Rangel\", \"Ina_Rangel\", \"Ina_Rangel\", \"Ina_Rangel\", \"Jacques\", \"Jacques\", \"Jake_Thomas\", \"James_D_Steffes\", \"James_D_Steffes@ENRON\", \"James_W_Lewis\", \"James_W_Lewis\", \"Jane_M_Tholt\", \"Janie_Tholt\", \"Jaques_Craig\", \"Jay_Reitmeyer\", \"Jay_Reitmeyer\", \"Jay_Reitmeyer\", \"Jeanette_Peterson\", \"Jeff\", \"Jeff\", \"Jeff\", \"Jeff_\\nDasovich\", \"Jeff_\\nDasovich\", \"Jeff_Dasovich\", \"Jeff_G_\\nSlaughter\", \"Jeff_Smith\", \"Jeff_Smith\", \"Jeff_Smith\", \"Jere_C_\\nOverdyke\", \"Jess_Hewitt\", \"Jessica_Berthold\", \"Jim\", \"Jim\", \"Jim_\\nGilbert\", \"Jim_Murnan\", \"John\", \"John\", \"John_Arnold\", \"Johnnie\", \"K\", \"Kansas_Gas_Service\", \"Karen_Denne\", \"Karen_Denne\", \"Keith\", \"Keith\", \"Keith\", \"Keith\", \"Keith\", \"Keith_Holst\", \"Keith_Holst\", \"Keith_Holst\", \"Keith_Holst\", \"Keith_Holst\", \"Kim_Ward\", \"Kipp_Flores\", \"Kristin_Walsh\", \"LADWP\", \"LOS_ANGELES\", \"Lamar\", \"Larry\", \"Larry\", \"Larry\", \"Larry_Lewter\", \"Larry_Lewter\", \"Larry_Lewter\", \"Lednicky\", \"Lee_O'Donnell\", \"Lehman_Brothers\", \"Leslie_Lawner\", \"Liane_Kucher\", \"Lucy\", \"Lucy\", \"Mark_E_\\nHaedicke\", \"Mark_Whitt\", \"Mark_Whitt@ENRON\", \"Martin\", \"Marty_Sunde\", \"Marty_Sunde\", \"Marty_Sunde\", \"Mary\", \"Mary_Hain\", \"Mary_Hain\", \"Mary_Hain\", \"Matt_\\nMotley\", \"Matt_Lenhart\", \"McNary\", \"Michael_Etringer\", \"Michael_McDonald\", \"Michael_McDonald\", \"Michael_McDonald\", \"Michael_Tribolet\", \"Michael_Tribolet\", \"Michael_Tribolet\", \"Mike_D_Smith\", \"Mike_Day\", \"Mike_Grigsby\", \"Mike_Grigsby\", \"Mike_Grigsby\", \"Monique_Sanchez\", \"Monique_Sanchez\", \"Monique_Sanchez\", \"Neil_Moreno\", \"New_York\", \"Northwest\", \"PG&E\", \"PG&E\", \"PUC\", \"PaineWebber\", \"Patti\", \"Paul_Kaufman\", \"Paul_Kaufman\", \"Paul_Lucci\", \"Phillip\", \"Phillip\", \"Phillip\", \"Phillip\", \"Phillip\", \"Phillip\", \"Phillip\", \"Phillip\\n\\n\\n\", \"Phillip_Allen\", \"Phillip_Allen\", \"Phillip_Allen\", \"Phillip_Allen\", \"Phillip_Allen\", \"Phillip_K_\\nAllen\", \"Phillip_K_\\nAllen\", \"Phillip_K_\\nAllen\", \"Phillip_K_\\nAllen\", \"Phillip_K_Allen\", \"Phillip_K_Allen\", \"Phillip_K_Allen\", \"Phillip_K_Allen\", \"Phillip_K_Allen\", \"Powerex\", \"RP00-\", \"Randy_Gay\", \"Reagan\", \"Reagan\", \"Reagan\", \"Rebecca_W_\\nCantrell\", \"Rebecca_W_\\nCantrell\", \"Rebecca_W_Cantrell\", \"Republicans\", \"Richard\", \"Richard_B_Sanders\", \"Richard_B_Sanders\", \"Richard_Burchfield\", \"Richard_Shapiro\", \"Robert_Badeer\", \"Robert_Badeer\", \"Robert_Frank\", \"Roger_Yang\", \"Russ_Severson\", \"Russ_Severson\", \"Russell_Long\", \"SB_6X\", \"SCE\", \"SCE\", \"SF\", \"SW_Gas\", \"Sagewood\", \"San_Diego\", \"San_Juan\", \"San_Marcos\", \"San_Marcos\", \"San_Marcos\", \"San_Marcos\", \"Scott\", \"Scott_\\nMills\", \"Scott_Mills\", \"Scott_Neal\", \"Scott_Neal\", \"Scott_Neal\", \"Scott_Stoness\", \"Scott_Stoness\", \"Scott_Stoness\", \"Second\", \"Seguin\", \"Senate\", \"Shelley_Corman\", \"Shockmachine\", \"Sitara\", \"SoCal\", \"SoCal_Edison\", \"SoCal_Edison\", \"Socal\", \"Socal\", \"Stanfield\", \"Stephanie_Miller\", \"Stephanie_Miller\", \"Stephanie_Miller\", \"Steve\", \"Steve_Kean\", \"Steve_South\", \"Steve_Walton\", \"Steven_J_Kean\", \"Susan\", \"Susan_J_\\nMara\", \"Susan_J_Mara\", \"Susan_J_Mara\", \"TCBA\", \"TDS\", \"TX\", \"TX\", \"TX\", \"Terry_W_Donovan\", \"Texas\", \"The_Smith_Company\", \"Tim_Belden\", \"Tim_Belden\", \"Tim_Belden\", \"Tim_Belden\", \"Tomas\", \"Tori_Kuykendall\", \"Tori_Kuykendall\", \"Tori_Kuykendall\", \"Travis_McCullough\", \"Travis_McCullough\", \"Tyrell_Harrison@ECT\", \"VAR\", \"Vicki_Sharp\", \"Vicki_Sharp\", \"Vista_Insurance_Partners\", \"Vladimir_Gorny\", \"Wade\", \"Wade\", \"Wanda_Curry\", \"West_Gas_Trading\", \"Western\", \"William_S_Bradford\", \"William_S_Bradford\", \"Wimberley\", \"about_$225\", \"around_$745\", \"at_least_$84,000\", \"first\", \"first\", \"first\", \"first\", \"first\", \"first\", \"less_than_the_$6,000\", \"phillip\", \"second\", \"second\", \"second\", \"third\", \"third\", \"thousand_cubic_feet\"]}, \"R\": 30, \"lambda.step\": 0.01, \"plot.opts\": {\"xlab\": \"PC1\", \"ylab\": \"PC2\"}, \"topic.order\": [2, 7, 6, 3, 4, 5, 1]};\n",
       "\n",
       "function LDAvis_load_lib(url, callback){\n",
       "  var s = document.createElement('script');\n",
       "  s.src = url;\n",
       "  s.async = true;\n",
       "  s.onreadystatechange = s.onload = callback;\n",
       "  s.onerror = function(){console.warn(\"failed to load library \" + url);};\n",
       "  document.getElementsByTagName(\"head\")[0].appendChild(s);\n",
       "}\n",
       "\n",
       "if(typeof(LDAvis) !== \"undefined\"){\n",
       "   // already loaded: just create the visualization\n",
       "   !function(LDAvis){\n",
       "       new LDAvis(\"#\" + \"ldavis_el3527140041975586704241250451\", ldavis_el3527140041975586704241250451_data);\n",
       "   }(LDAvis);\n",
       "}else if(typeof define === \"function\" && define.amd){\n",
       "   // require.js is available: use it to load d3/LDAvis\n",
       "   require.config({paths: {d3: \"https://d3js.org/d3.v5\"}});\n",
       "   require([\"d3\"], function(d3){\n",
       "      window.d3 = d3;\n",
       "      LDAvis_load_lib(\"https://cdn.jsdelivr.net/gh/bmabey/pyLDAvis@3.3.1/pyLDAvis/js/ldavis.v3.0.0.js\", function(){\n",
       "        new LDAvis(\"#\" + \"ldavis_el3527140041975586704241250451\", ldavis_el3527140041975586704241250451_data);\n",
       "      });\n",
       "    });\n",
       "}else{\n",
       "    // require.js not available: dynamically load d3 & LDAvis\n",
       "    LDAvis_load_lib(\"https://d3js.org/d3.v5.js\", function(){\n",
       "         LDAvis_load_lib(\"https://cdn.jsdelivr.net/gh/bmabey/pyLDAvis@3.3.1/pyLDAvis/js/ldavis.v3.0.0.js\", function(){\n",
       "                 new LDAvis(\"#\" + \"ldavis_el3527140041975586704241250451\", ldavis_el3527140041975586704241250451_data);\n",
       "            })\n",
       "         });\n",
       "}\n",
       "</script>"
      ],
      "text/plain": [
       "PreparedData(topic_coordinates=              x         y  topics  cluster       Freq\n",
       "topic                                                \n",
       "1      0.121261 -0.026309       1        1  20.084002\n",
       "6     -0.237786 -0.012601       2        1  17.984342\n",
       "5      0.095064  0.102905       3        1  14.136389\n",
       "2      0.090648 -0.029059       4        1  13.667285\n",
       "3     -0.053044  0.177912       5        1  12.284688\n",
       "4      0.005895 -0.079038       6        1  11.273275\n",
       "0     -0.022037 -0.133810       7        1  10.570019, topic_info=                Term        Freq       Total Category  logprob  loglift\n",
       "28              Lucy   50.000000   50.000000  Default  30.0000  30.0000\n",
       "35               HOU   97.000000   97.000000  Default  29.0000  29.0000\n",
       "41   Phillip_K_Allen  111.000000  111.000000  Default  28.0000  28.0000\n",
       "2            Phillip  108.000000  108.000000  Default  27.0000  27.0000\n",
       "10     Phillip_Allen   40.000000   40.000000  Default  26.0000  26.0000\n",
       "..               ...         ...         ...      ...      ...      ...\n",
       "48             first    7.505039   23.139803   Topic7  -4.4185   1.1212\n",
       "437             Wade    4.364826   10.912408   Topic7  -4.9605   1.3308\n",
       "415  Tori_Kuykendall    3.541833    7.304388   Topic7  -5.1694   1.5233\n",
       "28              Lucy    3.904458   50.704723   Topic7  -5.0719  -0.3168\n",
       "166       California    3.647687   18.670899   Topic7  -5.1399   0.6143\n",
       "\n",
       "[339 rows x 6 columns], token_table=      Topic      Freq                 Term\n",
       "term                                      \n",
       "2311      6  0.861536          #9.\\n\\n\\n\\n\n",
       "1078      5  0.766298           $5_billion\n",
       "2270      2  0.882087                  +5%\n",
       "2439      6  0.861914                    0\n",
       "828       6  0.732000                 0.60\n",
       "...     ...       ...                  ...\n",
       "85        4  0.265542               second\n",
       "85        5  0.619597               second\n",
       "141       2  0.193289                third\n",
       "141       5  0.773156                third\n",
       "2373      2  0.931497  thousand_cubic_feet\n",
       "\n",
       "[420 rows x 3 columns], R=30, lambda_step=0.01, plot_opts={'xlab': 'PC1', 'ylab': 'PC2'}, topic_order=[2, 7, 6, 3, 4, 5, 1])"
      ]
     },
     "execution_count": 77,
     "metadata": {},
     "output_type": "execute_result"
    }
   ],
   "source": [
    "lda_model0 = LdaModel(corpus=corpus0,\n",
    "                   id2word=id2word0,\n",
    "                   num_topics=7,\n",
    "                   random_state=0,\n",
    "                   chunksize=400,\n",
    "                   alpha='auto',\n",
    "                   per_word_topics=True,\n",
    "                   iterations=75,\n",
    "                   passes=3)\n",
    "\n",
    "enable_notebook()\n",
    "p = prepare(lda_model0, corpus0, id2word0)\n",
    "p"
   ]
  },
  {
   "cell_type": "code",
   "execution_count": null,
   "id": "6ce68614-a49b-4510-9e3f-2bba09d83fa8",
   "metadata": {},
   "outputs": [],
   "source": []
  },
  {
   "cell_type": "code",
   "execution_count": 78,
   "id": "618dcd1a-5f2b-4da6-9fcf-0f999a5d1427",
   "metadata": {},
   "outputs": [
    {
     "name": "stderr",
     "output_type": "stream",
     "text": [
      "/home/robert_ubuntu/anaconda3/lib/python3.8/site-packages/ipykernel/ipkernel.py:287: DeprecationWarning: `should_run_async` will not call `transform_cell` automatically in the future. Please pass the result to `transformed_cell` argument and any exception that happen during thetransform in `preprocessing_exc_tuple` in IPython 7.17 and above.\n",
      "  and should_run_async(code)\n",
      "/home/robert_ubuntu/anaconda3/lib/python3.8/site-packages/pyLDAvis/_prepare.py:246: FutureWarning: In a future version of pandas all arguments of DataFrame.drop except for the argument 'labels' will be keyword-only\n",
      "  default_term_info = default_term_info.sort_values(\n"
     ]
    },
    {
     "data": {
      "text/html": [
       "\n",
       "<link rel=\"stylesheet\" type=\"text/css\" href=\"https://cdn.jsdelivr.net/gh/bmabey/pyLDAvis@3.3.1/pyLDAvis/js/ldavis.v1.0.0.css\">\n",
       "\n",
       "\n",
       "<div id=\"ldavis_el35271400419748090885305634594\"></div>\n",
       "<script type=\"text/javascript\">\n",
       "\n",
       "var ldavis_el35271400419748090885305634594_data = {\"mdsDat\": {\"x\": [-0.10201306642141995, -0.09763531513307694, 0.19070896345294114, 0.008939418101555595], \"y\": [-0.06735327116123839, -0.016919899529815038, -0.05103300741003469, 0.13530617810108816], \"topics\": [1, 2, 3, 4], \"cluster\": [1, 1, 1, 1], \"Freq\": [30.539616475841846, 27.042911928541002, 24.1803245408239, 18.23714705479325]}, \"tinfo\": {\"Term\": [\"hou\", \"ectect\", \"mail\", \"na\", \"pdx\", \"corp\", \"enronenron\", \"hr\", \"ect\", \"rent\", \"phillip_k_allen\", \"mm\", \"\", \"the_iso\", \"socal\", \"the_legislature\", \"line\", \"the_republicans\", \"director\", \"sources\", \"sf\", \"prices\", \"phillip\", \"the_buyer\", \"sce\", \"wade\", \"the_mou\", \"davis\", \"ees\", \"cost\", \"christopher_f_calger\", \"e\", \"hunter_s_shively\", \"frank_hayden\", \"cst\", \"this_meeting\", \"painewebber\", \"orders\", \"michael_mcdonald\", \"ca\", \"elliot_mainzer\", \"new_generation\", \"ed_clark\", \"vickers\", \"west\", \"david_w_delainey\", \"john_arnold\", \"sally_beck\", \"jeffrey_oh\", \"michael_etringer\", \"paul_kaufman\", \"cindy_cicchetti\", \"sr_specialist\", \"mail\", \"frank_w\", \"notice\", \"jake_thomas\", \"jeff_g\", \"julie_a_gomez\", \"scott_mills\", \"scott_neal\", \"east__basis\", \"steve_kean\", \"pdx\", \"ectect\", \"sf\", \"ect\", \"hou\", \"tim_belden\", \"phillip_k_allen\", \"robert_badeer\", \"pge\", \"hartsoe\", \"enronenron\", \"am\", \"subject\", \"corp\", \"pm\", \"enron\", \"enron_north_america_corp\", \"alan_comnes\", \"na\", \"scott\", \"john\", \"cc\", \"the_west_desk\", \"phillip\", \"eesees\", \"mark_whitt\", \"the_appraisal\", \"tomorrow\", \"barry_tycholiz\", \"gas__power_conf\", \"attorneyclient_communication\", \"attorney_work_product_privileges\", \"privileged__confidential_communication\", \"western_wholesale_activities\", \"generation\", \"advance\", \"leslie_lawner\", \"steve_walton\", \"matt_lenhart\", \"sce\", \"barry_t\", \"the_names\", \"janie_tholt\", \"paul_lucci\", \"highlights\", \"a_retention_payment\", \"the_table\", \"mark_whittenron\", \"analystpossible_associate\", \"assistant\", \"his_headcount\", \"his_numbers\", \"managerpossible_director\", \"marketing\", \"middle_market\", \"director\", \"manager\", \"richard_b_sanders\", \"christi_l_nicolay\", \"the_trading_track_program\", \"ina_rangel\", \"james_d_steffes\", \"na\", \"hou\", \"travis_mccullough\", \"susan_j_mara\", \"enronenron\", \"corp\", \"response\", \"larry\", \"ectect\", \"pm\", \"subject\", \"phillip_k_allen\", \"eesees\", \"thanks\", \"mike_grigsby\", \"ect\", \"am\", \"time\", \"pdx\", \"phillip\", \"phillip_allen\", \"the_west_desk\", \"the_buyer\", \"ees\", \"the_iso\", \"the_rentroll\", \"aes\", \"cb\", \"construction_loans\", \"budget\", \"puc\", \"profit\", \"the_name\", \"cost\", \"llc\", \"thousand_cubic_feet\", \"attachment\", \"the_total\", \"the_gas\", \"line\", \"dow_jones_newswires\", \"loans\", \"the_managers_unit\", \"repairs\", \"the_construction_contract\", \"bookkeeping\", \"regulators\", \"a_call\", \"prices\", \"company_inc\", \"dj_caliso\", \"dow_jones\", \"rolling_blackouts\", \"the_cost\", \"improvements\", \"lot\", \"value\", \"\", \"the_deal\", \"creekside_builders\", \"utilities\", \"lucy\", \"the_project\", \"larry_lewter\", \"phillip\", \"the_stage\", \"the_property\", \"phillip_allen\", \"george_richards\", \"cash\", \"gas\", \"subject\", \"phillip_k_allen\", \"pm\", \"ect\", \"am\", \"power\", \"mail\", \"the_legislature\", \"the_republicans\", \"the_mou\", \"sb\", \"the_senate\", \"bankruptcy\", \"bonds\", \"opal\", \"the_bond_issuance\", \"bridge_loan\", \"the_dwr\", \"owa\", \"ans\", \"any_deposit\", \"his_deposit\", \"the__file\", \"tomas\", \"mm\", \"davis\", \"your_mailbox\", \"the_longterm_power_contracts\", \"a_bond_issuance\", \"rate_payments\", \"hr\", \"senator_bowen\", \"the_crisis\", \"support\", \"the_general_fund\", \"the_bonds\", \"the_lease\", \"socal\", \"this_file\", \"wade\", \"rent\", \"sources\", \"ab\", \"nyc\", \"investors\", \"udcs\", \"gary\", \"corp\", \"na\", \"the_state\", \"home\", \"the_utilities\", \"questions\", \"hou\", \"phillip_k_allen\", \"enronenron\", \"phillip\", \"power\", \"ectect\", \"ect\", \"the_office\"], \"Freq\": [1046.0, 285.0, 146.0, 226.0, 104.0, 180.0, 162.0, 32.0, 173.0, 31.0, 265.0, 22.0, 45.0, 23.0, 20.0, 13.0, 20.0, 13.0, 22.0, 14.0, 26.0, 17.0, 71.0, 13.0, 17.0, 12.0, 10.0, 11.0, 12.0, 13.0, 10.887220781469146, 10.482566571902275, 9.999045292218796, 7.331358972400754, 15.661961637213022, 7.191104102759055, 6.20084551536933, 6.200851134132729, 6.200764745645457, 7.006790402262834, 5.781235913495613, 9.668690800469879, 5.36159856897761, 5.735064076430035, 5.82093493512456, 5.7236822176454965, 5.802270456628387, 5.690668822116949, 4.920094050825517, 5.289485603640337, 8.44366412428953, 4.782717743908105, 5.158237260555889, 131.15746801460057, 6.978221799756283, 4.201737608363329, 4.201568343115909, 4.201461586611312, 4.282631296203722, 4.3620802595049275, 7.200392621004436, 4.728031373255475, 6.315230193627257, 84.18270684980236, 211.29447417855334, 22.254539611020412, 116.67019455226861, 571.1825404790768, 22.140725939592993, 162.77047385656735, 11.468905369475179, 13.211297244332593, 8.006989986797748, 82.69093078590485, 43.68237370673029, 47.27886549628844, 68.41214715828784, 36.56279084328796, 16.354132886368333, 9.772328189034738, 11.770729887715918, 46.088064112667446, 7.994276832260157, 10.777266498152002, 8.13056766432326, 8.775313038656689, 8.64900183273715, 8.066689347921184, 11.738463568847521, 10.307815368336335, 10.363119760416577, 8.477648846439937, 7.227695824676824, 7.227708263251805, 7.227389213803544, 7.223250277978637, 7.21422422604372, 7.203314973856689, 8.729896305837102, 6.449481978353239, 6.447841952242002, 5.821585822959281, 15.798415686482874, 5.68266932985718, 7.242146961089676, 5.446187142319605, 4.752131139495167, 6.90525251123224, 4.740052661259928, 5.045008582138813, 5.6128783514253895, 4.360691050631325, 4.360691050631325, 4.360691050631325, 4.360691050631325, 4.360691050631325, 4.360691050631325, 4.360691050631325, 19.85282517510672, 12.182658763849263, 5.910495513065522, 7.3419074420805375, 4.444297243330068, 9.769912924858208, 14.120009108285144, 138.22225145354517, 421.95033608077296, 10.72915157216686, 13.539421207044933, 61.46695469336779, 65.9283531115104, 9.733525117608973, 10.480552968740353, 61.12978970450452, 29.047933514162104, 29.887059684096087, 47.54354223808635, 10.822204551599249, 11.149720937849809, 10.35184916762635, 25.317084944944877, 18.15088854461755, 10.406896703133237, 16.465532534577974, 14.376350724637284, 10.946116391701846, 9.90183893882102, 13.131507820106464, 11.470557623206226, 22.244547920880304, 10.107613391542746, 11.274155848957186, 8.733037312345521, 8.732619684698257, 7.242527019733989, 9.049093578251483, 7.261290234709177, 8.927307572916842, 12.190119493631057, 6.380259391028499, 6.840450024304098, 5.755923853420304, 4.976716858411325, 5.724679633231782, 18.536071134898755, 5.710894028204222, 5.299574171089657, 4.657690765008401, 4.6353449054027145, 4.620134583953993, 4.688767322433074, 4.608895061726702, 5.9004296925188005, 15.01796916119413, 4.597922187244902, 4.597922187244902, 4.597922187244902, 8.893764454334455, 11.867587496763178, 7.272304816346163, 10.703811057880689, 7.160153163859545, 34.80238772378503, 8.786784489090932, 9.298181499217995, 14.140793170843468, 15.071475548630266, 17.83247587567002, 10.49427987117902, 36.19077776887534, 7.479289642199862, 11.945575428198236, 17.11714255468567, 9.287788076145583, 10.469278934074177, 11.94796997500133, 22.998437560500427, 32.415370452441714, 19.12486605923884, 22.927286265943497, 14.992036208194726, 10.517929496455828, 12.147364654706534, 13.285541699647652, 12.891532234520032, 9.543338843906408, 8.046661872888567, 7.667039185083277, 8.286608422143733, 6.187800655774604, 6.811880702411808, 5.801274814568687, 5.798825430288983, 5.79698671441874, 6.698460788977783, 4.635450941622578, 4.634328586771124, 4.634328586771124, 4.634328586771124, 4.634328586771124, 19.532009303072332, 9.954395855854724, 4.79133034436411, 3.933706959053631, 3.93338778415006, 3.93145344163328, 28.333534502435466, 3.931551584770515, 3.9296281470467607, 3.9289130442733198, 3.926117642522596, 3.5496858649227825, 3.5417824064695727, 17.52127283933299, 5.952958388485877, 10.739830350162785, 24.56456625162682, 11.875699595496487, 8.528329936171449, 6.263245885740654, 4.940347696386423, 5.171547343389322, 6.724590770143854, 45.59014801502549, 42.39849292830125, 9.219989921097087, 7.212584452212094, 8.36160823325618, 8.502981325367209, 50.0158062571856, 22.533409304700797, 18.105821753005305, 12.045388240945083, 7.916393215399017, 10.390710884942138, 8.875790195191666, 7.013693190454771], \"Total\": [1046.0, 285.0, 146.0, 226.0, 104.0, 180.0, 162.0, 32.0, 173.0, 31.0, 265.0, 22.0, 45.0, 23.0, 20.0, 13.0, 20.0, 13.0, 22.0, 14.0, 26.0, 17.0, 71.0, 13.0, 17.0, 12.0, 10.0, 11.0, 12.0, 13.0, 11.452255865044194, 11.03032484404755, 10.669874281958624, 7.8744844851753735, 16.837636170051947, 7.747099992197602, 6.721048616677155, 6.721061741803025, 6.721069467108353, 7.632649520973574, 6.301529452077242, 10.56089728342084, 5.88183696585455, 6.294506745586778, 6.3931458871272095, 6.2944854960831105, 6.390080479731432, 6.288767646157525, 5.44025025925634, 5.871236837791525, 9.396901522085548, 5.329485778197698, 5.749802129866525, 146.37802123063963, 7.829644110037723, 4.721873665476208, 4.721864376787269, 4.721838190251236, 4.818414317841918, 4.910243678876398, 8.122686629116096, 5.328053512991207, 7.186575321705166, 104.25788623281498, 285.1789107435678, 26.92017856168008, 173.79035595834864, 1046.1532237353542, 28.846116605152186, 265.2627958517962, 13.9628052629963, 16.38784378372447, 9.351624113929502, 162.4452011140873, 80.1996201536618, 104.01326857697129, 180.13783247087923, 88.98637897846768, 29.13562399346885, 13.548724837101412, 18.328194950032657, 226.94820779119664, 10.121544279673158, 21.630437838597828, 10.887535560641767, 22.258423001771437, 71.26151856719486, 19.550173552734684, 12.294203091118257, 10.886981418754047, 10.984289154220924, 9.102765413160574, 7.815357017408426, 7.8155115570836955, 7.815434992802768, 7.8159128861454095, 7.816918666929546, 7.814930310548092, 9.474578232251352, 7.076432675317421, 7.076555732789335, 6.416871297182607, 17.49519013268073, 6.303323324848867, 8.037546768072467, 6.04560271736336, 5.295723243118949, 7.702241386596661, 5.296160321927003, 5.675746227187869, 6.315676409649181, 4.9106056744224285, 4.9106056744224285, 4.9106056744224285, 4.9106056744224285, 4.9106056744224285, 4.9106056744224285, 4.9106056744224285, 22.44392998408147, 13.879364805068159, 6.7246588560998655, 8.540747702005877, 5.0116894507090235, 11.853815111105472, 17.956028997483788, 226.94820779119664, 1046.1532237353542, 14.996834911813254, 20.373537954209738, 162.4452011140873, 180.13783247087923, 14.369999697230503, 16.623667936001347, 285.1789107435678, 88.98637897846768, 104.01326857697129, 265.2627958517962, 19.550173552734684, 21.147597790869334, 18.460752292756762, 173.79035595834864, 80.1996201536618, 21.794846538203124, 104.25788623281498, 71.26151856719486, 36.26664465266391, 22.258423001771437, 13.816606403925105, 12.096758520603355, 23.47903201567573, 10.691155947141969, 12.079857958118462, 9.426118018089555, 9.425804165566118, 7.822830802214796, 9.80831356112485, 7.909621935647935, 9.752947210104013, 13.373858181703925, 7.001907815233968, 7.526560199896283, 6.386717277239173, 5.556846434294739, 6.392706489913676, 20.746839916359104, 6.401225223180727, 5.945011525317874, 5.24577850328958, 5.25357400305922, 5.257550476368443, 5.345436089851863, 5.258850899962972, 6.738792975779377, 17.19548076004262, 5.265613456651204, 5.265613456651204, 5.265613456651204, 10.323073926489869, 13.920174682832476, 8.421338186270107, 12.605250674552138, 8.351299978106292, 45.016865725068, 10.734682146900342, 11.61513033135831, 19.243616235726538, 21.898940236982945, 27.443277970660997, 13.983692920488918, 71.26151856719486, 9.280280489547696, 19.12388759921678, 36.26664465266391, 13.480686716170482, 17.239797711895818, 23.33055555856043, 104.01326857697129, 265.2627958517962, 88.98637897846768, 173.79035595834864, 80.1996201536618, 32.18993806343094, 146.37802123063963, 13.884493336192579, 13.490486694462696, 10.124702268818892, 8.638104138010165, 8.243383850425165, 8.935258996849686, 6.75908102094702, 7.447968890439308, 6.36439014144227, 6.3644242064863175, 6.363947634285517, 7.428505538902263, 5.167654707471676, 5.166928187359438, 5.166928187359438, 5.166928187359438, 5.166928187359438, 22.00277879251758, 11.309022391319719, 5.454655947800056, 4.4846216808661055, 4.48435136315053, 4.483742491480709, 32.31612349203269, 4.484358466628857, 4.483913482120132, 4.483813453114083, 4.483687200460747, 4.090141507453402, 4.0864212061495975, 20.621251766843244, 6.922772747509647, 12.82225595821814, 31.0741975979702, 14.688947516877192, 10.373131173364715, 7.7836795798002845, 5.884005990097537, 6.605232381539517, 9.642682381700496, 180.13783247087923, 226.94820779119664, 18.662846579838018, 12.062053036543805, 16.936137967426617, 18.787849877848107, 1046.1532237353542, 265.2627958517962, 162.4452011140873, 71.26151856719486, 32.18993806343094, 285.1789107435678, 173.79035595834864, 22.97816332055537], \"Category\": [\"Default\", \"Default\", \"Default\", \"Default\", \"Default\", \"Default\", \"Default\", \"Default\", \"Default\", \"Default\", \"Default\", \"Default\", \"Default\", \"Default\", \"Default\", \"Default\", \"Default\", \"Default\", \"Default\", \"Default\", \"Default\", \"Default\", \"Default\", \"Default\", \"Default\", \"Default\", \"Default\", \"Default\", \"Default\", \"Default\", \"Topic1\", \"Topic1\", \"Topic1\", \"Topic1\", \"Topic1\", \"Topic1\", \"Topic1\", \"Topic1\", \"Topic1\", \"Topic1\", \"Topic1\", \"Topic1\", \"Topic1\", \"Topic1\", \"Topic1\", \"Topic1\", \"Topic1\", \"Topic1\", \"Topic1\", \"Topic1\", \"Topic1\", \"Topic1\", \"Topic1\", \"Topic1\", \"Topic1\", \"Topic1\", \"Topic1\", \"Topic1\", \"Topic1\", \"Topic1\", \"Topic1\", \"Topic1\", \"Topic1\", \"Topic1\", \"Topic1\", \"Topic1\", \"Topic1\", \"Topic1\", \"Topic1\", \"Topic1\", \"Topic1\", \"Topic1\", \"Topic1\", \"Topic1\", \"Topic1\", \"Topic1\", \"Topic1\", \"Topic1\", \"Topic1\", \"Topic1\", \"Topic1\", \"Topic1\", \"Topic1\", \"Topic1\", \"Topic1\", \"Topic1\", \"Topic1\", \"Topic1\", \"Topic2\", \"Topic2\", \"Topic2\", \"Topic2\", \"Topic2\", \"Topic2\", \"Topic2\", \"Topic2\", \"Topic2\", \"Topic2\", \"Topic2\", \"Topic2\", \"Topic2\", \"Topic2\", \"Topic2\", \"Topic2\", \"Topic2\", \"Topic2\", \"Topic2\", \"Topic2\", \"Topic2\", \"Topic2\", \"Topic2\", \"Topic2\", \"Topic2\", \"Topic2\", \"Topic2\", \"Topic2\", \"Topic2\", \"Topic2\", \"Topic2\", \"Topic2\", \"Topic2\", \"Topic2\", \"Topic2\", \"Topic2\", \"Topic2\", \"Topic2\", \"Topic2\", \"Topic2\", \"Topic2\", \"Topic2\", \"Topic2\", \"Topic2\", \"Topic2\", \"Topic2\", \"Topic2\", \"Topic2\", \"Topic2\", \"Topic2\", \"Topic2\", \"Topic2\", \"Topic2\", \"Topic2\", \"Topic2\", \"Topic2\", \"Topic2\", \"Topic2\", \"Topic2\", \"Topic3\", \"Topic3\", \"Topic3\", \"Topic3\", \"Topic3\", \"Topic3\", \"Topic3\", \"Topic3\", \"Topic3\", \"Topic3\", \"Topic3\", \"Topic3\", \"Topic3\", \"Topic3\", \"Topic3\", \"Topic3\", \"Topic3\", \"Topic3\", \"Topic3\", \"Topic3\", \"Topic3\", \"Topic3\", \"Topic3\", \"Topic3\", \"Topic3\", \"Topic3\", \"Topic3\", \"Topic3\", \"Topic3\", \"Topic3\", \"Topic3\", \"Topic3\", \"Topic3\", \"Topic3\", \"Topic3\", \"Topic3\", \"Topic3\", \"Topic3\", \"Topic3\", \"Topic3\", \"Topic3\", \"Topic3\", \"Topic3\", \"Topic3\", \"Topic3\", \"Topic3\", \"Topic3\", \"Topic3\", \"Topic3\", \"Topic3\", \"Topic3\", \"Topic3\", \"Topic3\", \"Topic3\", \"Topic3\", \"Topic3\", \"Topic4\", \"Topic4\", \"Topic4\", \"Topic4\", \"Topic4\", \"Topic4\", \"Topic4\", \"Topic4\", \"Topic4\", \"Topic4\", \"Topic4\", \"Topic4\", \"Topic4\", \"Topic4\", \"Topic4\", \"Topic4\", \"Topic4\", \"Topic4\", \"Topic4\", \"Topic4\", \"Topic4\", \"Topic4\", \"Topic4\", \"Topic4\", \"Topic4\", \"Topic4\", \"Topic4\", \"Topic4\", \"Topic4\", \"Topic4\", \"Topic4\", \"Topic4\", \"Topic4\", \"Topic4\", \"Topic4\", \"Topic4\", \"Topic4\", \"Topic4\", \"Topic4\", \"Topic4\", \"Topic4\", \"Topic4\", \"Topic4\", \"Topic4\", \"Topic4\", \"Topic4\", \"Topic4\", \"Topic4\", \"Topic4\", \"Topic4\", \"Topic4\", \"Topic4\", \"Topic4\", \"Topic4\"], \"logprob\": [30.0, 29.0, 28.0, 27.0, 26.0, 25.0, 24.0, 23.0, 22.0, 21.0, 20.0, 19.0, 18.0, 17.0, 16.0, 15.0, 14.0, 13.0, 12.0, 11.0, 10.0, 9.0, 8.0, 7.0, 6.0, 5.0, 4.0, 3.0, 2.0, 1.0, -6.3174, -6.3553, -6.4025, -6.7129, -5.9538, -6.7322, -6.8803, -6.8803, -6.8803, -6.7581, -6.9504, -6.4361, -7.0258, -6.9584, -6.9436, -6.9604, -6.9468, -6.9662, -7.1117, -7.0393, -6.5716, -7.14, -7.0644, -3.8286, -6.7622, -7.2695, -7.2696, -7.2696, -7.2504, -7.2321, -6.7309, -7.1515, -6.8621, -4.272, -3.3518, -5.6025, -3.9457, -2.3573, -5.6076, -3.6127, -6.2654, -6.1239, -6.6247, -4.2899, -4.9281, -4.849, -4.4795, -5.106, -5.9105, -6.4255, -6.2394, -4.8745, -6.6263, -6.3276, -6.6094, -6.5331, -6.5476, -6.6173, -6.1205, -6.2505, -6.2452, -6.446, -6.6055, -6.6055, -6.6055, -6.6061, -6.6074, -6.6089, -6.4167, -6.7194, -6.7197, -6.8218, -5.8235, -6.846, -6.6035, -6.8885, -7.0248, -6.6511, -7.0274, -6.965, -6.8584, -7.1108, -7.1108, -7.1108, -7.1108, -7.1108, -7.1108, -7.1108, -5.5951, -6.0834, -6.8067, -6.5898, -7.0918, -6.3041, -5.9358, -3.6546, -2.5385, -6.2105, -5.9778, -4.4649, -4.3948, -6.3078, -6.2339, -4.4704, -5.2145, -5.186, -4.7218, -6.2018, -6.172, -6.2463, -5.3519, -5.6847, -6.2409, -5.7821, -5.9178, -6.1904, -6.2907, -5.8965, -6.0317, -5.3694, -6.1582, -6.049, -6.3044, -6.3045, -6.4916, -6.2689, -6.489, -6.2824, -5.9709, -6.6183, -6.5487, -6.7213, -6.8668, -6.7267, -5.5518, -6.7292, -6.8039, -6.933, -6.9378, -6.9411, -6.9264, -6.9435, -6.6965, -5.7623, -6.9459, -6.9459, -6.9459, -6.2862, -5.9977, -6.4875, -6.1009, -6.503, -4.9218, -6.2983, -6.2417, -5.8225, -5.7587, -5.5905, -6.1207, -4.8827, -6.4594, -5.9912, -5.6315, -6.2428, -6.1231, -5.991, -5.3361, -4.9929, -5.5205, -5.3392, -5.764, -6.1184, -5.9744, -5.6028, -5.6329, -5.9336, -6.1042, -6.1525, -6.0748, -6.3669, -6.2708, -6.4314, -6.4318, -6.4321, -6.2876, -6.6557, -6.656, -6.656, -6.656, -6.656, -5.2174, -5.8914, -6.6226, -6.8199, -6.82, -6.8204, -4.8454, -6.8204, -6.8209, -6.8211, -6.8218, -6.9226, -6.9248, -5.326, -6.4056, -5.8155, -4.9881, -5.715, -6.0461, -6.3548, -6.592, -6.5463, -6.2837, -4.3698, -4.4423, -5.9681, -6.2136, -6.0658, -6.049, -4.2771, -5.0745, -5.2932, -5.7008, -6.1205, -5.8485, -6.0061, -6.2416], \"loglift\": [30.0, 29.0, 28.0, 27.0, 26.0, 25.0, 24.0, 23.0, 22.0, 21.0, 20.0, 19.0, 18.0, 17.0, 16.0, 15.0, 14.0, 13.0, 12.0, 11.0, 10.0, 9.0, 8.0, 7.0, 6.0, 5.0, 4.0, 3.0, 2.0, 1.0, 1.1355, 1.1352, 1.1212, 1.1147, 1.1138, 1.1117, 1.1056, 1.1056, 1.1056, 1.1006, 1.1, 1.0979, 1.0935, 1.0931, 1.0924, 1.0911, 1.0896, 1.0862, 1.0856, 1.0818, 1.0792, 1.0779, 1.0776, 1.0764, 1.071, 1.0694, 1.0694, 1.0694, 1.0683, 1.0678, 1.0656, 1.0667, 1.0569, 0.9723, 0.8863, 0.9958, 0.7876, 0.581, 0.9216, 0.6978, 0.9894, 0.9707, 1.0309, 0.5109, 0.5786, 0.3977, 0.218, 0.2967, 0.6087, 0.8594, 0.7433, -0.408, 0.9502, 0.4895, 0.8942, 0.2554, -0.9228, 0.3009, 1.2615, 1.2531, 1.2495, 1.2366, 1.2296, 1.2296, 1.2295, 1.2289, 1.2275, 1.2263, 1.2259, 1.215, 1.2147, 1.2104, 1.2057, 1.2041, 1.2035, 1.2033, 1.1994, 1.1985, 1.1968, 1.1899, 1.1898, 1.189, 1.189, 1.189, 1.189, 1.189, 1.189, 1.189, 1.1851, 1.1774, 1.1787, 1.1565, 1.1876, 1.1144, 1.0674, 0.8119, 0.3998, 0.9729, 0.8991, 0.3359, 0.3026, 0.9182, 0.8464, -0.2324, 0.1882, 0.0607, -0.4113, 0.7164, 0.6676, 0.7293, -0.6186, -0.1781, 0.5685, -0.5379, -0.293, 0.1098, 0.4977, 1.3688, 1.3665, 1.3656, 1.3635, 1.3506, 1.3433, 1.3432, 1.3426, 1.3391, 1.3341, 1.3312, 1.327, 1.3267, 1.324, 1.3156, 1.3094, 1.3093, 1.307, 1.3055, 1.3047, 1.3007, 1.2944, 1.2904, 1.2886, 1.2877, 1.2868, 1.2842, 1.284, 1.284, 1.284, 1.2706, 1.2601, 1.2729, 1.2561, 1.2657, 1.1623, 1.2194, 1.1971, 1.1115, 1.046, 0.9885, 1.1326, 0.7421, 1.2039, 0.9491, 0.6688, 1.0471, 0.9209, 0.7504, -0.0895, -0.6825, -0.1179, -0.6059, -0.2574, 0.3011, -1.0694, 1.6576, 1.6563, 1.6426, 1.6308, 1.6292, 1.6263, 1.6134, 1.6124, 1.6091, 1.6086, 1.6084, 1.5983, 1.593, 1.5929, 1.5929, 1.5929, 1.5929, 1.5826, 1.5741, 1.572, 1.5706, 1.5706, 1.5703, 1.5702, 1.5701, 1.5698, 1.5696, 1.5689, 1.56, 1.5587, 1.5388, 1.5508, 1.5245, 1.4666, 1.4891, 1.5059, 1.4844, 1.5269, 1.457, 1.3413, 0.3277, 0.0241, 0.9965, 1.1875, 0.9959, 0.9089, -1.3388, -0.764, -0.4924, -0.076, 0.299, -1.6105, -1.2728, 0.515]}, \"token.table\": {\"Topic\": [1, 2, 3, 4, 4, 3, 2, 1, 2, 4, 2, 3, 1, 2, 1, 2, 3, 4, 2, 4, 4, 2, 3, 2, 2, 4, 2, 2, 4, 3, 4, 3, 1, 2, 3, 4, 3, 1, 2, 1, 2, 1, 1, 3, 3, 1, 2, 4, 2, 3, 1, 3, 1, 2, 1, 1, 2, 4, 1, 2, 3, 3, 3, 3, 1, 1, 1, 2, 3, 4, 1, 2, 3, 4, 1, 3, 1, 2, 4, 1, 1, 2, 3, 4, 1, 2, 1, 2, 4, 1, 1, 2, 3, 4, 1, 2, 3, 4, 2, 2, 1, 3, 4, 1, 2, 2, 4, 2, 2, 3, 4, 1, 2, 3, 4, 1, 2, 4, 1, 1, 3, 1, 2, 4, 1, 1, 2, 4, 2, 1, 1, 1, 2, 4, 1, 1, 2, 3, 4, 1, 3, 2, 3, 4, 3, 3, 1, 3, 4, 2, 3, 4, 1, 3, 4, 1, 2, 2, 2, 2, 2, 2, 1, 1, 2, 1, 2, 4, 2, 3, 4, 1, 2, 4, 1, 2, 1, 2, 4, 4, 1, 4, 1, 1, 2, 1, 2, 3, 1, 3, 1, 2, 3, 4, 1, 2, 3, 4, 1, 2, 3, 4, 1, 2, 3, 4, 1, 2, 3, 4, 2, 3, 2, 3, 3, 1, 2, 3, 4, 4, 3, 2, 3, 4, 3, 1, 2, 3, 2, 1, 2, 1, 3, 1, 4, 1, 2, 1, 2, 4, 1, 1, 2, 4, 1, 2, 1, 4, 3, 4, 1, 1, 2, 1, 2, 3, 4, 4, 1, 2, 1, 2, 3, 4, 4, 2, 4, 4, 3, 3, 1, 2, 3, 4, 1, 3, 4, 4, 3, 4, 3, 4, 4, 4, 3, 4, 3, 2, 1, 2, 3, 4, 1, 2, 3, 4, 1, 3, 4, 3, 4, 4, 1, 3, 4, 1, 2, 3, 4, 2, 3, 2, 2, 3, 4, 1, 2, 4, 3, 4, 1, 3, 1, 2, 4, 1, 2, 3, 4, 4, 2, 1, 2, 4, 1, 4, 1, 2, 3, 1, 3, 1, 1, 2, 4, 1, 2, 4], \"Freq\": [0.088855586357994, 0.088855586357994, 0.7774863806324475, 0.06664168976849551, 0.8919907643431749, 0.8903671653907824, 0.9440801818817968, 0.09640290701882946, 0.09640290701882946, 0.8676261631694652, 0.9499103579475556, 0.9106067337991565, 0.6547289590008764, 0.3273644795004382, 0.5486310273751468, 0.22443996574437824, 0.18703330478698185, 0.03740666095739637, 0.8145634704155855, 0.9675569059927183, 0.9676929538583839, 0.8145634704155855, 0.9394497579190884, 0.895663517954701, 0.8956547436303711, 0.8953293914390806, 0.9518788249917135, 0.878853802871134, 0.8876946409438565, 0.9353773791239105, 0.9427404279377051, 0.8948167456233572, 0.9171127248493289, 0.05800532098529087, 0.5800532098529086, 0.2900266049264543, 0.9547939016600686, 0.7347852005112936, 0.1836963001278234, 0.11708576753357793, 0.8196003727350455, 0.9605094515549013, 0.9381768163177044, 0.9495569777694758, 0.9548256935867981, 0.3774887210935702, 0.36638611164964163, 0.2553600172103563, 0.07477273845837902, 0.8972728615005483, 0.17218920002993315, 0.7748514001346992, 0.9502521516920648, 0.05939075948075405, 0.9532153189857439, 0.08842497303458817, 0.08842497303458817, 0.8842497303458817, 0.04455547672396312, 0.8911095344792624, 0.04455547672396312, 0.9495569777694758, 0.9495569777694758, 0.9373205583006559, 0.9065916136999755, 0.9384290131111999, 0.6732249287068652, 0.14385148049291993, 0.13234336205348635, 0.05178653297745117, 0.7398864083246699, 0.21390080998959649, 0.0070131413111343115, 0.03506570655567156, 0.8500745649745443, 0.9093345114945179, 0.4092035284710277, 0.562654851647663, 0.05115044105887846, 0.9521497988114861, 0.5491559063086008, 0.3089001972985879, 0.0686444882885751, 0.0686444882885751, 0.7380768389816514, 0.22142305169449542, 0.5109415324722831, 0.3755112467567382, 0.11080659740362767, 0.8889470813204735, 0.8940380816320749, 0.12771972594743927, 0.207411166398628, 0.725939082395198, 0.12858673649969052, 0.3000357184992779, 0.5143469459987621, 0.04286224549989684, 0.895672454170392, 0.8957213592233636, 0.22254059182322006, 0.6676217754696602, 0.07418019727440668, 0.855466377020413, 0.10693329712755162, 0.9088263595816807, 0.9676929538583839, 0.8145634704155855, 0.8145634704155855, 0.33161850539716564, 0.5803323844450399, 0.5458091482633963, 0.4033825929372211, 0.002867648764956548, 0.04779414608260914, 0.06188861112915, 0.06188861112915, 0.8664405558081, 0.9372181654388099, 0.11874597336921695, 0.8312218135845187, 0.16872205119230027, 0.8436102559615013, 0.8497612015376478, 0.8471230176927653, 0.16707480258694143, 0.7796824120723934, 0.05569160086231382, 0.8270473985397151, 0.8471277156973418, 0.919075366338658, 0.5085426417199637, 0.32361804473088596, 0.18492459698907768, 0.9389553103487945, 0.8301486207171012, 0.6015519582380083, 0.30077597911900417, 0.06015519582380083, 0.21453560351031434, 0.7151186783677144, 0.8478848418819817, 0.915802121026552, 0.09640022326595284, 0.856909310766113, 0.8410412626967372, 0.07933202010959055, 0.872652221205496, 0.07933202010959055, 0.0913286203969998, 0.6849646529774984, 0.22832155099249948, 0.8949430993713916, 0.08197952055310458, 0.020494880138276144, 0.07204940673040326, 0.8645928807648392, 0.8145634704155855, 0.9760697713436344, 0.9500170070197254, 0.8145634704155855, 0.9350351163555924, 0.8516093181280621, 0.8927150700290882, 0.8145634704155855, 0.27084486702970356, 0.5416897340594071, 0.16250692021782212, 0.09089760974555332, 0.04544880487277666, 0.9089760974555332, 0.2026894173243361, 0.6080682519730083, 0.1850642506004808, 0.9468892397711914, 0.09468892397711914, 0.8471213512648256, 0.12847394214365362, 0.7708436528619218, 0.93985354973564, 0.892716096131325, 0.9423160504278786, 0.8927178394621348, 0.8513444544669955, 0.9441581008782512, 0.8056944470600743, 0.15346560896382366, 0.02877480168071694, 0.7932709251787539, 0.12204168079673136, 0.1262953720459044, 0.19645946762696243, 0.5051814881836176, 0.16839382939453923, 0.11029418459604275, 0.30330900763911756, 0.4687502845331816, 0.11029418459604275, 0.6144849656605029, 0.18095262792456526, 0.12063508528304352, 0.08670646754718753, 0.41579397234438553, 0.32589257291857243, 0.21351582363630608, 0.04495069971290654, 0.18639364848036913, 0.24852486464049217, 0.3417216888806767, 0.24852486464049217, 0.11630962971663043, 0.8723222228747283, 0.8956087538294205, 0.8849980513545973, 0.9175889355404998, 0.1596776650603943, 0.21290355341385908, 0.21290355341385908, 0.4790329951811829, 0.8921118925986853, 0.9507780492569593, 0.16090520066483086, 0.03218104013296617, 0.8045260033241542, 0.9517330482236358, 0.13917884774802433, 0.6958942387401217, 0.13917884774802433, 0.892238569776289, 0.7878073061114578, 0.14323769202026507, 0.09687037089155359, 0.8718333380239823, 0.9540819978721962, 0.9261291450282103, 0.05715856714995148, 0.9145370743992237, 0.7903932225111339, 0.09879915281389173, 0.09879915281389173, 0.8146235220886864, 0.8617838308458459, 0.12311197583512085, 0.8919893513791782, 0.8172308348398633, 0.14858742451633877, 0.145480984079913, 0.872885904479478, 0.1361567939229176, 0.8169407635375056, 0.8695951420707532, 0.8348900180421923, 0.8478700976237499, 0.4518654268154196, 0.28842474052048056, 0.22112563439903513, 0.03845663206939741, 0.8920977738763716, 0.2944996599748761, 0.6871658732747108, 0.14186008404676947, 0.5201536415048214, 0.23643347341128246, 0.09457338936451298, 0.9676929538583839, 0.9185282508863181, 0.9427454739033813, 0.9779612741297242, 0.9408967455501144, 0.95101321850811, 0.071838178958579, 0.071838178958579, 0.862058147502948, 0.8920778725883617, 0.09315599533505999, 0.8384039580155399, 0.09315599533505999, 0.9428110262371168, 0.93856960419921, 0.8921228937622938, 0.9370062609613438, 0.9788516156828025, 0.9362963188662435, 0.8919369981789609, 0.9531473730475934, 0.987683364358976, 0.9227979815861237, 0.8709125062644846, 0.2611174755918213, 0.17407831706121418, 0.21759789632651774, 0.30463705485712483, 0.2550715700756865, 0.03643879572509807, 0.6558983230517653, 0.07287759145019614, 0.2091624926808198, 0.6274874780424594, 0.15687186951061485, 0.9353525520945438, 0.9636420311904669, 0.9704752496254785, 0.10775536376581417, 0.7542875463606992, 0.10775536376581417, 0.05358239407488498, 0.05358239407488498, 0.37507675852419486, 0.4822415466739648, 0.8809414304059403, 0.8997909262242528, 0.7981340502720303, 0.354272031294256, 0.177136015647128, 0.47236270839234135, 0.40434131381561644, 0.44926812646179604, 0.1347804379385388, 0.1444507911024139, 0.8667047466144834, 0.90356391514889, 0.9300397278555562, 0.7626676512869186, 0.13866684568853066, 0.06933342284426533, 0.09176481222266454, 0.4588240611133227, 0.3211768427793259, 0.09176481222266454, 0.9676929538583839, 0.9103911832252984, 0.20004221008239884, 0.7334881036354624, 0.06668073669413294, 0.15139512771644903, 0.7569756385822451, 0.05196528488982545, 0.2078611395593018, 0.7275139884575563, 0.11974183691420412, 0.8381928583994288, 0.9532121010445713, 0.07798939619194485, 0.07798939619194485, 0.8578833581113934, 0.9385050968539885, 0.8954935183877987, 0.916648098037526], \"Term\": [\"\", \"\", \"\", \"\", \"a_bond_issuance\", \"a_call\", \"a_retention_payment\", \"ab\", \"ab\", \"ab\", \"advance\", \"aes\", \"alan_comnes\", \"alan_comnes\", \"am\", \"am\", \"am\", \"am\", \"analystpossible_associate\", \"ans\", \"any_deposit\", \"assistant\", \"attachment\", \"attorney_work_product_privileges\", \"attorneyclient_communication\", \"bankruptcy\", \"barry_t\", \"barry_tycholiz\", \"bonds\", \"bookkeeping\", \"bridge_loan\", \"budget\", \"ca\", \"cash\", \"cash\", \"cash\", \"cb\", \"cc\", \"cc\", \"christi_l_nicolay\", \"christi_l_nicolay\", \"christopher_f_calger\", \"cindy_cicchetti\", \"company_inc\", \"construction_loans\", \"corp\", \"corp\", \"corp\", \"cost\", \"cost\", \"creekside_builders\", \"creekside_builders\", \"cst\", \"cst\", \"david_w_delainey\", \"davis\", \"davis\", \"davis\", \"director\", \"director\", \"director\", \"dj_caliso\", \"dow_jones\", \"dow_jones_newswires\", \"e\", \"east__basis\", \"ect\", \"ect\", \"ect\", \"ect\", \"ectect\", \"ectect\", \"ectect\", \"ectect\", \"ed_clark\", \"ees\", \"eesees\", \"eesees\", \"eesees\", \"elliot_mainzer\", \"enron\", \"enron\", \"enron\", \"enron\", \"enron_north_america_corp\", \"enron_north_america_corp\", \"enronenron\", \"enronenron\", \"enronenron\", \"frank_hayden\", \"frank_w\", \"frank_w\", \"gary\", \"gary\", \"gas\", \"gas\", \"gas\", \"gas\", \"gas__power_conf\", \"generation\", \"george_richards\", \"george_richards\", \"george_richards\", \"hartsoe\", \"hartsoe\", \"highlights\", \"his_deposit\", \"his_headcount\", \"his_numbers\", \"home\", \"home\", \"hou\", \"hou\", \"hou\", \"hou\", \"hr\", \"hr\", \"hr\", \"hunter_s_shively\", \"improvements\", \"improvements\", \"ina_rangel\", \"ina_rangel\", \"investors\", \"jake_thomas\", \"james_d_steffes\", \"james_d_steffes\", \"james_d_steffes\", \"janie_tholt\", \"jeff_g\", \"jeffrey_oh\", \"john\", \"john\", \"john\", \"john_arnold\", \"julie_a_gomez\", \"larry\", \"larry\", \"larry\", \"larry_lewter\", \"larry_lewter\", \"leslie_lawner\", \"line\", \"line\", \"llc\", \"loans\", \"lot\", \"lot\", \"lot\", \"lucy\", \"lucy\", \"lucy\", \"mail\", \"mail\", \"mail\", \"manager\", \"manager\", \"managerpossible_director\", \"mark_whitt\", \"mark_whittenron\", \"marketing\", \"matt_lenhart\", \"michael_etringer\", \"michael_mcdonald\", \"middle_market\", \"mike_grigsby\", \"mike_grigsby\", \"mike_grigsby\", \"mm\", \"mm\", \"mm\", \"na\", \"na\", \"na\", \"new_generation\", \"new_generation\", \"notice\", \"nyc\", \"nyc\", \"opal\", \"orders\", \"owa\", \"painewebber\", \"paul_kaufman\", \"paul_lucci\", \"pdx\", \"pdx\", \"pdx\", \"pge\", \"pge\", \"phillip\", \"phillip\", \"phillip\", \"phillip\", \"phillip_allen\", \"phillip_allen\", \"phillip_allen\", \"phillip_allen\", \"phillip_k_allen\", \"phillip_k_allen\", \"phillip_k_allen\", \"phillip_k_allen\", \"pm\", \"pm\", \"pm\", \"pm\", \"power\", \"power\", \"power\", \"power\", \"prices\", \"prices\", \"privileged__confidential_communication\", \"profit\", \"puc\", \"questions\", \"questions\", \"questions\", \"questions\", \"rate_payments\", \"regulators\", \"rent\", \"rent\", \"rent\", \"repairs\", \"response\", \"response\", \"response\", \"richard_b_sanders\", \"robert_badeer\", \"robert_badeer\", \"rolling_blackouts\", \"rolling_blackouts\", \"sally_beck\", \"sb\", \"sce\", \"sce\", \"scott\", \"scott\", \"scott\", \"scott_mills\", \"scott_neal\", \"scott_neal\", \"senator_bowen\", \"sf\", \"sf\", \"socal\", \"socal\", \"sources\", \"sources\", \"sr_specialist\", \"steve_kean\", \"steve_walton\", \"subject\", \"subject\", \"subject\", \"subject\", \"support\", \"susan_j_mara\", \"susan_j_mara\", \"thanks\", \"thanks\", \"thanks\", \"thanks\", \"the__file\", \"the_appraisal\", \"the_bond_issuance\", \"the_bonds\", \"the_buyer\", \"the_construction_contract\", \"the_cost\", \"the_cost\", \"the_cost\", \"the_crisis\", \"the_deal\", \"the_deal\", \"the_deal\", \"the_dwr\", \"the_gas\", \"the_general_fund\", \"the_iso\", \"the_lease\", \"the_legislature\", \"the_longterm_power_contracts\", \"the_managers_unit\", \"the_mou\", \"the_name\", \"the_names\", \"the_office\", \"the_office\", \"the_office\", \"the_office\", \"the_project\", \"the_project\", \"the_project\", \"the_project\", \"the_property\", \"the_property\", \"the_property\", \"the_rentroll\", \"the_republicans\", \"the_senate\", \"the_stage\", \"the_stage\", \"the_stage\", \"the_state\", \"the_state\", \"the_state\", \"the_state\", \"the_table\", \"the_total\", \"the_trading_track_program\", \"the_utilities\", \"the_utilities\", \"the_utilities\", \"the_west_desk\", \"the_west_desk\", \"the_west_desk\", \"this_file\", \"this_file\", \"this_meeting\", \"thousand_cubic_feet\", \"tim_belden\", \"tim_belden\", \"tim_belden\", \"time\", \"time\", \"time\", \"time\", \"tomas\", \"tomorrow\", \"travis_mccullough\", \"travis_mccullough\", \"travis_mccullough\", \"udcs\", \"udcs\", \"utilities\", \"utilities\", \"utilities\", \"value\", \"value\", \"vickers\", \"wade\", \"wade\", \"wade\", \"west\", \"western_wholesale_activities\", \"your_mailbox\"]}, \"R\": 30, \"lambda.step\": 0.01, \"plot.opts\": {\"xlab\": \"PC1\", \"ylab\": \"PC2\"}, \"topic.order\": [4, 2, 3, 1]};\n",
       "\n",
       "function LDAvis_load_lib(url, callback){\n",
       "  var s = document.createElement('script');\n",
       "  s.src = url;\n",
       "  s.async = true;\n",
       "  s.onreadystatechange = s.onload = callback;\n",
       "  s.onerror = function(){console.warn(\"failed to load library \" + url);};\n",
       "  document.getElementsByTagName(\"head\")[0].appendChild(s);\n",
       "}\n",
       "\n",
       "if(typeof(LDAvis) !== \"undefined\"){\n",
       "   // already loaded: just create the visualization\n",
       "   !function(LDAvis){\n",
       "       new LDAvis(\"#\" + \"ldavis_el35271400419748090885305634594\", ldavis_el35271400419748090885305634594_data);\n",
       "   }(LDAvis);\n",
       "}else if(typeof define === \"function\" && define.amd){\n",
       "   // require.js is available: use it to load d3/LDAvis\n",
       "   require.config({paths: {d3: \"https://d3js.org/d3.v5\"}});\n",
       "   require([\"d3\"], function(d3){\n",
       "      window.d3 = d3;\n",
       "      LDAvis_load_lib(\"https://cdn.jsdelivr.net/gh/bmabey/pyLDAvis@3.3.1/pyLDAvis/js/ldavis.v3.0.0.js\", function(){\n",
       "        new LDAvis(\"#\" + \"ldavis_el35271400419748090885305634594\", ldavis_el35271400419748090885305634594_data);\n",
       "      });\n",
       "    });\n",
       "}else{\n",
       "    // require.js not available: dynamically load d3 & LDAvis\n",
       "    LDAvis_load_lib(\"https://d3js.org/d3.v5.js\", function(){\n",
       "         LDAvis_load_lib(\"https://cdn.jsdelivr.net/gh/bmabey/pyLDAvis@3.3.1/pyLDAvis/js/ldavis.v3.0.0.js\", function(){\n",
       "                 new LDAvis(\"#\" + \"ldavis_el35271400419748090885305634594\", ldavis_el35271400419748090885305634594_data);\n",
       "            })\n",
       "         });\n",
       "}\n",
       "</script>"
      ],
      "text/plain": [
       "PreparedData(topic_coordinates=              x         y  topics  cluster       Freq\n",
       "topic                                                \n",
       "3     -0.102013 -0.067353       1        1  30.539616\n",
       "1     -0.097635 -0.016920       2        1  27.042912\n",
       "2      0.190709 -0.051033       3        1  24.180325\n",
       "0      0.008939  0.135306       4        1  18.237147, topic_info=            Term         Freq        Total Category  logprob  loglift\n",
       "207          hou  1046.000000  1046.000000  Default  30.0000  30.0000\n",
       "195       ectect   285.000000   285.000000  Default  29.0000  29.0000\n",
       "1191        mail   146.000000   146.000000  Default  28.0000  28.0000\n",
       "345           na   226.000000   226.000000  Default  27.0000  27.0000\n",
       "1516         pdx   104.000000   104.000000  Default  26.0000  26.0000\n",
       "...          ...          ...          ...      ...      ...      ...\n",
       "30       phillip    12.045388    71.261519   Topic4  -5.7008  -0.0760\n",
       "112        power     7.916393    32.189938   Topic4  -6.1205   0.2990\n",
       "195       ectect    10.390711   285.178911   Topic4  -5.8485  -1.6105\n",
       "78           ect     8.875790   173.790356   Topic4  -6.0061  -1.2728\n",
       "848   the_office     7.013693    22.978163   Topic4  -6.2416   0.5150\n",
       "\n",
       "[257 rows x 6 columns], token_table=      Topic      Freq                          Term\n",
       "term                                               \n",
       "500       1  0.088856                              \n",
       "500       2  0.088856                              \n",
       "500       3  0.777486                              \n",
       "500       4  0.066642                              \n",
       "3629      4  0.891991               a_bond_issuance\n",
       "...     ...       ...                           ...\n",
       "1929      2  0.077989                          wade\n",
       "1929      4  0.857883                          wade\n",
       "405       1  0.938505                          west\n",
       "3626      2  0.895494  western_wholesale_activities\n",
       "1402      4  0.916648                  your_mailbox\n",
       "\n",
       "[348 rows x 3 columns], R=30, lambda_step=0.01, plot_opts={'xlab': 'PC1', 'ylab': 'PC2'}, topic_order=[4, 2, 3, 1])"
      ]
     },
     "execution_count": 78,
     "metadata": {},
     "output_type": "execute_result"
    }
   ],
   "source": [
    "lda_model1 = LdaModel(corpus=corpus1,\n",
    "                   id2word=id2word1,\n",
    "                   num_topics=4,\n",
    "                   random_state=0,\n",
    "                   chunksize=400,\n",
    "                   alpha='auto',\n",
    "                   per_word_topics=True,\n",
    "                   iterations=75,\n",
    "                   passes=3)\n",
    "\n",
    "enable_notebook()\n",
    "p = prepare(lda_model1, corpus1, id2word1)\n",
    "p"
   ]
  },
  {
   "cell_type": "markdown",
   "id": "b5ee07cb-b29d-48b8-980e-03eceaae0033",
   "metadata": {},
   "source": [
    "## Summary"
   ]
  },
  {
   "cell_type": "markdown",
   "id": "ad5cbe5f-7ab7-41a4-b58b-4222cb50dbb7",
   "metadata": {},
   "source": [
    "It appears that with further study and investigation the topics of Philip Allen's emails could be discovered and his major collaborators found through determining the time differences of the emails as was setup to be calculated above. Especially useful would be the other half of the conversation in the emails. However, per person, an analysis could be done on the topics for a few of the major recipients of Allen's emails."
   ]
  },
  {
   "cell_type": "code",
   "execution_count": null,
   "id": "1d2fb3a7-a354-46b9-94fc-e0e92be8ef1d",
   "metadata": {},
   "outputs": [],
   "source": []
  }
 ],
 "metadata": {
  "kernelspec": {
   "display_name": "Python 3",
   "language": "python",
   "name": "python3"
  },
  "language_info": {
   "codemirror_mode": {
    "name": "ipython",
    "version": 3
   },
   "file_extension": ".py",
   "mimetype": "text/x-python",
   "name": "python",
   "nbconvert_exporter": "python",
   "pygments_lexer": "ipython3",
   "version": "3.8.10"
  }
 },
 "nbformat": 4,
 "nbformat_minor": 5
}
